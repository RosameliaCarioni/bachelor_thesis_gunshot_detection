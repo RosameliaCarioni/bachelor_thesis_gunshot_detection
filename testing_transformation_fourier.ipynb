{
 "cells": [
  {
   "cell_type": "code",
   "execution_count": 1,
   "metadata": {},
   "outputs": [
    {
     "name": "stderr",
     "output_type": "stream",
     "text": [
      "/Users/rosameliacarioni/miniconda3/envs/bach_thesis_4/lib/python3.9/site-packages/tensorflow_io-0.32.0-py3.9-macosx-11.0-arm64.egg/tensorflow_io/python/ops/__init__.py:98: UserWarning: unable to load libtensorflow_io_plugins.so: unable to open file: libtensorflow_io_plugins.so, from paths: ['/Users/rosameliacarioni/miniconda3/envs/bach_thesis_4/lib/python3.9/site-packages/tensorflow_io-0.32.0-py3.9-macosx-11.0-arm64.egg/tensorflow_io/python/ops/libtensorflow_io_plugins.so']\n",
      "caused by: [\"[Errno 2] The file to load file system plugin from does not exist.: '/Users/rosameliacarioni/miniconda3/envs/bach_thesis_4/lib/python3.9/site-packages/tensorflow_io-0.32.0-py3.9-macosx-11.0-arm64.egg/tensorflow_io/python/ops/libtensorflow_io_plugins.so'\"]\n",
      "  warnings.warn(f\"unable to load libtensorflow_io_plugins.so: {e}\")\n",
      "/Users/rosameliacarioni/miniconda3/envs/bach_thesis_4/lib/python3.9/site-packages/tensorflow_io-0.32.0-py3.9-macosx-11.0-arm64.egg/tensorflow_io/python/ops/__init__.py:104: UserWarning: file system plugins are not loaded: unable to open file: libtensorflow_io.so, from paths: ['/Users/rosameliacarioni/miniconda3/envs/bach_thesis_4/lib/python3.9/site-packages/tensorflow_io-0.32.0-py3.9-macosx-11.0-arm64.egg/tensorflow_io/python/ops/libtensorflow_io.so']\n",
      "caused by: [\"dlopen(/Users/rosameliacarioni/miniconda3/envs/bach_thesis_4/lib/python3.9/site-packages/tensorflow_io-0.32.0-py3.9-macosx-11.0-arm64.egg/tensorflow_io/python/ops/libtensorflow_io.so, 0x0006): tried: '/Users/rosameliacarioni/miniconda3/envs/bach_thesis_4/lib/python3.9/site-packages/tensorflow_io-0.32.0-py3.9-macosx-11.0-arm64.egg/tensorflow_io/python/ops/libtensorflow_io.so' (no such file)\"]\n",
      "  warnings.warn(f\"file system plugins are not loaded: {e}\")\n"
     ]
    }
   ],
   "source": [
    "import tensorflow as tf\n",
    "import tensorflow_io as tfio\n",
    "import os \n",
    "\n"
   ]
  },
  {
   "cell_type": "code",
   "execution_count": 112,
   "metadata": {},
   "outputs": [],
   "source": [
    "def convert_to_spectogram(wave):\n",
    "     # Create spectogram \n",
    "    # 1. Fast fourier transform \n",
    "    spectrogram = tf.signal.stft(wave, frame_length=256, frame_step=128,  window_fn=tf.signal.inverse_stft_window_fn(frame_step))  # Paper: 'Automated detection of gunshots in tropical forests using CNN' \n",
    "    # frame_length =  window length in samples\n",
    "    # frame_step = number of samples to step\n",
    "    # 'Time frequency compromise' \n",
    "    # if window size is small: you get good time resolution in exchange of poor frequency resolution \n",
    "\n",
    "    # 2. Obtain the magnitude of the STFT\n",
    "    # spectrogram = tf.abs(spectrogram)\n",
    "\n",
    "    # 3. Tranform it into appropiate format for deep learning model by adding the channel dimension (in this case 1)\n",
    "    # spectrogram = tf.expand_dims(spectrogram, axis=2)\n",
    "    return spectrogram"
   ]
  },
  {
   "cell_type": "code",
   "execution_count": 99,
   "metadata": {},
   "outputs": [],
   "source": [
    "def read_in_data(file_name, label): \n",
    "\n",
    "    file_contents = tf.io.read_file(file_name) #retuns a string \n",
    "    wave, _ = tf.audio.decode_wav(file_contents, desired_channels=1) # transforms string into actual wav\n",
    "    wave = wave - tf.reduce_mean(wave) # remove the mean \n",
    "    wave = wave / tf.reduce_max(tf.abs(wave)) #normalize \n",
    "    wave = tf.squeeze(wave, axis= -1) #removes axis \n",
    "    return wave, label"
   ]
  },
  {
   "cell_type": "code",
   "execution_count": 3,
   "metadata": {},
   "outputs": [],
   "source": [
    "file = '/Users/rosameliacarioni/University/Thesis/code/data/train/Clips_ELP/ecoguns0.wav'\n"
   ]
  },
  {
   "cell_type": "code",
   "execution_count": 113,
   "metadata": {},
   "outputs": [],
   "source": [
    "wave, label = read_in_data(file, 1)\n",
    "spect= convert_to_spectogram(wave)"
   ]
  },
  {
   "cell_type": "code",
   "execution_count": 114,
   "metadata": {},
   "outputs": [
    {
     "data": {
      "text/plain": [
       "<tf.Tensor: shape=(7644,), dtype=float32, numpy=\n",
       "array([-0.08867513,  0.00858117,  0.21996477, ...,  0.04728521,\n",
       "        0.14057188, -0.04004698], dtype=float32)>"
      ]
     },
     "execution_count": 114,
     "metadata": {},
     "output_type": "execute_result"
    }
   ],
   "source": [
    "wave"
   ]
  },
  {
   "cell_type": "code",
   "execution_count": 116,
   "metadata": {},
   "outputs": [
    {
     "data": {
      "text/plain": [
       "<tf.Tensor: shape=(58, 129), dtype=complex64, numpy=\n",
       "array([[-1.09455156e+01 +0.j        ,  2.51917267e+00-10.109248j  ,\n",
       "         6.69474173e+00 +0.9809136j , ..., -9.44817066e-02 -0.03853589j,\n",
       "         9.67510939e-02 -0.11757708j,  1.90820694e-02 +0.j        ],\n",
       "       [-4.18903999e+01 +0.j        ,  2.57818909e+01 -0.5289569j ,\n",
       "         9.66362298e-01 +7.1473694j , ..., -9.55257714e-02 -0.46248984j,\n",
       "         1.50493622e-01 +0.40819922j, -1.00242615e-01 +0.j        ],\n",
       "       [ 2.50697556e+01 +0.j        , -1.84537449e+01+17.603657j  ,\n",
       "         2.16696405e+00 -0.64258325j, ..., -6.08183146e-02 +0.10573232j,\n",
       "        -2.20406532e-01 -0.20995998j,  2.49312401e-01 +0.j        ],\n",
       "       ...,\n",
       "       [-5.16371822e+00 +0.j        ,  5.10531235e+00+13.309803j  ,\n",
       "        -6.18728638e-01 -7.0034447j , ...,  3.86216164e-01 +0.22757936j,\n",
       "        -6.65707588e-02 -0.4538269j , -1.19612217e-02 +0.j        ],\n",
       "       [ 1.68410931e+01 +0.j        , -7.85362911e+00 -5.601885j  ,\n",
       "        -2.88678980e+00 +7.358494j  , ...,  9.61800814e-02 -0.3937986j ,\n",
       "         4.99629974e-03 +0.36444283j,  5.64613342e-02 +0.j        ],\n",
       "       [ 1.64761848e+01 +0.j        , -3.55272007e+00 +5.965477j  ,\n",
       "        -9.69621086e+00 -0.4557342j , ...,  1.23612404e-01 -0.4249826j ,\n",
       "        -1.16968155e-01 -0.03472686j,  2.14386940e-01 +0.j        ]],\n",
       "      dtype=complex64)>"
      ]
     },
     "execution_count": 116,
     "metadata": {},
     "output_type": "execute_result"
    }
   ],
   "source": [
    "spect"
   ]
  },
  {
   "cell_type": "code",
   "execution_count": 57,
   "metadata": {},
   "outputs": [],
   "source": [
    "#spectrogram = tf.complex(spect, tf.zeros_like(spect))  # convert to complex"
   ]
  },
  {
   "cell_type": "code",
   "execution_count": 117,
   "metadata": {},
   "outputs": [],
   "source": [
    "frame_length=256\n",
    "frame_step=128\n",
    "\n",
    "waveform = tf.random.normal(dtype=tf.float32, shape=[1000])\n",
    "stft = tf.signal.stft(waveform, frame_length, frame_step)\n",
    "inverse_stft = tf.signal.inverse_stft(\n",
    "    stft, frame_length, frame_step,\n",
    "    window_fn=tf.signal.inverse_stft_window_fn(frame_step))"
   ]
  },
  {
   "cell_type": "code",
   "execution_count": null,
   "metadata": {},
   "outputs": [],
   "source": [
    "# Convert the magnitude spectrogram to a complex-valued tensor\n",
    "import numpy as np\n",
    "stft = spect * tf.exp(tf.complex(0.0, 2.0 * np.pi * np.random.rand(*spect.shape)))\n",
    "\n",
    "# Compute the iSTFT\n",
    "frame_length = 256\n",
    "frame_step = 128\n",
    "waveform = tf.signal.inverse_stft(stft, frame_length=frame_length, frame_step=frame_step)\n",
    "\n"
   ]
  },
  {
   "cell_type": "code",
   "execution_count": 118,
   "metadata": {},
   "outputs": [],
   "source": [
    "frame_length=256\n",
    "frame_step=128\n",
    "\n",
    "waveform = tf.signal.inverse_stft(spect, frame_length, frame_step, window_fn=tf.signal.inverse_stft_window_fn(frame_step))\n",
    "#waveform = tf.signal.inverse_stft(spect, frame_length, frame_step)\n",
    "\n"
   ]
  },
  {
   "cell_type": "code",
   "execution_count": 119,
   "metadata": {},
   "outputs": [
    {
     "data": {
      "text/plain": [
       "<tf.Tensor: shape=(7552,), dtype=float32, numpy=\n",
       "array([ 0.0000000e+00,  2.0201928e-10,  7.9947732e-08, ...,\n",
       "       -1.1397610e-07,  9.0696535e-09,  3.4792208e-10], dtype=float32)>"
      ]
     },
     "execution_count": 119,
     "metadata": {},
     "output_type": "execute_result"
    }
   ],
   "source": [
    "waveform"
   ]
  }
 ],
 "metadata": {
  "kernelspec": {
   "display_name": "bach_thesis_4",
   "language": "python",
   "name": "python3"
  },
  "language_info": {
   "codemirror_mode": {
    "name": "ipython",
    "version": 3
   },
   "file_extension": ".py",
   "mimetype": "text/x-python",
   "name": "python",
   "nbconvert_exporter": "python",
   "pygments_lexer": "ipython3",
   "version": "3.9.16"
  },
  "orig_nbformat": 4
 },
 "nbformat": 4,
 "nbformat_minor": 2
}
