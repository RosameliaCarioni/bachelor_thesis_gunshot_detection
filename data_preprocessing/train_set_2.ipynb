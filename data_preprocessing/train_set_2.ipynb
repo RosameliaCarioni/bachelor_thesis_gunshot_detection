{
 "cells": [
  {
   "attachments": {},
   "cell_type": "markdown",
   "metadata": {},
   "source": [
    "# This notebook is used to add extra information to the data frame that will be used at later stages of this work"
   ]
  },
  {
   "cell_type": "code",
   "execution_count": 12,
   "metadata": {
    "collapsed": true
   },
   "outputs": [],
   "source": [
    "import wave\n",
    "\n",
    "import pandas as pd"
   ]
  },
  {
   "attachments": {},
   "cell_type": "markdown",
   "metadata": {
    "collapsed": false
   },
   "source": [
    "## Find sampling rate + number samples + number channels and save information in df"
   ]
  },
  {
   "cell_type": "code",
   "execution_count": 13,
   "metadata": {
    "collapsed": false
   },
   "outputs": [],
   "source": [
    "other = pd.read_csv(\"/Users/rosameliacarioni/University/Thesis/code/data_frames/train/ecoGuns_SST_Guns_Training-OtherSounds.csv\")\n",
    "ecoguns = pd.read_csv(\"/Users/rosameliacarioni/University/Thesis/code/data_frames/train/Guns_Training_ecoGuns_SST.csv\")\n",
    "pnn = pd.read_csv(\"/Users/rosameliacarioni/University/Thesis/code/data_frames/train/nn_Grid50_guns_dep1-7_Guns_Training.csv\")"
   ]
  },
  {
   "cell_type": "code",
   "execution_count": 14,
   "metadata": {
    "collapsed": false
   },
   "outputs": [],
   "source": [
    "def sampling_rate_and_number_samples_channels(instance_of_df):\n",
    "    clip_location = instance_of_df[\"Clip Location\"]\n",
    "    temp = wave.open(clip_location, \"rb\")  # rb : read and write to that file\n",
    "    sample_rate = temp.getframerate()  # returns sampling frequency = how many samples per second\n",
    "    number_samples = temp.getnframes()  # total number of frames in this recording = total number of samples\n",
    "    channel = temp.getnchannels()\n",
    "    return sample_rate, number_samples, channel\n",
    "\n",
    "\n",
    "def sampling_all(df):\n",
    "    df[\"Sampling Rate/Frequency\"], df[\"Total number of Samples\"], df[\"Channel\"] = zip(\n",
    "        *df.apply(sampling_rate_and_number_samples_channels, axis=1)\n",
    "    )"
   ]
  },
  {
   "cell_type": "code",
   "execution_count": 15,
   "metadata": {
    "collapsed": false
   },
   "outputs": [],
   "source": [
    "sampling_all(other)\n",
    "sampling_all(ecoguns)\n",
    "sampling_all(pnn)\n",
    "\n",
    "# update Dfs\n",
    "other.to_csv(\"/Users/rosameliacarioni/University/Thesis/code/data_frames/train/ecoGuns_SST_Guns_Training-OtherSounds.csv\")\n",
    "ecoguns.to_csv(\"/Users/rosameliacarioni/University/Thesis/code/data_frames/train/Guns_Training_ecoGuns_SST.csv\")\n",
    "pnn.to_csv(\"/Users/rosameliacarioni/University/Thesis/code/data_frames/train/nn_Grid50_guns_dep1-7_Guns_Training.csv\")"
   ]
  }
 ],
 "metadata": {
  "kernelspec": {
   "display_name": "Python 3",
   "language": "python",
   "name": "python3"
  },
  "language_info": {
   "codemirror_mode": {
    "name": "ipython",
    "version": 2
   },
   "file_extension": ".py",
   "mimetype": "text/x-python",
   "name": "python",
   "nbconvert_exporter": "python",
   "pygments_lexer": "ipython2",
   "version": "2.7.6"
  }
 },
 "nbformat": 4,
 "nbformat_minor": 0
}
