{
 "cells": [
  {
   "attachments": {},
   "cell_type": "markdown",
   "metadata": {},
   "source": [
    "# This notebook creates clips (from the test data) that do not contain gunshots, obtained from long 24 hours audios. "
   ]
  },
  {
   "cell_type": "code",
   "execution_count": 1,
   "metadata": {},
   "outputs": [
    {
     "name": "stderr",
     "output_type": "stream",
     "text": [
      "/Users/rosameliacarioni/miniconda3/envs/bach_thesis_4/lib/python3.9/site-packages/pydub/utils.py:170: RuntimeWarning: Couldn't find ffmpeg or avconv - defaulting to ffmpeg, but may not work\n",
      "  warn(\"Couldn't find ffmpeg or avconv - defaulting to ffmpeg, but may not work\", RuntimeWarning)\n",
      "/Users/rosameliacarioni/miniconda3/envs/bach_thesis_4/lib/python3.9/site-packages/tensorflow_io-0.32.0-py3.9-macosx-11.0-arm64.egg/tensorflow_io/python/ops/__init__.py:98: UserWarning: unable to load libtensorflow_io_plugins.so: unable to open file: libtensorflow_io_plugins.so, from paths: ['/Users/rosameliacarioni/miniconda3/envs/bach_thesis_4/lib/python3.9/site-packages/tensorflow_io-0.32.0-py3.9-macosx-11.0-arm64.egg/tensorflow_io/python/ops/libtensorflow_io_plugins.so']\n",
      "caused by: [\"[Errno 2] The file to load file system plugin from does not exist.: '/Users/rosameliacarioni/miniconda3/envs/bach_thesis_4/lib/python3.9/site-packages/tensorflow_io-0.32.0-py3.9-macosx-11.0-arm64.egg/tensorflow_io/python/ops/libtensorflow_io_plugins.so'\"]\n",
      "  warnings.warn(f\"unable to load libtensorflow_io_plugins.so: {e}\")\n",
      "/Users/rosameliacarioni/miniconda3/envs/bach_thesis_4/lib/python3.9/site-packages/tensorflow_io-0.32.0-py3.9-macosx-11.0-arm64.egg/tensorflow_io/python/ops/__init__.py:104: UserWarning: file system plugins are not loaded: unable to open file: libtensorflow_io.so, from paths: ['/Users/rosameliacarioni/miniconda3/envs/bach_thesis_4/lib/python3.9/site-packages/tensorflow_io-0.32.0-py3.9-macosx-11.0-arm64.egg/tensorflow_io/python/ops/libtensorflow_io.so']\n",
      "caused by: [\"dlopen(/Users/rosameliacarioni/miniconda3/envs/bach_thesis_4/lib/python3.9/site-packages/tensorflow_io-0.32.0-py3.9-macosx-11.0-arm64.egg/tensorflow_io/python/ops/libtensorflow_io.so, 0x0006): tried: '/Users/rosameliacarioni/miniconda3/envs/bach_thesis_4/lib/python3.9/site-packages/tensorflow_io-0.32.0-py3.9-macosx-11.0-arm64.egg/tensorflow_io/python/ops/libtensorflow_io.so' (no such file)\"]\n",
      "  warnings.warn(f\"file system plugins are not loaded: {e}\")\n"
     ]
    }
   ],
   "source": [
    "import wave\n",
    "\n",
    "import pandas as pd\n",
    "from pydub import AudioSegment"
   ]
  },
  {
   "cell_type": "markdown",
   "metadata": {},
   "source": [
    "Read in data frames"
   ]
  },
  {
   "cell_type": "code",
   "execution_count": 2,
   "metadata": {},
   "outputs": [],
   "source": [
    "pnnn_1 = pd.read_csv(\"/Users/rosameliacarioni/University/Thesis/code/data_frames/test/pnnn_1.csv\")\n",
    "pnnn_3 = pd.read_csv(\"/Users/rosameliacarioni/University/Thesis/code/data_frames/test/pnnn_3.csv\")\n",
    "pnnn_4 = pd.read_csv(\"/Users/rosameliacarioni/University/Thesis/code/data_frames/test/pnnn_4.csv\")"
   ]
  },
  {
   "cell_type": "markdown",
   "metadata": {},
   "source": [
    "# Making clips that don't contain gunshots "
   ]
  },
  {
   "cell_type": "code",
   "execution_count": 3,
   "metadata": {},
   "outputs": [],
   "source": [
    "files_pnnn_1 = pnnn_1[\"Begin File\"].unique().tolist()\n",
    "files_pnnn_3 = pnnn_3[\"Begin File\"].unique().tolist()\n",
    "files_pnnn_4 = pnnn_4[\"Begin File\"].unique().tolist()"
   ]
  },
  {
   "cell_type": "code",
   "execution_count": 4,
   "metadata": {},
   "outputs": [],
   "source": [
    "def check_time_period_in_list(clip_start_time, start_gun, end_gun):\n",
    "    # start_point_gun and end_point_gun refer to the values where gunshots occur\n",
    "    # start_time refers to\n",
    "    length_clip = 10  # seconds\n",
    "    clip_end_time = clip_start_time + length_clip\n",
    "    # 1. check if the gunshot is in between the start and end point considered for the clip that we want to make\n",
    "    if (clip_start_time < start_gun < clip_end_time) or (clip_start_time < end_gun < clip_end_time):  # within\n",
    "        return True\n",
    "    # check if the gunshot started before the clip we want to make and it will carry on in the clip we want to make\n",
    "    elif (start_gun < clip_start_time) and (clip_start_time < end_gun < clip_end_time):\n",
    "        return True\n",
    "    elif (start_gun < clip_start_time) and (end_gun > clip_end_time):\n",
    "        return True\n",
    "    else:\n",
    "        return False\n",
    "\n",
    "\n",
    "def create_clip(file, start, counter):\n",
    "    file_export_external = \"/Volumes/Meli_disk/thesis_data/test/Clips_ELP/no_gunshot_pnnn/\" + str(counter) + file\n",
    "    file_location = \"/Volumes/Meli_Disk/thesis_data/Sounds_ELP/\" + file\n",
    "    second_to_milliseconds = 1000\n",
    "    length_clip = 10\n",
    "    audio = AudioSegment.from_wav(file_location)\n",
    "    clip = audio[start * second_to_milliseconds : start * second_to_milliseconds + length_clip * second_to_milliseconds]\n",
    "    clip.export(file_export_external, format=\"wav\")\n",
    "\n",
    "\n",
    "# for each file, make 10 seconds long clips.\n",
    "def create_clips_without_gunshots(files_in_df, df):\n",
    "    for file in files_in_df:\n",
    "        # obtain a new df that has information about gunshots within the same file\n",
    "        new_df = df[df[\"Begin File\"].str.contains(file)]\n",
    "        # obtain the begin and end time of gunshots in the file\n",
    "        time_begining_seconds = new_df[\"File Offset (s)\"].tolist()\n",
    "        time_end_seconds = (new_df[\"File Offset (s)\"] + new_df[\"delta time (s)\"]).tolist()\n",
    "\n",
    "        # ensure that the order within the times is from lowest to highest\n",
    "        sorted_pairs = sorted(zip(time_begining_seconds, time_end_seconds))\n",
    "        sorted_begin_times, sorted_end_times = zip(*sorted_pairs)\n",
    "\n",
    "        # transform them back in lists\n",
    "        sorted_begin_times = list(sorted_begin_times)\n",
    "        sorted_end_times = list(sorted_end_times)\n",
    "\n",
    "        # Get the file\n",
    "        file_location = \"/Volumes/Meli_disk/thesis_data/Sounds_ELP/\" + file\n",
    "\n",
    "        wav_file = wave.open(file_location, \"r\")\n",
    "        frames = wav_file.getnframes()\n",
    "        rate = wav_file.getframerate()\n",
    "        duration_seconds = frames / float(rate)\n",
    "\n",
    "        counter = 0\n",
    "        for i in range(0, int(duration_seconds) + 1, 10):\n",
    "            result = False\n",
    "            for start, end in zip(sorted_begin_times, sorted_end_times):\n",
    "                result = check_time_period_in_list(i, start, end)\n",
    "                if result is True:  # if a gunshot occurs in that specific interval, break for lop\n",
    "                    break\n",
    "            if result is False:\n",
    "                create_clip(file, start, counter)\n",
    "                counter += 1"
   ]
  },
  {
   "attachments": {},
   "cell_type": "markdown",
   "metadata": {},
   "source": [
    "Call method"
   ]
  },
  {
   "cell_type": "code",
   "execution_count": null,
   "metadata": {},
   "outputs": [],
   "source": [
    "create_clips_without_gunshots(files_pnnn_1, pnnn_1) "
   ]
  },
  {
   "cell_type": "code",
   "execution_count": 7,
   "metadata": {},
   "outputs": [],
   "source": [
    "create_clips_without_gunshots(files_pnnn_3, pnnn_3)"
   ]
  },
  {
   "cell_type": "code",
   "execution_count": null,
   "metadata": {},
   "outputs": [],
   "source": [
    "create_clips_without_gunshots(files_pnnn_4, pnnn_4) "
   ]
  }
 ],
 "metadata": {
  "kernelspec": {
   "display_name": "bach_thesis_4",
   "language": "python",
   "name": "python3"
  },
  "language_info": {
   "codemirror_mode": {
    "name": "ipython",
    "version": 3
   },
   "file_extension": ".py",
   "mimetype": "text/x-python",
   "name": "python",
   "nbconvert_exporter": "python",
   "pygments_lexer": "ipython3",
   "version": "3.9.16"
  },
  "orig_nbformat": 4
 },
 "nbformat": 4,
 "nbformat_minor": 2
}
