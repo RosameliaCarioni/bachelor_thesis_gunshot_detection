{
 "cells": [
  {
   "cell_type": "code",
   "execution_count": 1,
   "metadata": {},
   "outputs": [
    {
     "name": "stderr",
     "output_type": "stream",
     "text": [
      "/Users/rosameliacarioni/miniconda3/envs/bach_thesis_4/lib/python3.9/site-packages/tensorflow_io-0.32.0-py3.9-macosx-11.0-arm64.egg/tensorflow_io/python/ops/__init__.py:98: UserWarning: unable to load libtensorflow_io_plugins.so: unable to open file: libtensorflow_io_plugins.so, from paths: ['/Users/rosameliacarioni/miniconda3/envs/bach_thesis_4/lib/python3.9/site-packages/tensorflow_io-0.32.0-py3.9-macosx-11.0-arm64.egg/tensorflow_io/python/ops/libtensorflow_io_plugins.so']\n",
      "caused by: [\"[Errno 2] The file to load file system plugin from does not exist.: '/Users/rosameliacarioni/miniconda3/envs/bach_thesis_4/lib/python3.9/site-packages/tensorflow_io-0.32.0-py3.9-macosx-11.0-arm64.egg/tensorflow_io/python/ops/libtensorflow_io_plugins.so'\"]\n",
      "  warnings.warn(f\"unable to load libtensorflow_io_plugins.so: {e}\")\n",
      "/Users/rosameliacarioni/miniconda3/envs/bach_thesis_4/lib/python3.9/site-packages/tensorflow_io-0.32.0-py3.9-macosx-11.0-arm64.egg/tensorflow_io/python/ops/__init__.py:104: UserWarning: file system plugins are not loaded: unable to open file: libtensorflow_io.so, from paths: ['/Users/rosameliacarioni/miniconda3/envs/bach_thesis_4/lib/python3.9/site-packages/tensorflow_io-0.32.0-py3.9-macosx-11.0-arm64.egg/tensorflow_io/python/ops/libtensorflow_io.so']\n",
      "caused by: [\"dlopen(/Users/rosameliacarioni/miniconda3/envs/bach_thesis_4/lib/python3.9/site-packages/tensorflow_io-0.32.0-py3.9-macosx-11.0-arm64.egg/tensorflow_io/python/ops/libtensorflow_io.so, 0x0006): tried: '/Users/rosameliacarioni/miniconda3/envs/bach_thesis_4/lib/python3.9/site-packages/tensorflow_io-0.32.0-py3.9-macosx-11.0-arm64.egg/tensorflow_io/python/ops/libtensorflow_io.so' (no such file)\"]\n",
      "  warnings.warn(f\"file system plugins are not loaded: {e}\")\n"
     ]
    }
   ],
   "source": [
    "import tensorflow as tf\n",
    "import matplotlib.pyplot as plt\n",
    "import os \n",
    "import numpy as np\n",
    "from tensorflow import keras\n",
    "import seaborn as sns\n",
    "from sklearn.model_selection import StratifiedKFold\n",
    "from sklearn.model_selection import train_test_split\n",
    "from methods_audio import data_handling\n",
    "from methods_audio import data_augmentation\n",
    "from methods_audio import denoising \n",
    "from methods_audio import model_performance_training"
   ]
  },
  {
   "attachments": {},
   "cell_type": "markdown",
   "metadata": {},
   "source": [
    "# This notebook is used to find out the effect of different extracted features as input to CNNs on gunshot identification"
   ]
  },
  {
   "attachments": {},
   "cell_type": "markdown",
   "metadata": {},
   "source": [
    "# 1. Get data (file names)"
   ]
  },
  {
   "cell_type": "code",
   "execution_count": 2,
   "metadata": {},
   "outputs": [
    {
     "name": "stdout",
     "output_type": "stream",
     "text": [
      "Metal device set to: Apple M1 Pro\n",
      "\n",
      "systemMemory: 16.00 GB\n",
      "maxCacheSize: 5.33 GB\n",
      "\n"
     ]
    }
   ],
   "source": [
    "data = data_handling.get_data()"
   ]
  },
  {
   "attachments": {},
   "cell_type": "markdown",
   "metadata": {},
   "source": [
    "# 2. Read data (transforming file names into waves) <br>\n",
    "Additionally, the mean is removed and the data is normalized. "
   ]
  },
  {
   "cell_type": "code",
   "execution_count": 3,
   "metadata": {},
   "outputs": [],
   "source": [
    "data = data.map(data_handling.read_in_data) "
   ]
  },
  {
   "attachments": {},
   "cell_type": "markdown",
   "metadata": {},
   "source": [
    "# 3. Get input for model training "
   ]
  },
  {
   "cell_type": "code",
   "execution_count": 4,
   "metadata": {},
   "outputs": [
    {
     "name": "stderr",
     "output_type": "stream",
     "text": [
      "2023-05-22 13:55:06.230708: W tensorflow/tsl/platform/profile_utils/cpu_utils.cc:128] Failed to get CPU frequency: 0 Hz\n"
     ]
    }
   ],
   "source": [
    "samples, labels = data_handling.extract_samples_labels(data)"
   ]
  },
  {
   "attachments": {},
   "cell_type": "markdown",
   "metadata": {},
   "source": [
    "# Set arguments from baseline: "
   ]
  },
  {
   "attachments": {},
   "cell_type": "markdown",
   "metadata": {},
   "source": [
    "### 4. Denoising (on train and validation set)\n",
    "### 5. Set batch size \n",
    "### 6. Choose batch size\n",
    "### 7. Choose model\n",
    "### 8. Select type of augmentation "
   ]
  },
  {
   "cell_type": "code",
   "execution_count": 5,
   "metadata": {},
   "outputs": [],
   "source": [
    "# Define type of denoising to do. Options: spectral_gating, low_pass, none \n",
    "type_denoising= 'none'\n",
    "differentiation = False \n",
    "\n",
    "# For low pass filter: not used\n",
    "low_pass_cutoff = 0 \n",
    "low_pass_order = 0 \n",
    "\n",
    "batch_size = 8 \n",
    "epoch = 50\n",
    "\n",
    "number_model = 1\n",
    "\n",
    "# Define type of augmentation to do. Options: signal, or none\n",
    "type_augmentation = 'none' # or signal\n",
    "probability = 0"
   ]
  },
  {
   "attachments": {},
   "cell_type": "markdown",
   "metadata": {},
   "source": [
    "# 9. Transform data into different representations"
   ]
  },
  {
   "cell_type": "code",
   "execution_count": 6,
   "metadata": {},
   "outputs": [],
   "source": [
    "# Define type of transformation to do. Options = spectrogram, db_mel_spectrogram, db_mel_spectrogram, mfcc, mfcc_delta\n",
    "type_transformation = 'db_mel_spectrogram' "
   ]
  },
  {
   "attachments": {},
   "cell_type": "markdown",
   "metadata": {},
   "source": [
    "# 10. Evaluate performance of the model by training it with K-Fold Validation"
   ]
  },
  {
   "cell_type": "code",
   "execution_count": 7,
   "metadata": {},
   "outputs": [
    {
     "name": "stderr",
     "output_type": "stream",
     "text": [
      "/Users/rosameliacarioni/University/Thesis/code/methods_audio/model_performance_training.py:78: VisibleDeprecationWarning: Creating an ndarray from ragged nested sequences (which is a list-or-tuple of lists-or-tuples-or ndarrays with different lengths or shapes) is deprecated. If you meant to do this, you must specify 'dtype=object' when creating the ndarray.\n",
      "  x_train = np.array(x)[train.astype(int)]\n",
      "/Users/rosameliacarioni/University/Thesis/code/methods_audio/model_performance_training.py:80: VisibleDeprecationWarning: Creating an ndarray from ragged nested sequences (which is a list-or-tuple of lists-or-tuples-or ndarrays with different lengths or shapes) is deprecated. If you meant to do this, you must specify 'dtype=object' when creating the ndarray.\n",
      "  x_valid = np.array(x)[test.astype(int)]\n",
      "WARNING:absl:At this time, the v2.11+ optimizer `tf.keras.optimizers.SGD` runs slowly on M1/M2 Macs, please use the legacy Keras optimizer instead, located at `tf.keras.optimizers.legacy.SGD`.\n",
      "WARNING:absl:There is a known slowdown when using v2.11+ Keras optimizers on M1/M2 Macs. Falling back to the legacy Keras optimizer, i.e., `tf.keras.optimizers.legacy.SGD`.\n"
     ]
    },
    {
     "name": "stdout",
     "output_type": "stream",
     "text": [
      "Epoch 1/50\n",
      "356/356 [==============================] - 27s 73ms/step - loss: 0.6016 - accuracy: 0.6651 - recall: 0.5876 - precision: 0.6933 - val_loss: 0.4940 - val_accuracy: 0.7482 - val_recall: 0.7746 - val_precision: 0.7353\n",
      "Epoch 2/50\n",
      "356/356 [==============================] - 25s 71ms/step - loss: 0.4080 - accuracy: 0.8189 - recall: 0.7634 - precision: 0.8573 - val_loss: 0.4385 - val_accuracy: 0.8158 - val_recall: 0.6676 - val_precision: 0.9480\n",
      "Epoch 3/50\n",
      "356/356 [==============================] - 26s 72ms/step - loss: 0.3324 - accuracy: 0.8582 - recall: 0.8234 - precision: 0.8840 - val_loss: 0.7331 - val_accuracy: 0.6301 - val_recall: 0.9831 - val_precision: 0.5759\n",
      "Epoch 4/50\n",
      "356/356 [==============================] - 25s 71ms/step - loss: 0.3032 - accuracy: 0.8670 - recall: 0.8355 - precision: 0.8908 - val_loss: 0.3328 - val_accuracy: 0.8495 - val_recall: 0.7972 - val_precision: 0.8899\n",
      "Epoch 5/50\n",
      "356/356 [==============================] - 25s 71ms/step - loss: 0.2827 - accuracy: 0.8765 - recall: 0.8482 - precision: 0.8983 - val_loss: 0.3306 - val_accuracy: 0.8537 - val_recall: 0.8873 - val_precision: 0.8311\n",
      "Epoch 6/50\n",
      "356/356 [==============================] - 25s 71ms/step - loss: 0.2574 - accuracy: 0.8934 - recall: 0.8679 - precision: 0.9138 - val_loss: 0.3650 - val_accuracy: 0.8565 - val_recall: 0.7606 - val_precision: 0.9408\n",
      "Epoch 7/50\n",
      "356/356 [==============================] - 25s 71ms/step - loss: 0.2519 - accuracy: 0.8910 - recall: 0.8701 - precision: 0.9072 - val_loss: 0.2960 - val_accuracy: 0.8636 - val_recall: 0.8958 - val_precision: 0.8413\n",
      "Epoch 8/50\n",
      "356/356 [==============================] - 26s 72ms/step - loss: 0.2306 - accuracy: 0.9050 - recall: 0.8891 - precision: 0.9176 - val_loss: 0.2559 - val_accuracy: 0.9030 - val_recall: 0.8958 - val_precision: 0.9086\n",
      "Epoch 9/50\n",
      "356/356 [==============================] - 25s 72ms/step - loss: 0.2089 - accuracy: 0.9050 - recall: 0.8905 - precision: 0.9164 - val_loss: 0.2530 - val_accuracy: 0.8959 - val_recall: 0.8873 - val_precision: 0.9026\n",
      "Epoch 10/50\n",
      "356/356 [==============================] - 25s 71ms/step - loss: 0.1922 - accuracy: 0.9177 - recall: 0.9054 - precision: 0.9276 - val_loss: 0.2396 - val_accuracy: 0.9086 - val_recall: 0.8507 - val_precision: 0.9618\n",
      "Epoch 11/50\n",
      "356/356 [==============================] - 25s 71ms/step - loss: 0.1777 - accuracy: 0.9219 - recall: 0.9117 - precision: 0.9301 - val_loss: 0.2982 - val_accuracy: 0.8847 - val_recall: 0.7915 - val_precision: 0.9723\n",
      "Epoch 12/50\n",
      "356/356 [==============================] - 25s 71ms/step - loss: 0.1613 - accuracy: 0.9377 - recall: 0.9329 - precision: 0.9416 - val_loss: 0.2870 - val_accuracy: 0.8833 - val_recall: 0.7972 - val_precision: 0.9626\n",
      "Epoch 13/50\n",
      "356/356 [==============================] - 26s 72ms/step - loss: 0.1523 - accuracy: 0.9391 - recall: 0.9343 - precision: 0.9430 - val_loss: 0.2786 - val_accuracy: 0.8861 - val_recall: 0.9437 - val_precision: 0.8460\n",
      "Epoch 14/50\n",
      "356/356 [==============================] - 26s 73ms/step - loss: 0.1354 - accuracy: 0.9416 - recall: 0.9379 - precision: 0.9445 - val_loss: 0.2625 - val_accuracy: 0.9030 - val_recall: 0.8394 - val_precision: 0.9613\n",
      "Epoch 15/50\n",
      "356/356 [==============================] - 26s 73ms/step - loss: 0.1311 - accuracy: 0.9518 - recall: 0.9456 - precision: 0.9571 - val_loss: 0.2168 - val_accuracy: 0.9241 - val_recall: 0.9155 - val_precision: 0.9312\n",
      "Epoch 16/50\n",
      "356/356 [==============================] - 26s 73ms/step - loss: 0.1193 - accuracy: 0.9518 - recall: 0.9513 - precision: 0.9519 - val_loss: 0.3550 - val_accuracy: 0.8636 - val_recall: 0.9775 - val_precision: 0.7959\n",
      "Epoch 17/50\n",
      "356/356 [==============================] - 26s 73ms/step - loss: 0.1092 - accuracy: 0.9588 - recall: 0.9520 - precision: 0.9649 - val_loss: 0.2202 - val_accuracy: 0.9156 - val_recall: 0.8930 - val_precision: 0.9351\n",
      "Epoch 18/50\n",
      "356/356 [==============================] - 26s 72ms/step - loss: 0.1049 - accuracy: 0.9560 - recall: 0.9520 - precision: 0.9594 - val_loss: 0.2279 - val_accuracy: 0.9086 - val_recall: 0.8704 - val_precision: 0.9421\n",
      "Epoch 19/50\n",
      "356/356 [==============================] - 26s 72ms/step - loss: 0.0864 - accuracy: 0.9676 - recall: 0.9668 - precision: 0.9682 - val_loss: 0.4442 - val_accuracy: 0.8565 - val_recall: 0.9746 - val_precision: 0.7882\n",
      "Epoch 20/50\n",
      "356/356 [==============================] - 25s 71ms/step - loss: 0.0852 - accuracy: 0.9687 - recall: 0.9689 - precision: 0.9682 - val_loss: 0.2574 - val_accuracy: 0.9170 - val_recall: 0.8648 - val_precision: 0.9654\n",
      "Epoch 21/50\n",
      "356/356 [==============================] - 26s 72ms/step - loss: 0.0797 - accuracy: 0.9698 - recall: 0.9633 - precision: 0.9757 - val_loss: 0.2623 - val_accuracy: 0.9142 - val_recall: 0.9380 - val_precision: 0.8952\n",
      "Epoch 22/50\n",
      "356/356 [==============================] - 26s 72ms/step - loss: 0.0723 - accuracy: 0.9708 - recall: 0.9675 - precision: 0.9737 - val_loss: 0.2154 - val_accuracy: 0.9269 - val_recall: 0.9352 - val_precision: 0.9197\n",
      "Epoch 23/50\n",
      "356/356 [==============================] - 25s 71ms/step - loss: 0.0560 - accuracy: 0.9800 - recall: 0.9767 - precision: 0.9829 - val_loss: 0.2485 - val_accuracy: 0.9198 - val_recall: 0.8789 - val_precision: 0.9571\n",
      "Epoch 24/50\n",
      "356/356 [==============================] - 25s 72ms/step - loss: 0.0504 - accuracy: 0.9803 - recall: 0.9774 - precision: 0.9830 - val_loss: 0.2264 - val_accuracy: 0.9297 - val_recall: 0.9493 - val_precision: 0.9133\n",
      "Epoch 25/50\n",
      "356/356 [==============================] - 25s 71ms/step - loss: 0.0377 - accuracy: 0.9877 - recall: 0.9873 - precision: 0.9880 - val_loss: 0.2603 - val_accuracy: 0.9241 - val_recall: 0.8901 - val_precision: 0.9547\n",
      "Epoch 26/50\n",
      "356/356 [==============================] - 25s 71ms/step - loss: 0.0498 - accuracy: 0.9807 - recall: 0.9767 - precision: 0.9843 - val_loss: 0.2458 - val_accuracy: 0.9297 - val_recall: 0.9324 - val_precision: 0.9272\n",
      "Epoch 27/50\n",
      "356/356 [==============================] - 25s 71ms/step - loss: 0.0369 - accuracy: 0.9877 - recall: 0.9838 - precision: 0.9915 - val_loss: 0.3482 - val_accuracy: 0.9015 - val_recall: 0.8394 - val_precision: 0.9582\n",
      "Epoch 28/50\n",
      "356/356 [==============================] - 25s 72ms/step - loss: 0.0469 - accuracy: 0.9828 - recall: 0.9831 - precision: 0.9824 - val_loss: 0.2561 - val_accuracy: 0.9269 - val_recall: 0.9042 - val_precision: 0.9469\n",
      "Epoch 29/50\n",
      "356/356 [==============================] - 26s 72ms/step - loss: 0.0325 - accuracy: 0.9870 - recall: 0.9859 - precision: 0.9880 - val_loss: 0.2630 - val_accuracy: 0.9283 - val_recall: 0.9099 - val_precision: 0.9444\n",
      "Epoch 30/50\n",
      "356/356 [==============================] - 26s 72ms/step - loss: 0.0328 - accuracy: 0.9866 - recall: 0.9852 - precision: 0.9880 - val_loss: 0.2570 - val_accuracy: 0.9283 - val_recall: 0.9070 - val_precision: 0.9471\n",
      "Epoch 31/50\n",
      "356/356 [==============================] - 26s 72ms/step - loss: 0.0336 - accuracy: 0.9866 - recall: 0.9859 - precision: 0.9873 - val_loss: 0.2810 - val_accuracy: 0.9184 - val_recall: 0.8958 - val_precision: 0.9381\n",
      "Epoch 32/50\n",
      "356/356 [==============================] - 26s 72ms/step - loss: 0.0197 - accuracy: 0.9930 - recall: 0.9915 - precision: 0.9943 - val_loss: 0.2751 - val_accuracy: 0.9283 - val_recall: 0.9408 - val_precision: 0.9176\n",
      "Epoch 33/50\n",
      "356/356 [==============================] - 26s 72ms/step - loss: 0.0563 - accuracy: 0.9796 - recall: 0.9781 - precision: 0.9809 - val_loss: 0.2808 - val_accuracy: 0.9255 - val_recall: 0.9155 - val_precision: 0.9339\n",
      "Epoch 34/50\n",
      "356/356 [==============================] - 26s 72ms/step - loss: 0.0382 - accuracy: 0.9863 - recall: 0.9838 - precision: 0.9886 - val_loss: 0.2933 - val_accuracy: 0.9255 - val_recall: 0.9493 - val_precision: 0.9059\n",
      "Epoch 35/50\n",
      "356/356 [==============================] - 25s 71ms/step - loss: 0.0349 - accuracy: 0.9870 - recall: 0.9859 - precision: 0.9880 - val_loss: 0.3122 - val_accuracy: 0.9198 - val_recall: 0.9352 - val_precision: 0.9071\n",
      "Epoch 36/50\n",
      "356/356 [==============================] - 26s 73ms/step - loss: 0.0499 - accuracy: 0.9796 - recall: 0.9781 - precision: 0.9809 - val_loss: 0.2789 - val_accuracy: 0.9297 - val_recall: 0.9014 - val_precision: 0.9552\n",
      "Epoch 37/50\n",
      "356/356 [==============================] - 26s 72ms/step - loss: 0.0314 - accuracy: 0.9884 - recall: 0.9873 - precision: 0.9894 - val_loss: 0.2868 - val_accuracy: 0.9226 - val_recall: 0.9127 - val_precision: 0.9310\n",
      "Epoch 38/50\n",
      "356/356 [==============================] - 26s 72ms/step - loss: 0.0320 - accuracy: 0.9873 - recall: 0.9866 - precision: 0.9880 - val_loss: 0.4630 - val_accuracy: 0.8875 - val_recall: 0.8028 - val_precision: 0.9661\n",
      "Epoch 39/50\n",
      "356/356 [==============================] - 26s 73ms/step - loss: 0.0471 - accuracy: 0.9828 - recall: 0.9809 - precision: 0.9844 - val_loss: 0.2761 - val_accuracy: 0.9283 - val_recall: 0.9014 - val_precision: 0.9524\n",
      "Epoch 40/50\n",
      "356/356 [==============================] - 25s 71ms/step - loss: 0.0110 - accuracy: 0.9968 - recall: 0.9951 - precision: 0.9986 - val_loss: 0.2473 - val_accuracy: 0.9395 - val_recall: 0.9296 - val_precision: 0.9483\n",
      "Epoch 41/50\n",
      "356/356 [==============================] - 25s 72ms/step - loss: 0.0132 - accuracy: 0.9954 - recall: 0.9944 - precision: 0.9965 - val_loss: 0.2750 - val_accuracy: 0.9409 - val_recall: 0.9549 - val_precision: 0.9288\n",
      "Epoch 42/50\n",
      "356/356 [==============================] - 26s 72ms/step - loss: 0.0047 - accuracy: 0.9993 - recall: 0.9986 - precision: 1.0000 - val_loss: 0.3105 - val_accuracy: 0.9297 - val_recall: 0.9042 - val_precision: 0.9525\n",
      "Epoch 43/50\n",
      "356/356 [==============================] - 26s 72ms/step - loss: 0.0050 - accuracy: 0.9986 - recall: 0.9993 - precision: 0.9979 - val_loss: 0.2856 - val_accuracy: 0.9353 - val_recall: 0.9211 - val_precision: 0.9478\n",
      "Epoch 44/50\n",
      "356/356 [==============================] - 26s 72ms/step - loss: 0.0063 - accuracy: 0.9972 - recall: 0.9958 - precision: 0.9986 - val_loss: 0.3458 - val_accuracy: 0.9184 - val_recall: 0.8732 - val_precision: 0.9598\n",
      "Epoch 45/50\n",
      "356/356 [==============================] - 26s 72ms/step - loss: 0.0046 - accuracy: 0.9989 - recall: 0.9993 - precision: 0.9986 - val_loss: 0.3097 - val_accuracy: 0.9339 - val_recall: 0.9127 - val_precision: 0.9529\n",
      "Epoch 46/50\n",
      "356/356 [==============================] - 26s 72ms/step - loss: 0.0038 - accuracy: 0.9986 - recall: 0.9979 - precision: 0.9993 - val_loss: 0.3067 - val_accuracy: 0.9353 - val_recall: 0.9239 - val_precision: 0.9452\n",
      "Epoch 47/50\n",
      "356/356 [==============================] - 25s 72ms/step - loss: 0.0031 - accuracy: 0.9989 - recall: 0.9993 - precision: 0.9986 - val_loss: 0.3099 - val_accuracy: 0.9381 - val_recall: 0.9211 - val_precision: 0.9534\n",
      "Epoch 48/50\n",
      "356/356 [==============================] - 26s 72ms/step - loss: 0.0037 - accuracy: 0.9982 - recall: 0.9979 - precision: 0.9986 - val_loss: 0.3211 - val_accuracy: 0.9381 - val_recall: 0.9211 - val_precision: 0.9534\n",
      "Epoch 49/50\n",
      "356/356 [==============================] - 25s 71ms/step - loss: 0.0032 - accuracy: 0.9986 - recall: 0.9979 - precision: 0.9993 - val_loss: 0.3199 - val_accuracy: 0.9339 - val_recall: 0.9127 - val_precision: 0.9529\n",
      "Epoch 50/50\n",
      "356/356 [==============================] - 25s 71ms/step - loss: 0.0024 - accuracy: 0.9993 - recall: 0.9986 - precision: 1.0000 - val_loss: 0.3113 - val_accuracy: 0.9381 - val_recall: 0.9239 - val_precision: 0.9507\n",
      "accuracy: 93.81%\n",
      "23/23 [==============================] - 1s 48ms/step\n"
     ]
    },
    {
     "name": "stderr",
     "output_type": "stream",
     "text": [
      "WARNING:absl:At this time, the v2.11+ optimizer `tf.keras.optimizers.SGD` runs slowly on M1/M2 Macs, please use the legacy Keras optimizer instead, located at `tf.keras.optimizers.legacy.SGD`.\n",
      "WARNING:absl:There is a known slowdown when using v2.11+ Keras optimizers on M1/M2 Macs. Falling back to the legacy Keras optimizer, i.e., `tf.keras.optimizers.legacy.SGD`.\n"
     ]
    },
    {
     "name": "stdout",
     "output_type": "stream",
     "text": [
      "Epoch 1/50\n",
      "356/356 [==============================] - 27s 74ms/step - loss: 0.5453 - accuracy: 0.7186 - recall: 0.6563 - precision: 0.7482 - val_loss: 0.4866 - val_accuracy: 0.7482 - val_recall: 0.9661 - val_precision: 0.6719\n",
      "Epoch 2/50\n",
      "356/356 [==============================] - 26s 72ms/step - loss: 0.3662 - accuracy: 0.8378 - recall: 0.7918 - precision: 0.8711 - val_loss: 0.3302 - val_accuracy: 0.8439 - val_recall: 0.8051 - val_precision: 0.8716\n",
      "Epoch 3/50\n",
      "356/356 [==============================] - 26s 73ms/step - loss: 0.3263 - accuracy: 0.8540 - recall: 0.8123 - precision: 0.8854 - val_loss: 0.5261 - val_accuracy: 0.7651 - val_recall: 0.5508 - val_precision: 0.9606\n",
      "Epoch 4/50\n",
      "356/356 [==============================] - 26s 73ms/step - loss: 0.2983 - accuracy: 0.8730 - recall: 0.8370 - precision: 0.9012 - val_loss: 0.2975 - val_accuracy: 0.8776 - val_recall: 0.8503 - val_precision: 0.8985\n",
      "Epoch 5/50\n",
      "356/356 [==============================] - 26s 72ms/step - loss: 0.2750 - accuracy: 0.8878 - recall: 0.8574 - precision: 0.9122 - val_loss: 0.2666 - val_accuracy: 0.8833 - val_recall: 0.8446 - val_precision: 0.9144\n",
      "Epoch 6/50\n",
      "356/356 [==============================] - 26s 72ms/step - loss: 0.2541 - accuracy: 0.8980 - recall: 0.8716 - precision: 0.9196 - val_loss: 0.3207 - val_accuracy: 0.8594 - val_recall: 0.9266 - val_precision: 0.8159\n",
      "Epoch 7/50\n",
      "356/356 [==============================] - 26s 72ms/step - loss: 0.2381 - accuracy: 0.9001 - recall: 0.8744 - precision: 0.9212 - val_loss: 0.2520 - val_accuracy: 0.9072 - val_recall: 0.8729 - val_precision: 0.9364\n",
      "Epoch 8/50\n",
      "356/356 [==============================] - 25s 71ms/step - loss: 0.2103 - accuracy: 0.9107 - recall: 0.8913 - precision: 0.9266 - val_loss: 0.2418 - val_accuracy: 0.9044 - val_recall: 0.9237 - val_precision: 0.8886\n",
      "Epoch 9/50\n",
      "356/356 [==============================] - 26s 72ms/step - loss: 0.2020 - accuracy: 0.9145 - recall: 0.8956 - precision: 0.9304 - val_loss: 0.3166 - val_accuracy: 0.8875 - val_recall: 0.8107 - val_precision: 0.9567\n",
      "Epoch 10/50\n",
      "356/356 [==============================] - 26s 73ms/step - loss: 0.1823 - accuracy: 0.9251 - recall: 0.9132 - precision: 0.9350 - val_loss: 0.3034 - val_accuracy: 0.8903 - val_recall: 0.8559 - val_precision: 0.9182\n",
      "Epoch 11/50\n",
      "356/356 [==============================] - 25s 71ms/step - loss: 0.1752 - accuracy: 0.9311 - recall: 0.9224 - precision: 0.9383 - val_loss: 0.3059 - val_accuracy: 0.8861 - val_recall: 0.7910 - val_precision: 0.9756\n",
      "Epoch 12/50\n",
      "356/356 [==============================] - 26s 72ms/step - loss: 0.1651 - accuracy: 0.9321 - recall: 0.9252 - precision: 0.9378 - val_loss: 0.3030 - val_accuracy: 0.8931 - val_recall: 0.8079 - val_precision: 0.9728\n",
      "Epoch 13/50\n",
      "356/356 [==============================] - 25s 71ms/step - loss: 0.1529 - accuracy: 0.9395 - recall: 0.9287 - precision: 0.9488 - val_loss: 0.2782 - val_accuracy: 0.9058 - val_recall: 0.8503 - val_precision: 0.9556\n",
      "Epoch 14/50\n",
      "356/356 [==============================] - 26s 72ms/step - loss: 0.1295 - accuracy: 0.9550 - recall: 0.9442 - precision: 0.9647 - val_loss: 0.2167 - val_accuracy: 0.9325 - val_recall: 0.9350 - val_precision: 0.9298\n",
      "Epoch 15/50\n",
      "356/356 [==============================] - 26s 72ms/step - loss: 0.1225 - accuracy: 0.9501 - recall: 0.9428 - precision: 0.9563 - val_loss: 0.2475 - val_accuracy: 0.9170 - val_recall: 0.8672 - val_precision: 0.9624\n",
      "Epoch 16/50\n",
      "356/356 [==============================] - 25s 71ms/step - loss: 0.1221 - accuracy: 0.9518 - recall: 0.9414 - precision: 0.9611 - val_loss: 0.2394 - val_accuracy: 0.9142 - val_recall: 0.8588 - val_precision: 0.9651\n",
      "Epoch 17/50\n",
      "356/356 [==============================] - 25s 71ms/step - loss: 0.1103 - accuracy: 0.9543 - recall: 0.9471 - precision: 0.9606 - val_loss: 0.2224 - val_accuracy: 0.9255 - val_recall: 0.9153 - val_precision: 0.9337\n",
      "Epoch 18/50\n",
      "356/356 [==============================] - 26s 72ms/step - loss: 0.0990 - accuracy: 0.9581 - recall: 0.9506 - precision: 0.9649 - val_loss: 0.2399 - val_accuracy: 0.9283 - val_recall: 0.9266 - val_precision: 0.9292\n",
      "Epoch 19/50\n",
      "356/356 [==============================] - 25s 72ms/step - loss: 0.0952 - accuracy: 0.9634 - recall: 0.9548 - precision: 0.9713 - val_loss: 0.2377 - val_accuracy: 0.9339 - val_recall: 0.9294 - val_precision: 0.9373\n",
      "Epoch 20/50\n",
      "356/356 [==============================] - 26s 72ms/step - loss: 0.0898 - accuracy: 0.9652 - recall: 0.9598 - precision: 0.9700 - val_loss: 0.2482 - val_accuracy: 0.9170 - val_recall: 0.8814 - val_precision: 0.9483\n",
      "Epoch 21/50\n",
      "356/356 [==============================] - 25s 71ms/step - loss: 0.0865 - accuracy: 0.9652 - recall: 0.9605 - precision: 0.9694 - val_loss: 0.2252 - val_accuracy: 0.9269 - val_recall: 0.8983 - val_precision: 0.9521\n",
      "Epoch 22/50\n",
      "356/356 [==============================] - 25s 71ms/step - loss: 0.0651 - accuracy: 0.9736 - recall: 0.9689 - precision: 0.9779 - val_loss: 0.2424 - val_accuracy: 0.9325 - val_recall: 0.9492 - val_precision: 0.9180\n",
      "Epoch 23/50\n",
      "356/356 [==============================] - 25s 71ms/step - loss: 0.0674 - accuracy: 0.9733 - recall: 0.9697 - precision: 0.9765 - val_loss: 0.4181 - val_accuracy: 0.8523 - val_recall: 0.9209 - val_precision: 0.8089\n",
      "Epoch 24/50\n",
      "356/356 [==============================] - 25s 71ms/step - loss: 0.0533 - accuracy: 0.9807 - recall: 0.9781 - precision: 0.9830 - val_loss: 0.2149 - val_accuracy: 0.9381 - val_recall: 0.9209 - val_precision: 0.9532\n",
      "Epoch 25/50\n",
      "356/356 [==============================] - 26s 72ms/step - loss: 0.0594 - accuracy: 0.9768 - recall: 0.9732 - precision: 0.9801 - val_loss: 0.2447 - val_accuracy: 0.9297 - val_recall: 0.9096 - val_precision: 0.9471\n",
      "Epoch 26/50\n",
      "356/356 [==============================] - 25s 72ms/step - loss: 0.0564 - accuracy: 0.9792 - recall: 0.9760 - precision: 0.9822 - val_loss: 0.2491 - val_accuracy: 0.9311 - val_recall: 0.9124 - val_precision: 0.9472\n",
      "Epoch 27/50\n",
      "356/356 [==============================] - 25s 71ms/step - loss: 0.0387 - accuracy: 0.9887 - recall: 0.9866 - precision: 0.9908 - val_loss: 0.3000 - val_accuracy: 0.9100 - val_recall: 0.9379 - val_precision: 0.8877\n",
      "Epoch 28/50\n",
      "356/356 [==============================] - 25s 71ms/step - loss: 0.0281 - accuracy: 0.9912 - recall: 0.9915 - precision: 0.9908 - val_loss: 0.3030 - val_accuracy: 0.9212 - val_recall: 0.8729 - val_precision: 0.9656\n",
      "Epoch 29/50\n",
      "356/356 [==============================] - 25s 72ms/step - loss: 0.0657 - accuracy: 0.9754 - recall: 0.9711 - precision: 0.9794 - val_loss: 0.2573 - val_accuracy: 0.9283 - val_recall: 0.9209 - val_precision: 0.9341\n",
      "Epoch 30/50\n",
      "356/356 [==============================] - 26s 72ms/step - loss: 0.0619 - accuracy: 0.9778 - recall: 0.9746 - precision: 0.9808 - val_loss: 0.2828 - val_accuracy: 0.9198 - val_recall: 0.9209 - val_precision: 0.9183\n",
      "Epoch 31/50\n",
      "356/356 [==============================] - 25s 71ms/step - loss: 0.0845 - accuracy: 0.9705 - recall: 0.9640 - precision: 0.9764 - val_loss: 0.3401 - val_accuracy: 0.8945 - val_recall: 0.9576 - val_precision: 0.8496\n",
      "Epoch 32/50\n",
      "356/356 [==============================] - 25s 71ms/step - loss: 0.0473 - accuracy: 0.9803 - recall: 0.9774 - precision: 0.9830 - val_loss: 0.2869 - val_accuracy: 0.9184 - val_recall: 0.8701 - val_precision: 0.9625\n",
      "Epoch 33/50\n",
      "356/356 [==============================] - 25s 71ms/step - loss: 0.0340 - accuracy: 0.9877 - recall: 0.9838 - precision: 0.9915 - val_loss: 0.2423 - val_accuracy: 0.9353 - val_recall: 0.9153 - val_precision: 0.9529\n",
      "Epoch 34/50\n",
      "356/356 [==============================] - 25s 71ms/step - loss: 0.0296 - accuracy: 0.9902 - recall: 0.9866 - precision: 0.9936 - val_loss: 0.4605 - val_accuracy: 0.8861 - val_recall: 0.9435 - val_precision: 0.8456\n",
      "Epoch 35/50\n",
      "356/356 [==============================] - 25s 71ms/step - loss: 0.0278 - accuracy: 0.9902 - recall: 0.9887 - precision: 0.9915 - val_loss: 0.2842 - val_accuracy: 0.9311 - val_recall: 0.9153 - val_precision: 0.9446\n",
      "Epoch 36/50\n",
      "356/356 [==============================] - 25s 71ms/step - loss: 0.0180 - accuracy: 0.9947 - recall: 0.9936 - precision: 0.9958 - val_loss: 0.2709 - val_accuracy: 0.9367 - val_recall: 0.9266 - val_precision: 0.9452\n",
      "Epoch 37/50\n",
      "356/356 [==============================] - 26s 72ms/step - loss: 0.0550 - accuracy: 0.9835 - recall: 0.9809 - precision: 0.9858 - val_loss: 0.3327 - val_accuracy: 0.9170 - val_recall: 0.9209 - val_precision: 0.9132\n",
      "Epoch 38/50\n",
      "356/356 [==============================] - 25s 71ms/step - loss: 0.0246 - accuracy: 0.9916 - recall: 0.9894 - precision: 0.9936 - val_loss: 0.2565 - val_accuracy: 0.9339 - val_recall: 0.9294 - val_precision: 0.9373\n",
      "Epoch 39/50\n",
      "356/356 [==============================] - 25s 71ms/step - loss: 0.0250 - accuracy: 0.9905 - recall: 0.9887 - precision: 0.9922 - val_loss: 0.2626 - val_accuracy: 0.9325 - val_recall: 0.9040 - val_precision: 0.9581\n",
      "Epoch 40/50\n",
      "356/356 [==============================] - 26s 72ms/step - loss: 0.0353 - accuracy: 0.9884 - recall: 0.9859 - precision: 0.9908 - val_loss: 0.3385 - val_accuracy: 0.9156 - val_recall: 0.8898 - val_precision: 0.9375\n",
      "Epoch 41/50\n",
      "356/356 [==============================] - 25s 71ms/step - loss: 0.0402 - accuracy: 0.9849 - recall: 0.9824 - precision: 0.9872 - val_loss: 0.8295 - val_accuracy: 0.8017 - val_recall: 0.6102 - val_precision: 0.9863\n",
      "Epoch 42/50\n",
      "356/356 [==============================] - 25s 72ms/step - loss: 0.0420 - accuracy: 0.9877 - recall: 0.9845 - precision: 0.9908 - val_loss: 0.2998 - val_accuracy: 0.9255 - val_recall: 0.8870 - val_precision: 0.9602\n",
      "Epoch 43/50\n",
      "356/356 [==============================] - 25s 71ms/step - loss: 0.0438 - accuracy: 0.9831 - recall: 0.9824 - precision: 0.9837 - val_loss: 0.2925 - val_accuracy: 0.9297 - val_recall: 0.9011 - val_precision: 0.9551\n",
      "Epoch 44/50\n",
      "356/356 [==============================] - 25s 71ms/step - loss: 0.0322 - accuracy: 0.9902 - recall: 0.9880 - precision: 0.9922 - val_loss: 0.2488 - val_accuracy: 0.9367 - val_recall: 0.9322 - val_precision: 0.9402\n",
      "Epoch 45/50\n",
      "356/356 [==============================] - 25s 71ms/step - loss: 0.0283 - accuracy: 0.9902 - recall: 0.9887 - precision: 0.9915 - val_loss: 0.2893 - val_accuracy: 0.9311 - val_recall: 0.8983 - val_precision: 0.9607\n",
      "Epoch 46/50\n",
      "356/356 [==============================] - 25s 71ms/step - loss: 0.0223 - accuracy: 0.9919 - recall: 0.9922 - precision: 0.9915 - val_loss: 0.2918 - val_accuracy: 0.9283 - val_recall: 0.9096 - val_precision: 0.9443\n",
      "Epoch 47/50\n",
      "356/356 [==============================] - 26s 72ms/step - loss: 0.0142 - accuracy: 0.9947 - recall: 0.9929 - precision: 0.9965 - val_loss: 0.3011 - val_accuracy: 0.9198 - val_recall: 0.9322 - val_precision: 0.9091\n",
      "Epoch 48/50\n",
      "356/356 [==============================] - 26s 72ms/step - loss: 0.0115 - accuracy: 0.9972 - recall: 0.9965 - precision: 0.9979 - val_loss: 0.2824 - val_accuracy: 0.9311 - val_recall: 0.9181 - val_precision: 0.9420\n",
      "Epoch 49/50\n",
      "356/356 [==============================] - 26s 72ms/step - loss: 0.0127 - accuracy: 0.9958 - recall: 0.9944 - precision: 0.9972 - val_loss: 0.3393 - val_accuracy: 0.9269 - val_recall: 0.9520 - val_precision: 0.9059\n",
      "Epoch 50/50\n",
      "356/356 [==============================] - 26s 72ms/step - loss: 0.0103 - accuracy: 0.9965 - recall: 0.9965 - precision: 0.9965 - val_loss: 0.2803 - val_accuracy: 0.9409 - val_recall: 0.9181 - val_precision: 0.9615\n",
      "accuracy: 94.09%\n",
      "23/23 [==============================] - 2s 62ms/step\n"
     ]
    },
    {
     "name": "stderr",
     "output_type": "stream",
     "text": [
      "WARNING:absl:At this time, the v2.11+ optimizer `tf.keras.optimizers.SGD` runs slowly on M1/M2 Macs, please use the legacy Keras optimizer instead, located at `tf.keras.optimizers.legacy.SGD`.\n",
      "WARNING:absl:There is a known slowdown when using v2.11+ Keras optimizers on M1/M2 Macs. Falling back to the legacy Keras optimizer, i.e., `tf.keras.optimizers.legacy.SGD`.\n"
     ]
    },
    {
     "name": "stdout",
     "output_type": "stream",
     "text": [
      "Epoch 1/50\n",
      "356/356 [==============================] - 28s 75ms/step - loss: 0.6000 - accuracy: 0.6655 - recall: 0.6069 - precision: 0.6858 - val_loss: 0.4334 - val_accuracy: 0.8031 - val_recall: 0.6780 - val_precision: 0.9023\n",
      "Epoch 2/50\n",
      "356/356 [==============================] - 26s 72ms/step - loss: 0.4254 - accuracy: 0.8062 - recall: 0.7431 - precision: 0.8492 - val_loss: 0.3835 - val_accuracy: 0.8340 - val_recall: 0.7006 - val_precision: 0.9538\n",
      "Epoch 3/50\n",
      "356/356 [==============================] - 25s 71ms/step - loss: 0.3528 - accuracy: 0.8470 - recall: 0.7996 - precision: 0.8824 - val_loss: 0.3109 - val_accuracy: 0.8692 - val_recall: 0.8023 - val_precision: 0.9251\n",
      "Epoch 4/50\n",
      "356/356 [==============================] - 26s 73ms/step - loss: 0.3223 - accuracy: 0.8614 - recall: 0.8222 - precision: 0.8914 - val_loss: 0.3286 - val_accuracy: 0.8579 - val_recall: 0.7458 - val_precision: 0.9600\n",
      "Epoch 5/50\n",
      "356/356 [==============================] - 27s 76ms/step - loss: 0.3026 - accuracy: 0.8706 - recall: 0.8313 - precision: 0.9013 - val_loss: 0.2891 - val_accuracy: 0.8833 - val_recall: 0.9266 - val_precision: 0.8519\n",
      "Epoch 6/50\n",
      "356/356 [==============================] - 26s 73ms/step - loss: 0.2755 - accuracy: 0.8829 - recall: 0.8504 - precision: 0.9087 - val_loss: 0.2742 - val_accuracy: 0.8762 - val_recall: 0.7881 - val_precision: 0.9555\n",
      "Epoch 7/50\n",
      "356/356 [==============================] - 27s 75ms/step - loss: 0.2595 - accuracy: 0.8888 - recall: 0.8659 - precision: 0.9069 - val_loss: 0.2787 - val_accuracy: 0.8819 - val_recall: 0.8814 - val_precision: 0.8814\n",
      "Epoch 8/50\n",
      "356/356 [==============================] - 27s 75ms/step - loss: 0.2500 - accuracy: 0.8962 - recall: 0.8737 - precision: 0.9143 - val_loss: 0.2523 - val_accuracy: 0.8776 - val_recall: 0.7938 - val_precision: 0.9525\n",
      "Epoch 9/50\n",
      "356/356 [==============================] - 26s 73ms/step - loss: 0.2261 - accuracy: 0.9078 - recall: 0.8864 - precision: 0.9256 - val_loss: 0.2220 - val_accuracy: 0.9128 - val_recall: 0.8757 - val_precision: 0.9451\n",
      "Epoch 10/50\n",
      "356/356 [==============================] - 26s 72ms/step - loss: 0.2120 - accuracy: 0.9082 - recall: 0.8913 - precision: 0.9219 - val_loss: 0.2201 - val_accuracy: 0.9001 - val_recall: 0.8898 - val_precision: 0.9078\n",
      "Epoch 11/50\n",
      "356/356 [==============================] - 26s 73ms/step - loss: 0.1978 - accuracy: 0.9131 - recall: 0.9033 - precision: 0.9209 - val_loss: 0.2366 - val_accuracy: 0.9015 - val_recall: 0.8192 - val_precision: 0.9797\n",
      "Epoch 12/50\n",
      "356/356 [==============================] - 26s 72ms/step - loss: 0.1805 - accuracy: 0.9286 - recall: 0.9174 - precision: 0.9380 - val_loss: 0.2223 - val_accuracy: 0.9030 - val_recall: 0.8475 - val_precision: 0.9524\n",
      "Epoch 13/50\n",
      "356/356 [==============================] - 26s 72ms/step - loss: 0.1688 - accuracy: 0.9300 - recall: 0.9217 - precision: 0.9369 - val_loss: 0.2535 - val_accuracy: 0.8987 - val_recall: 0.9633 - val_precision: 0.8525\n",
      "Epoch 14/50\n",
      "356/356 [==============================] - 26s 72ms/step - loss: 0.1654 - accuracy: 0.9314 - recall: 0.9238 - precision: 0.9377 - val_loss: 0.1939 - val_accuracy: 0.9269 - val_recall: 0.9096 - val_precision: 0.9415\n",
      "Epoch 15/50\n",
      "356/356 [==============================] - 26s 72ms/step - loss: 0.1541 - accuracy: 0.9356 - recall: 0.9294 - precision: 0.9407 - val_loss: 0.1919 - val_accuracy: 0.9170 - val_recall: 0.9463 - val_precision: 0.8933\n",
      "Epoch 16/50\n",
      "356/356 [==============================] - 26s 72ms/step - loss: 0.1365 - accuracy: 0.9458 - recall: 0.9407 - precision: 0.9501 - val_loss: 0.2100 - val_accuracy: 0.9156 - val_recall: 0.8814 - val_precision: 0.9455\n",
      "Epoch 17/50\n",
      "356/356 [==============================] - 26s 72ms/step - loss: 0.1292 - accuracy: 0.9511 - recall: 0.9435 - precision: 0.9577 - val_loss: 0.1940 - val_accuracy: 0.9311 - val_recall: 0.9294 - val_precision: 0.9320\n",
      "Epoch 18/50\n",
      "356/356 [==============================] - 26s 72ms/step - loss: 0.1147 - accuracy: 0.9539 - recall: 0.9492 - precision: 0.9580 - val_loss: 0.1753 - val_accuracy: 0.9381 - val_recall: 0.9350 - val_precision: 0.9403\n",
      "Epoch 19/50\n",
      "356/356 [==============================] - 26s 74ms/step - loss: 0.1060 - accuracy: 0.9550 - recall: 0.9506 - precision: 0.9587 - val_loss: 0.2038 - val_accuracy: 0.9311 - val_recall: 0.9350 - val_precision: 0.9272\n",
      "Epoch 20/50\n",
      "356/356 [==============================] - 26s 73ms/step - loss: 0.1101 - accuracy: 0.9613 - recall: 0.9562 - precision: 0.9658 - val_loss: 0.2308 - val_accuracy: 0.9283 - val_recall: 0.8983 - val_precision: 0.9550\n",
      "Epoch 21/50\n",
      "356/356 [==============================] - 26s 73ms/step - loss: 0.0971 - accuracy: 0.9585 - recall: 0.9541 - precision: 0.9623 - val_loss: 0.3673 - val_accuracy: 0.8636 - val_recall: 0.9718 - val_precision: 0.7981\n",
      "Epoch 22/50\n",
      "356/356 [==============================] - 26s 73ms/step - loss: 0.0860 - accuracy: 0.9683 - recall: 0.9640 - precision: 0.9722 - val_loss: 0.2193 - val_accuracy: 0.9212 - val_recall: 0.9435 - val_precision: 0.9027\n",
      "Epoch 23/50\n",
      "356/356 [==============================] - 26s 74ms/step - loss: 0.0796 - accuracy: 0.9726 - recall: 0.9654 - precision: 0.9792 - val_loss: 0.2131 - val_accuracy: 0.9367 - val_recall: 0.9153 - val_precision: 0.9558\n",
      "Epoch 24/50\n",
      "356/356 [==============================] - 26s 73ms/step - loss: 0.0709 - accuracy: 0.9743 - recall: 0.9704 - precision: 0.9780 - val_loss: 0.3086 - val_accuracy: 0.9072 - val_recall: 0.9605 - val_precision: 0.8673\n",
      "Epoch 25/50\n",
      "356/356 [==============================] - 26s 73ms/step - loss: 0.0594 - accuracy: 0.9792 - recall: 0.9760 - precision: 0.9822 - val_loss: 0.2330 - val_accuracy: 0.9339 - val_recall: 0.9379 - val_precision: 0.9300\n",
      "Epoch 26/50\n",
      "356/356 [==============================] - 26s 73ms/step - loss: 0.0659 - accuracy: 0.9743 - recall: 0.9704 - precision: 0.9780 - val_loss: 0.2034 - val_accuracy: 0.9423 - val_recall: 0.9322 - val_precision: 0.9510\n",
      "Epoch 27/50\n",
      "356/356 [==============================] - 26s 73ms/step - loss: 0.0892 - accuracy: 0.9645 - recall: 0.9598 - precision: 0.9687 - val_loss: 0.2377 - val_accuracy: 0.9283 - val_recall: 0.8785 - val_precision: 0.9749\n",
      "Epoch 28/50\n",
      "356/356 [==============================] - 26s 73ms/step - loss: 0.0601 - accuracy: 0.9785 - recall: 0.9746 - precision: 0.9822 - val_loss: 0.2278 - val_accuracy: 0.9395 - val_recall: 0.9350 - val_precision: 0.9430\n",
      "Epoch 29/50\n",
      "356/356 [==============================] - 26s 72ms/step - loss: 0.0539 - accuracy: 0.9807 - recall: 0.9760 - precision: 0.9850 - val_loss: 0.1947 - val_accuracy: 0.9494 - val_recall: 0.9379 - val_precision: 0.9595\n",
      "Epoch 30/50\n",
      "356/356 [==============================] - 26s 72ms/step - loss: 0.0505 - accuracy: 0.9831 - recall: 0.9788 - precision: 0.9872 - val_loss: 0.2272 - val_accuracy: 0.9409 - val_recall: 0.9294 - val_precision: 0.9509\n",
      "Epoch 31/50\n",
      "356/356 [==============================] - 26s 72ms/step - loss: 0.0442 - accuracy: 0.9866 - recall: 0.9838 - precision: 0.9894 - val_loss: 0.2577 - val_accuracy: 0.9283 - val_recall: 0.9266 - val_precision: 0.9292\n",
      "Epoch 32/50\n",
      "356/356 [==============================] - 26s 72ms/step - loss: 0.0409 - accuracy: 0.9849 - recall: 0.9817 - precision: 0.9879 - val_loss: 0.2526 - val_accuracy: 0.9409 - val_recall: 0.9237 - val_precision: 0.9561\n",
      "Epoch 33/50\n",
      "356/356 [==============================] - 26s 72ms/step - loss: 0.0350 - accuracy: 0.9880 - recall: 0.9845 - precision: 0.9915 - val_loss: 0.2505 - val_accuracy: 0.9395 - val_recall: 0.9492 - val_precision: 0.9307\n",
      "Epoch 34/50\n",
      "356/356 [==============================] - 26s 73ms/step - loss: 0.0303 - accuracy: 0.9916 - recall: 0.9901 - precision: 0.9929 - val_loss: 0.2763 - val_accuracy: 0.9311 - val_recall: 0.9322 - val_precision: 0.9296\n",
      "Epoch 35/50\n",
      "356/356 [==============================] - 26s 73ms/step - loss: 0.0566 - accuracy: 0.9796 - recall: 0.9788 - precision: 0.9802 - val_loss: 0.2601 - val_accuracy: 0.9283 - val_recall: 0.9153 - val_precision: 0.9391\n",
      "Epoch 36/50\n",
      "356/356 [==============================] - 26s 74ms/step - loss: 0.0247 - accuracy: 0.9919 - recall: 0.9908 - precision: 0.9929 - val_loss: 0.2611 - val_accuracy: 0.9311 - val_recall: 0.9294 - val_precision: 0.9320\n",
      "Epoch 37/50\n",
      "356/356 [==============================] - 26s 73ms/step - loss: 0.0287 - accuracy: 0.9891 - recall: 0.9873 - precision: 0.9908 - val_loss: 0.2982 - val_accuracy: 0.9269 - val_recall: 0.9040 - val_precision: 0.9467\n",
      "Epoch 38/50\n",
      "356/356 [==============================] - 26s 72ms/step - loss: 0.0348 - accuracy: 0.9880 - recall: 0.9873 - precision: 0.9887 - val_loss: 0.2451 - val_accuracy: 0.9395 - val_recall: 0.9237 - val_precision: 0.9534\n",
      "Epoch 39/50\n",
      "356/356 [==============================] - 26s 73ms/step - loss: 0.0196 - accuracy: 0.9944 - recall: 0.9929 - precision: 0.9958 - val_loss: 0.2696 - val_accuracy: 0.9212 - val_recall: 0.9492 - val_precision: 0.8984\n",
      "Epoch 40/50\n",
      "356/356 [==============================] - 26s 73ms/step - loss: 0.0168 - accuracy: 0.9947 - recall: 0.9951 - precision: 0.9944 - val_loss: 0.2607 - val_accuracy: 0.9451 - val_recall: 0.9237 - val_precision: 0.9646\n",
      "Epoch 41/50\n",
      "356/356 [==============================] - 26s 72ms/step - loss: 0.0153 - accuracy: 0.9944 - recall: 0.9936 - precision: 0.9951 - val_loss: 0.2570 - val_accuracy: 0.9466 - val_recall: 0.9322 - val_precision: 0.9593\n",
      "Epoch 42/50\n",
      "356/356 [==============================] - 26s 72ms/step - loss: 0.0226 - accuracy: 0.9919 - recall: 0.9894 - precision: 0.9943 - val_loss: 0.2877 - val_accuracy: 0.9381 - val_recall: 0.9266 - val_precision: 0.9480\n",
      "Epoch 43/50\n",
      "356/356 [==============================] - 26s 72ms/step - loss: 0.0313 - accuracy: 0.9891 - recall: 0.9866 - precision: 0.9915 - val_loss: 0.3134 - val_accuracy: 0.9241 - val_recall: 0.9407 - val_precision: 0.9098\n",
      "Epoch 44/50\n",
      "356/356 [==============================] - 26s 72ms/step - loss: 0.0138 - accuracy: 0.9951 - recall: 0.9936 - precision: 0.9965 - val_loss: 0.3162 - val_accuracy: 0.9409 - val_recall: 0.9040 - val_precision: 0.9756\n",
      "Epoch 45/50\n",
      "356/356 [==============================] - 26s 72ms/step - loss: 0.0080 - accuracy: 0.9982 - recall: 0.9972 - precision: 0.9993 - val_loss: 0.2827 - val_accuracy: 0.9437 - val_recall: 0.9379 - val_precision: 0.9486\n",
      "Epoch 46/50\n",
      "356/356 [==============================] - 26s 72ms/step - loss: 0.0055 - accuracy: 0.9989 - recall: 0.9979 - precision: 1.0000 - val_loss: 0.3028 - val_accuracy: 0.9353 - val_recall: 0.9435 - val_precision: 0.9278\n",
      "Epoch 47/50\n",
      "356/356 [==============================] - 26s 73ms/step - loss: 0.0068 - accuracy: 0.9979 - recall: 0.9972 - precision: 0.9986 - val_loss: 0.3153 - val_accuracy: 0.9311 - val_recall: 0.9379 - val_precision: 0.9248\n",
      "Epoch 48/50\n",
      "356/356 [==============================] - 26s 73ms/step - loss: 0.0108 - accuracy: 0.9965 - recall: 0.9951 - precision: 0.9979 - val_loss: 0.3129 - val_accuracy: 0.9339 - val_recall: 0.9407 - val_precision: 0.9276\n",
      "Epoch 49/50\n",
      "356/356 [==============================] - 26s 73ms/step - loss: 0.0058 - accuracy: 0.9982 - recall: 0.9986 - precision: 0.9979 - val_loss: 0.2873 - val_accuracy: 0.9409 - val_recall: 0.9294 - val_precision: 0.9509\n",
      "Epoch 50/50\n",
      "356/356 [==============================] - 26s 73ms/step - loss: 0.0047 - accuracy: 0.9982 - recall: 0.9972 - precision: 0.9993 - val_loss: 0.3030 - val_accuracy: 0.9466 - val_recall: 0.9379 - val_precision: 0.9540\n",
      "accuracy: 94.66%\n",
      "23/23 [==============================] - 1s 42ms/step\n"
     ]
    },
    {
     "name": "stderr",
     "output_type": "stream",
     "text": [
      "WARNING:absl:At this time, the v2.11+ optimizer `tf.keras.optimizers.SGD` runs slowly on M1/M2 Macs, please use the legacy Keras optimizer instead, located at `tf.keras.optimizers.legacy.SGD`.\n",
      "WARNING:absl:There is a known slowdown when using v2.11+ Keras optimizers on M1/M2 Macs. Falling back to the legacy Keras optimizer, i.e., `tf.keras.optimizers.legacy.SGD`.\n"
     ]
    },
    {
     "name": "stdout",
     "output_type": "stream",
     "text": [
      "Epoch 1/50\n",
      "356/356 [==============================] - 27s 73ms/step - loss: 0.5852 - accuracy: 0.6732 - recall: 0.6210 - precision: 0.6918 - val_loss: 0.4442 - val_accuracy: 0.8172 - val_recall: 0.8192 - val_precision: 0.8146\n",
      "Epoch 2/50\n",
      "356/356 [==============================] - 25s 71ms/step - loss: 0.3978 - accuracy: 0.8234 - recall: 0.7685 - precision: 0.8622 - val_loss: 0.3511 - val_accuracy: 0.8354 - val_recall: 0.7316 - val_precision: 0.9217\n",
      "Epoch 3/50\n",
      "356/356 [==============================] - 26s 72ms/step - loss: 0.3340 - accuracy: 0.8540 - recall: 0.8179 - precision: 0.8807 - val_loss: 0.5929 - val_accuracy: 0.7398 - val_recall: 0.4802 - val_precision: 0.9942\n",
      "Epoch 4/50\n",
      "356/356 [==============================] - 25s 71ms/step - loss: 0.3074 - accuracy: 0.8611 - recall: 0.8236 - precision: 0.8895 - val_loss: 0.3170 - val_accuracy: 0.8692 - val_recall: 0.9294 - val_precision: 0.8287\n",
      "Epoch 5/50\n",
      "356/356 [==============================] - 25s 71ms/step - loss: 0.2749 - accuracy: 0.8832 - recall: 0.8603 - precision: 0.9010 - val_loss: 0.2930 - val_accuracy: 0.8762 - val_recall: 0.8842 - val_precision: 0.8694\n",
      "Epoch 6/50\n",
      "356/356 [==============================] - 25s 71ms/step - loss: 0.2494 - accuracy: 0.9001 - recall: 0.8800 - precision: 0.9162 - val_loss: 0.2679 - val_accuracy: 0.8931 - val_recall: 0.8305 - val_precision: 0.9484\n",
      "Epoch 7/50\n",
      "356/356 [==============================] - 26s 72ms/step - loss: 0.2344 - accuracy: 0.9008 - recall: 0.8836 - precision: 0.9145 - val_loss: 0.2416 - val_accuracy: 0.8917 - val_recall: 0.8531 - val_precision: 0.9235\n",
      "Epoch 8/50\n",
      "356/356 [==============================] - 25s 71ms/step - loss: 0.2081 - accuracy: 0.9156 - recall: 0.9076 - precision: 0.9219 - val_loss: 0.2568 - val_accuracy: 0.8903 - val_recall: 0.9124 - val_precision: 0.8730\n",
      "Epoch 9/50\n",
      "356/356 [==============================] - 25s 71ms/step - loss: 0.1910 - accuracy: 0.9216 - recall: 0.9111 - precision: 0.9301 - val_loss: 0.2304 - val_accuracy: 0.9001 - val_recall: 0.8729 - val_precision: 0.9224\n",
      "Epoch 10/50\n",
      "356/356 [==============================] - 26s 72ms/step - loss: 0.1878 - accuracy: 0.9237 - recall: 0.9167 - precision: 0.9292 - val_loss: 0.2730 - val_accuracy: 0.8748 - val_recall: 0.9181 - val_precision: 0.8442\n",
      "Epoch 11/50\n",
      "356/356 [==============================] - 26s 72ms/step - loss: 0.1712 - accuracy: 0.9258 - recall: 0.9195 - precision: 0.9307 - val_loss: 0.1950 - val_accuracy: 0.9241 - val_recall: 0.8955 - val_precision: 0.9491\n",
      "Epoch 12/50\n",
      "356/356 [==============================] - 26s 72ms/step - loss: 0.1419 - accuracy: 0.9444 - recall: 0.9386 - precision: 0.9493 - val_loss: 0.2135 - val_accuracy: 0.9255 - val_recall: 0.8927 - val_precision: 0.9547\n",
      "Epoch 13/50\n",
      "356/356 [==============================] - 26s 72ms/step - loss: 0.1505 - accuracy: 0.9399 - recall: 0.9365 - precision: 0.9425 - val_loss: 0.2165 - val_accuracy: 0.9128 - val_recall: 0.9350 - val_precision: 0.8946\n",
      "Epoch 14/50\n",
      "356/356 [==============================] - 26s 72ms/step - loss: 0.1262 - accuracy: 0.9483 - recall: 0.9450 - precision: 0.9510 - val_loss: 0.2285 - val_accuracy: 0.9015 - val_recall: 0.9294 - val_precision: 0.8797\n",
      "Epoch 15/50\n",
      "356/356 [==============================] - 26s 72ms/step - loss: 0.1152 - accuracy: 0.9574 - recall: 0.9570 - precision: 0.9576 - val_loss: 0.2072 - val_accuracy: 0.9212 - val_recall: 0.8983 - val_precision: 0.9408\n",
      "Epoch 16/50\n",
      "356/356 [==============================] - 25s 71ms/step - loss: 0.1041 - accuracy: 0.9578 - recall: 0.9534 - precision: 0.9616 - val_loss: 0.4314 - val_accuracy: 0.8354 - val_recall: 0.9859 - val_precision: 0.7570\n",
      "Epoch 17/50\n",
      "356/356 [==============================] - 26s 72ms/step - loss: 0.0932 - accuracy: 0.9652 - recall: 0.9633 - precision: 0.9667 - val_loss: 0.2688 - val_accuracy: 0.9001 - val_recall: 0.8616 - val_precision: 0.9327\n",
      "Epoch 18/50\n",
      "356/356 [==============================] - 25s 72ms/step - loss: 0.0845 - accuracy: 0.9669 - recall: 0.9619 - precision: 0.9715 - val_loss: 0.2595 - val_accuracy: 0.9001 - val_recall: 0.9379 - val_precision: 0.8714\n",
      "Epoch 19/50\n",
      "356/356 [==============================] - 26s 73ms/step - loss: 0.0877 - accuracy: 0.9666 - recall: 0.9633 - precision: 0.9695 - val_loss: 0.2379 - val_accuracy: 0.9128 - val_recall: 0.9153 - val_precision: 0.9101\n",
      "Epoch 20/50\n",
      "356/356 [==============================] - 26s 71ms/step - loss: 0.0734 - accuracy: 0.9750 - recall: 0.9753 - precision: 0.9746 - val_loss: 0.2247 - val_accuracy: 0.9114 - val_recall: 0.8983 - val_precision: 0.9217\n",
      "Epoch 21/50\n",
      "356/356 [==============================] - 26s 72ms/step - loss: 0.0733 - accuracy: 0.9715 - recall: 0.9711 - precision: 0.9718 - val_loss: 0.6772 - val_accuracy: 0.8326 - val_recall: 0.6977 - val_precision: 0.9537\n",
      "Epoch 22/50\n",
      "356/356 [==============================] - 26s 73ms/step - loss: 0.0821 - accuracy: 0.9715 - recall: 0.9704 - precision: 0.9724 - val_loss: 0.2389 - val_accuracy: 0.9156 - val_recall: 0.9435 - val_precision: 0.8930\n",
      "Epoch 23/50\n",
      "356/356 [==============================] - 26s 73ms/step - loss: 0.0606 - accuracy: 0.9789 - recall: 0.9767 - precision: 0.9809 - val_loss: 0.2449 - val_accuracy: 0.9212 - val_recall: 0.9209 - val_precision: 0.9209\n",
      "Epoch 24/50\n",
      "356/356 [==============================] - 26s 73ms/step - loss: 0.0443 - accuracy: 0.9863 - recall: 0.9845 - precision: 0.9880 - val_loss: 0.4370 - val_accuracy: 0.8720 - val_recall: 0.9633 - val_precision: 0.8138\n",
      "Epoch 25/50\n",
      "356/356 [==============================] - 26s 72ms/step - loss: 0.0592 - accuracy: 0.9761 - recall: 0.9767 - precision: 0.9753 - val_loss: 0.2609 - val_accuracy: 0.9128 - val_recall: 0.9266 - val_precision: 0.9011\n",
      "Epoch 26/50\n",
      "356/356 [==============================] - 26s 73ms/step - loss: 0.0521 - accuracy: 0.9789 - recall: 0.9760 - precision: 0.9815 - val_loss: 0.2192 - val_accuracy: 0.9241 - val_recall: 0.9266 - val_precision: 0.9213\n",
      "Epoch 27/50\n",
      "356/356 [==============================] - 25s 71ms/step - loss: 0.0339 - accuracy: 0.9880 - recall: 0.9866 - precision: 0.9894 - val_loss: 0.2184 - val_accuracy: 0.9395 - val_recall: 0.9350 - val_precision: 0.9430\n",
      "Epoch 28/50\n",
      "356/356 [==============================] - 25s 72ms/step - loss: 0.0327 - accuracy: 0.9891 - recall: 0.9901 - precision: 0.9880 - val_loss: 0.2675 - val_accuracy: 0.9255 - val_recall: 0.9068 - val_precision: 0.9413\n",
      "Epoch 29/50\n",
      "356/356 [==============================] - 26s 72ms/step - loss: 0.0269 - accuracy: 0.9902 - recall: 0.9880 - precision: 0.9922 - val_loss: 0.3364 - val_accuracy: 0.9184 - val_recall: 0.9124 - val_precision: 0.9229\n",
      "Epoch 30/50\n",
      "356/356 [==============================] - 26s 72ms/step - loss: 0.0310 - accuracy: 0.9873 - recall: 0.9880 - precision: 0.9866 - val_loss: 0.2471 - val_accuracy: 0.9297 - val_recall: 0.9237 - val_precision: 0.9343\n",
      "Epoch 31/50\n",
      "356/356 [==============================] - 26s 73ms/step - loss: 0.0256 - accuracy: 0.9912 - recall: 0.9894 - precision: 0.9929 - val_loss: 0.2917 - val_accuracy: 0.9269 - val_recall: 0.9463 - val_precision: 0.9103\n",
      "Epoch 32/50\n",
      "356/356 [==============================] - 26s 72ms/step - loss: 0.0105 - accuracy: 0.9986 - recall: 0.9993 - precision: 0.9979 - val_loss: 0.2748 - val_accuracy: 0.9283 - val_recall: 0.9322 - val_precision: 0.9244\n",
      "Epoch 33/50\n",
      "356/356 [==============================] - 26s 72ms/step - loss: 0.0152 - accuracy: 0.9944 - recall: 0.9936 - precision: 0.9951 - val_loss: 0.3216 - val_accuracy: 0.9114 - val_recall: 0.9463 - val_precision: 0.8839\n",
      "Epoch 34/50\n",
      "356/356 [==============================] - 26s 74ms/step - loss: 0.0247 - accuracy: 0.9919 - recall: 0.9915 - precision: 0.9922 - val_loss: 0.7518 - val_accuracy: 0.8439 - val_recall: 0.9605 - val_precision: 0.7780\n",
      "Epoch 35/50\n",
      "356/356 [==============================] - 26s 74ms/step - loss: 0.0709 - accuracy: 0.9726 - recall: 0.9739 - precision: 0.9711 - val_loss: 0.2567 - val_accuracy: 0.9198 - val_recall: 0.9124 - val_precision: 0.9255\n",
      "Epoch 36/50\n",
      "356/356 [==============================] - 26s 73ms/step - loss: 0.0324 - accuracy: 0.9887 - recall: 0.9866 - precision: 0.9908 - val_loss: 0.2771 - val_accuracy: 0.9226 - val_recall: 0.9463 - val_precision: 0.9030\n",
      "Epoch 37/50\n",
      "356/356 [==============================] - 26s 74ms/step - loss: 0.0161 - accuracy: 0.9961 - recall: 0.9958 - precision: 0.9965 - val_loss: 0.2552 - val_accuracy: 0.9339 - val_recall: 0.9463 - val_precision: 0.9229\n",
      "Epoch 38/50\n",
      "356/356 [==============================] - 26s 72ms/step - loss: 0.0099 - accuracy: 0.9972 - recall: 0.9972 - precision: 0.9972 - val_loss: 0.2819 - val_accuracy: 0.9269 - val_recall: 0.9379 - val_precision: 0.9171\n",
      "Epoch 39/50\n",
      "356/356 [==============================] - 26s 72ms/step - loss: 0.0088 - accuracy: 0.9968 - recall: 0.9958 - precision: 0.9979 - val_loss: 0.2589 - val_accuracy: 0.9339 - val_recall: 0.9350 - val_precision: 0.9324\n",
      "Epoch 40/50\n",
      "356/356 [==============================] - 26s 73ms/step - loss: 0.0048 - accuracy: 0.9989 - recall: 0.9986 - precision: 0.9993 - val_loss: 0.2637 - val_accuracy: 0.9325 - val_recall: 0.9322 - val_precision: 0.9322\n",
      "Epoch 41/50\n",
      "356/356 [==============================] - 26s 73ms/step - loss: 0.0036 - accuracy: 0.9993 - recall: 0.9986 - precision: 1.0000 - val_loss: 0.2788 - val_accuracy: 0.9297 - val_recall: 0.9435 - val_precision: 0.9176\n",
      "Epoch 42/50\n",
      "356/356 [==============================] - 26s 74ms/step - loss: 0.0020 - accuracy: 0.9996 - recall: 0.9993 - precision: 1.0000 - val_loss: 0.2797 - val_accuracy: 0.9311 - val_recall: 0.9379 - val_precision: 0.9248\n",
      "Epoch 43/50\n",
      "356/356 [==============================] - 27s 75ms/step - loss: 0.0034 - accuracy: 0.9989 - recall: 0.9986 - precision: 0.9993 - val_loss: 0.2788 - val_accuracy: 0.9325 - val_recall: 0.9379 - val_precision: 0.9274\n",
      "Epoch 44/50\n",
      "356/356 [==============================] - 26s 73ms/step - loss: 0.0031 - accuracy: 0.9993 - recall: 0.9986 - precision: 1.0000 - val_loss: 0.2797 - val_accuracy: 0.9283 - val_recall: 0.9350 - val_precision: 0.9220\n",
      "Epoch 45/50\n",
      "356/356 [==============================] - 26s 72ms/step - loss: 0.0031 - accuracy: 0.9993 - recall: 0.9986 - precision: 1.0000 - val_loss: 0.2953 - val_accuracy: 0.9325 - val_recall: 0.9492 - val_precision: 0.9180\n",
      "Epoch 46/50\n",
      "356/356 [==============================] - 26s 72ms/step - loss: 0.0031 - accuracy: 0.9989 - recall: 0.9986 - precision: 0.9993 - val_loss: 0.2940 - val_accuracy: 0.9311 - val_recall: 0.9379 - val_precision: 0.9248\n",
      "Epoch 47/50\n",
      "356/356 [==============================] - 25s 71ms/step - loss: 0.0027 - accuracy: 0.9993 - recall: 0.9986 - precision: 1.0000 - val_loss: 0.2994 - val_accuracy: 0.9297 - val_recall: 0.9435 - val_precision: 0.9176\n",
      "Epoch 48/50\n",
      "356/356 [==============================] - 25s 70ms/step - loss: 0.0026 - accuracy: 0.9989 - recall: 0.9986 - precision: 0.9993 - val_loss: 0.2879 - val_accuracy: 0.9339 - val_recall: 0.9379 - val_precision: 0.9300\n",
      "Epoch 49/50\n",
      "356/356 [==============================] - 25s 71ms/step - loss: 0.0026 - accuracy: 0.9993 - recall: 0.9993 - precision: 0.9993 - val_loss: 0.2871 - val_accuracy: 0.9311 - val_recall: 0.9322 - val_precision: 0.9296\n",
      "Epoch 50/50\n",
      "356/356 [==============================] - 25s 71ms/step - loss: 0.0026 - accuracy: 0.9989 - recall: 0.9986 - precision: 0.9993 - val_loss: 0.2937 - val_accuracy: 0.9339 - val_recall: 0.9407 - val_precision: 0.9276\n",
      "accuracy: 93.39%\n",
      "23/23 [==============================] - 1s 50ms/step\n"
     ]
    },
    {
     "name": "stderr",
     "output_type": "stream",
     "text": [
      "WARNING:absl:At this time, the v2.11+ optimizer `tf.keras.optimizers.SGD` runs slowly on M1/M2 Macs, please use the legacy Keras optimizer instead, located at `tf.keras.optimizers.legacy.SGD`.\n",
      "WARNING:absl:There is a known slowdown when using v2.11+ Keras optimizers on M1/M2 Macs. Falling back to the legacy Keras optimizer, i.e., `tf.keras.optimizers.legacy.SGD`.\n"
     ]
    },
    {
     "name": "stdout",
     "output_type": "stream",
     "text": [
      "Epoch 1/50\n",
      "356/356 [==============================] - 27s 73ms/step - loss: 0.5672 - accuracy: 0.6930 - recall: 0.6725 - precision: 0.6997 - val_loss: 0.4146 - val_accuracy: 0.8141 - val_recall: 0.7006 - val_precision: 0.9051\n",
      "Epoch 2/50\n",
      "356/356 [==============================] - 25s 71ms/step - loss: 0.3887 - accuracy: 0.8221 - recall: 0.7777 - precision: 0.8523 - val_loss: 0.3322 - val_accuracy: 0.8549 - val_recall: 0.7429 - val_precision: 0.9564\n",
      "Epoch 3/50\n",
      "356/356 [==============================] - 26s 72ms/step - loss: 0.3336 - accuracy: 0.8562 - recall: 0.8151 - precision: 0.8871 - val_loss: 0.2930 - val_accuracy: 0.8789 - val_recall: 0.8898 - val_precision: 0.8702\n",
      "Epoch 4/50\n",
      "356/356 [==============================] - 25s 70ms/step - loss: 0.3108 - accuracy: 0.8717 - recall: 0.8349 - precision: 0.9003 - val_loss: 0.2839 - val_accuracy: 0.8831 - val_recall: 0.8955 - val_precision: 0.8733\n",
      "Epoch 5/50\n",
      "356/356 [==============================] - 26s 72ms/step - loss: 0.2944 - accuracy: 0.8773 - recall: 0.8447 - precision: 0.9027 - val_loss: 0.2762 - val_accuracy: 0.8775 - val_recall: 0.7825 - val_precision: 0.9652\n",
      "Epoch 6/50\n",
      "356/356 [==============================] - 26s 72ms/step - loss: 0.2697 - accuracy: 0.8868 - recall: 0.8553 - precision: 0.9120 - val_loss: 0.3946 - val_accuracy: 0.8408 - val_recall: 0.6949 - val_precision: 0.9801\n",
      "Epoch 7/50\n",
      "356/356 [==============================] - 25s 71ms/step - loss: 0.2524 - accuracy: 0.8928 - recall: 0.8666 - precision: 0.9137 - val_loss: 0.2497 - val_accuracy: 0.8887 - val_recall: 0.8305 - val_precision: 0.9393\n",
      "Epoch 8/50\n",
      "356/356 [==============================] - 25s 71ms/step - loss: 0.2361 - accuracy: 0.8945 - recall: 0.8694 - precision: 0.9146 - val_loss: 0.2189 - val_accuracy: 0.9141 - val_recall: 0.9040 - val_precision: 0.9222\n",
      "Epoch 9/50\n",
      "356/356 [==============================] - 25s 71ms/step - loss: 0.2105 - accuracy: 0.9142 - recall: 0.8892 - precision: 0.9354 - val_loss: 0.2616 - val_accuracy: 0.8845 - val_recall: 0.8023 - val_precision: 0.9595\n",
      "Epoch 10/50\n",
      "356/356 [==============================] - 25s 70ms/step - loss: 0.2047 - accuracy: 0.9124 - recall: 0.8920 - precision: 0.9294 - val_loss: 0.2487 - val_accuracy: 0.8873 - val_recall: 0.9463 - val_precision: 0.8460\n",
      "Epoch 11/50\n",
      "356/356 [==============================] - 25s 71ms/step - loss: 0.1881 - accuracy: 0.9219 - recall: 0.9090 - precision: 0.9327 - val_loss: 0.2070 - val_accuracy: 0.9169 - val_recall: 0.9124 - val_precision: 0.9202\n",
      "Epoch 12/50\n",
      "356/356 [==============================] - 25s 71ms/step - loss: 0.1725 - accuracy: 0.9332 - recall: 0.9217 - precision: 0.9430 - val_loss: 0.1804 - val_accuracy: 0.9296 - val_recall: 0.8955 - val_precision: 0.9606\n",
      "Epoch 13/50\n",
      "356/356 [==============================] - 25s 71ms/step - loss: 0.1540 - accuracy: 0.9360 - recall: 0.9217 - precision: 0.9484 - val_loss: 0.2112 - val_accuracy: 0.9254 - val_recall: 0.9237 - val_precision: 0.9263\n",
      "Epoch 14/50\n",
      "356/356 [==============================] - 25s 71ms/step - loss: 0.1443 - accuracy: 0.9434 - recall: 0.9330 - precision: 0.9524 - val_loss: 0.1981 - val_accuracy: 0.9225 - val_recall: 0.8842 - val_precision: 0.9572\n",
      "Epoch 15/50\n",
      "356/356 [==============================] - 25s 70ms/step - loss: 0.1410 - accuracy: 0.9441 - recall: 0.9315 - precision: 0.9551 - val_loss: 0.1991 - val_accuracy: 0.9183 - val_recall: 0.9350 - val_precision: 0.9044\n",
      "Epoch 16/50\n",
      "356/356 [==============================] - 25s 70ms/step - loss: 0.1354 - accuracy: 0.9441 - recall: 0.9351 - precision: 0.9519 - val_loss: 0.1688 - val_accuracy: 0.9437 - val_recall: 0.9237 - val_precision: 0.9618\n",
      "Epoch 17/50\n",
      "356/356 [==============================] - 25s 70ms/step - loss: 0.1120 - accuracy: 0.9553 - recall: 0.9478 - precision: 0.9620 - val_loss: 0.2217 - val_accuracy: 0.9225 - val_recall: 0.8701 - val_precision: 0.9716\n",
      "Epoch 18/50\n",
      "356/356 [==============================] - 25s 70ms/step - loss: 0.1055 - accuracy: 0.9589 - recall: 0.9513 - precision: 0.9656 - val_loss: 0.1649 - val_accuracy: 0.9437 - val_recall: 0.9435 - val_precision: 0.9435\n",
      "Epoch 19/50\n",
      "356/356 [==============================] - 25s 69ms/step - loss: 0.0993 - accuracy: 0.9610 - recall: 0.9499 - precision: 0.9711 - val_loss: 0.2059 - val_accuracy: 0.9282 - val_recall: 0.8842 - val_precision: 0.9690\n",
      "Epoch 20/50\n",
      "356/356 [==============================] - 25s 69ms/step - loss: 0.0916 - accuracy: 0.9655 - recall: 0.9598 - precision: 0.9707 - val_loss: 0.2683 - val_accuracy: 0.9014 - val_recall: 0.9576 - val_precision: 0.8604\n",
      "Epoch 21/50\n",
      "356/356 [==============================] - 25s 69ms/step - loss: 0.0853 - accuracy: 0.9673 - recall: 0.9605 - precision: 0.9735 - val_loss: 0.2157 - val_accuracy: 0.9310 - val_recall: 0.8927 - val_precision: 0.9664\n",
      "Epoch 22/50\n",
      "356/356 [==============================] - 25s 70ms/step - loss: 0.0817 - accuracy: 0.9673 - recall: 0.9633 - precision: 0.9708 - val_loss: 0.2105 - val_accuracy: 0.9296 - val_recall: 0.9350 - val_precision: 0.9246\n",
      "Epoch 23/50\n",
      "356/356 [==============================] - 25s 71ms/step - loss: 0.0699 - accuracy: 0.9715 - recall: 0.9654 - precision: 0.9771 - val_loss: 0.1798 - val_accuracy: 0.9493 - val_recall: 0.9209 - val_precision: 0.9760\n",
      "Epoch 24/50\n",
      "356/356 [==============================] - 25s 70ms/step - loss: 0.0693 - accuracy: 0.9736 - recall: 0.9682 - precision: 0.9786 - val_loss: 0.2261 - val_accuracy: 0.9338 - val_recall: 0.9633 - val_precision: 0.9093\n",
      "Epoch 25/50\n",
      "356/356 [==============================] - 25s 70ms/step - loss: 0.0679 - accuracy: 0.9761 - recall: 0.9668 - precision: 0.9849 - val_loss: 0.2098 - val_accuracy: 0.9352 - val_recall: 0.9463 - val_precision: 0.9254\n",
      "Epoch 26/50\n",
      "356/356 [==============================] - 26s 72ms/step - loss: 0.0474 - accuracy: 0.9835 - recall: 0.9795 - precision: 0.9872 - val_loss: 0.2033 - val_accuracy: 0.9408 - val_recall: 0.9548 - val_precision: 0.9286\n",
      "Epoch 27/50\n",
      "356/356 [==============================] - 26s 72ms/step - loss: 0.0490 - accuracy: 0.9831 - recall: 0.9795 - precision: 0.9865 - val_loss: 0.2473 - val_accuracy: 0.9268 - val_recall: 0.9407 - val_precision: 0.9148\n",
      "Epoch 28/50\n",
      "356/356 [==============================] - 26s 72ms/step - loss: 0.0611 - accuracy: 0.9761 - recall: 0.9732 - precision: 0.9787 - val_loss: 0.2022 - val_accuracy: 0.9437 - val_recall: 0.9379 - val_precision: 0.9486\n",
      "Epoch 29/50\n",
      "356/356 [==============================] - 26s 72ms/step - loss: 0.0603 - accuracy: 0.9775 - recall: 0.9746 - precision: 0.9801 - val_loss: 0.2017 - val_accuracy: 0.9507 - val_recall: 0.9435 - val_precision: 0.9570\n",
      "Epoch 30/50\n",
      "356/356 [==============================] - 25s 70ms/step - loss: 0.0305 - accuracy: 0.9898 - recall: 0.9873 - precision: 0.9922 - val_loss: 0.2155 - val_accuracy: 0.9451 - val_recall: 0.9294 - val_precision: 0.9592\n",
      "Epoch 31/50\n",
      "356/356 [==============================] - 25s 70ms/step - loss: 0.0433 - accuracy: 0.9852 - recall: 0.9831 - precision: 0.9872 - val_loss: 0.2916 - val_accuracy: 0.9239 - val_recall: 0.8701 - val_precision: 0.9747\n",
      "Epoch 32/50\n",
      "356/356 [==============================] - 25s 70ms/step - loss: 0.0357 - accuracy: 0.9859 - recall: 0.9824 - precision: 0.9893 - val_loss: 0.2082 - val_accuracy: 0.9465 - val_recall: 0.9153 - val_precision: 0.9759\n",
      "Epoch 33/50\n",
      "356/356 [==============================] - 25s 71ms/step - loss: 0.0418 - accuracy: 0.9838 - recall: 0.9824 - precision: 0.9851 - val_loss: 0.2114 - val_accuracy: 0.9380 - val_recall: 0.9520 - val_precision: 0.9258\n",
      "Epoch 34/50\n",
      "356/356 [==============================] - 25s 71ms/step - loss: 0.0357 - accuracy: 0.9866 - recall: 0.9866 - precision: 0.9866 - val_loss: 0.2028 - val_accuracy: 0.9521 - val_recall: 0.9463 - val_precision: 0.9571\n",
      "Epoch 35/50\n",
      "356/356 [==============================] - 25s 71ms/step - loss: 0.0196 - accuracy: 0.9933 - recall: 0.9929 - precision: 0.9936 - val_loss: 0.2070 - val_accuracy: 0.9493 - val_recall: 0.9237 - val_precision: 0.9732\n",
      "Epoch 36/50\n",
      "356/356 [==============================] - 25s 70ms/step - loss: 0.0148 - accuracy: 0.9958 - recall: 0.9929 - precision: 0.9986 - val_loss: 0.2187 - val_accuracy: 0.9507 - val_recall: 0.9435 - val_precision: 0.9570\n",
      "Epoch 37/50\n",
      "356/356 [==============================] - 25s 70ms/step - loss: 0.0157 - accuracy: 0.9947 - recall: 0.9922 - precision: 0.9972 - val_loss: 0.2576 - val_accuracy: 0.9268 - val_recall: 0.9661 - val_precision: 0.8953\n",
      "Epoch 38/50\n",
      "356/356 [==============================] - 25s 70ms/step - loss: 0.0127 - accuracy: 0.9958 - recall: 0.9951 - precision: 0.9965 - val_loss: 0.1977 - val_accuracy: 0.9592 - val_recall: 0.9520 - val_precision: 0.9656\n",
      "Epoch 39/50\n",
      "356/356 [==============================] - 25s 70ms/step - loss: 0.0168 - accuracy: 0.9937 - recall: 0.9929 - precision: 0.9943 - val_loss: 0.2142 - val_accuracy: 0.9535 - val_recall: 0.9633 - val_precision: 0.9446\n",
      "Epoch 40/50\n",
      "356/356 [==============================] - 25s 70ms/step - loss: 0.0159 - accuracy: 0.9947 - recall: 0.9944 - precision: 0.9951 - val_loss: 0.2187 - val_accuracy: 0.9549 - val_recall: 0.9492 - val_precision: 0.9600\n",
      "Epoch 41/50\n",
      "356/356 [==============================] - 25s 70ms/step - loss: 0.0130 - accuracy: 0.9958 - recall: 0.9951 - precision: 0.9965 - val_loss: 0.2349 - val_accuracy: 0.9507 - val_recall: 0.9520 - val_precision: 0.9493\n",
      "Epoch 42/50\n",
      "356/356 [==============================] - 25s 70ms/step - loss: 0.1022 - accuracy: 0.9655 - recall: 0.9626 - precision: 0.9681 - val_loss: 0.2392 - val_accuracy: 0.9324 - val_recall: 0.9548 - val_precision: 0.9135\n",
      "Epoch 43/50\n",
      "356/356 [==============================] - 25s 70ms/step - loss: 0.0403 - accuracy: 0.9859 - recall: 0.9838 - precision: 0.9880 - val_loss: 0.2338 - val_accuracy: 0.9423 - val_recall: 0.9209 - val_precision: 0.9617\n",
      "Epoch 44/50\n",
      "356/356 [==============================] - 25s 70ms/step - loss: 0.0403 - accuracy: 0.9873 - recall: 0.9887 - precision: 0.9859 - val_loss: 0.1900 - val_accuracy: 0.9521 - val_recall: 0.9520 - val_precision: 0.9520\n",
      "Epoch 45/50\n",
      "356/356 [==============================] - 25s 70ms/step - loss: 0.0241 - accuracy: 0.9923 - recall: 0.9908 - precision: 0.9936 - val_loss: 0.2056 - val_accuracy: 0.9549 - val_recall: 0.9520 - val_precision: 0.9574\n",
      "Epoch 46/50\n",
      "356/356 [==============================] - 25s 70ms/step - loss: 0.0178 - accuracy: 0.9951 - recall: 0.9936 - precision: 0.9965 - val_loss: 0.2005 - val_accuracy: 0.9521 - val_recall: 0.9576 - val_precision: 0.9469\n",
      "Epoch 47/50\n",
      "356/356 [==============================] - 25s 70ms/step - loss: 0.0299 - accuracy: 0.9873 - recall: 0.9859 - precision: 0.9887 - val_loss: 0.2113 - val_accuracy: 0.9521 - val_recall: 0.9520 - val_precision: 0.9520\n",
      "Epoch 48/50\n",
      "356/356 [==============================] - 25s 70ms/step - loss: 0.0115 - accuracy: 0.9958 - recall: 0.9944 - precision: 0.9972 - val_loss: 0.2122 - val_accuracy: 0.9592 - val_recall: 0.9576 - val_precision: 0.9603\n",
      "Epoch 49/50\n",
      "356/356 [==============================] - 25s 70ms/step - loss: 0.0098 - accuracy: 0.9965 - recall: 0.9951 - precision: 0.9979 - val_loss: 0.2225 - val_accuracy: 0.9535 - val_recall: 0.9492 - val_precision: 0.9573\n",
      "Epoch 50/50\n",
      "356/356 [==============================] - 25s 70ms/step - loss: 0.0054 - accuracy: 0.9982 - recall: 0.9979 - precision: 0.9986 - val_loss: 0.2502 - val_accuracy: 0.9451 - val_recall: 0.9605 - val_precision: 0.9315\n",
      "accuracy: 94.51%\n",
      "23/23 [==============================] - 2s 58ms/step\n",
      "94.09% (+/- 0.46%)\n"
     ]
    }
   ],
   "source": [
    "confusion_matrices, histories = model_performance_training.train_performance_k_fold(number_model, samples, labels, epoch, batch_size,type_augmentation, type_denoising, differentiation, low_pass_cutoff, low_pass_order, type_transformation, probability)"
   ]
  },
  {
   "attachments": {},
   "cell_type": "markdown",
   "metadata": {},
   "source": [
    "# 11. Save results"
   ]
  },
  {
   "cell_type": "code",
   "execution_count": 8,
   "metadata": {},
   "outputs": [],
   "source": [
    "list_loss, list_val_loss, list_precision, list_val_precision, list_recall, list_val_recall, list_accuracy, list_val_accuracy = model_performance_training.get_metrics(epoch, histories)"
   ]
  },
  {
   "attachments": {},
   "cell_type": "markdown",
   "metadata": {},
   "source": [
    "### 11.1 Loss"
   ]
  },
  {
   "cell_type": "code",
   "execution_count": 9,
   "metadata": {},
   "outputs": [],
   "source": [
    "destination = 'experiments_results/3_feature_extraction/db_mel_spectrogram/'"
   ]
  },
  {
   "cell_type": "code",
   "execution_count": 10,
   "metadata": {},
   "outputs": [],
   "source": [
    "destination_temp = destination + 'loss.png'\n",
    "title_plot = 'Loss: using Mel-spectrogram as extracted feature' \n",
    "model_performance_training.plot_performance(list_loss, list_val_loss, title_plot, title_y_label = 'Loss', destination_file = destination_temp)\n"
   ]
  },
  {
   "attachments": {},
   "cell_type": "markdown",
   "metadata": {},
   "source": [
    "### 11.2 Precision"
   ]
  },
  {
   "cell_type": "code",
   "execution_count": 11,
   "metadata": {},
   "outputs": [],
   "source": [
    "destination_temp = destination + 'precision.png'\n",
    "title_plot = 'Precision: using Mel-spectrogram as extracted feature' \n",
    "model_performance_training.plot_performance(list_precision, list_val_precision, title_plot, title_y_label = 'Precision', destination_file = destination_temp)\n"
   ]
  },
  {
   "attachments": {},
   "cell_type": "markdown",
   "metadata": {},
   "source": [
    "### 11.3 Recall"
   ]
  },
  {
   "cell_type": "code",
   "execution_count": 12,
   "metadata": {},
   "outputs": [],
   "source": [
    "destination_temp = destination + 'recall.png'\n",
    "title_plot = 'Recall: using Mel-spectrogram as extracted feature' \n",
    "model_performance_training.plot_performance(list_recall, list_val_recall, title_plot, title_y_label = 'Recall', destination_file = destination_temp)\n"
   ]
  },
  {
   "attachments": {},
   "cell_type": "markdown",
   "metadata": {},
   "source": [
    "### 11.4 Accuracy"
   ]
  },
  {
   "cell_type": "code",
   "execution_count": 13,
   "metadata": {},
   "outputs": [],
   "source": [
    "destination_temp = destination + 'accuracy.png'\n",
    "title_plot = 'Accuracy: using Mel-spectrogram as extracted feature' \n",
    "model_performance_training.plot_performance(list_accuracy, list_val_accuracy, title_plot, title_y_label = 'Accuracy', destination_file = destination_temp)\n"
   ]
  },
  {
   "attachments": {},
   "cell_type": "markdown",
   "metadata": {},
   "source": [
    "###  11.5 Confusion matrix"
   ]
  },
  {
   "cell_type": "code",
   "execution_count": 14,
   "metadata": {},
   "outputs": [],
   "source": [
    "destination_temp = destination + 'confusion_matrix.png'\n",
    "title_plot = 'Confusion Matrix: using Mel-spectrogram as extracted feature'\n",
    "model_performance_training.plot_confusion_matrix(confusion_matrices, destination_temp, title_plot)"
   ]
  },
  {
   "cell_type": "code",
   "execution_count": 15,
   "metadata": {},
   "outputs": [
    {
     "name": "stdout",
     "output_type": "stream",
     "text": [
      "0.9409127950668335\n",
      "0.945073926448822\n",
      "0.9362011551856995\n",
      "0.28768177032470704\n"
     ]
    }
   ],
   "source": [
    "print(list_val_accuracy[-1])\n",
    "print(list_val_precision[-1])\n",
    "print(list_val_recall[-1])\n",
    "print(list_val_loss[-1])"
   ]
  }
 ],
 "metadata": {
  "kernelspec": {
   "display_name": "bach_thesis_4",
   "language": "python",
   "name": "python3"
  },
  "language_info": {
   "codemirror_mode": {
    "name": "ipython",
    "version": 3
   },
   "file_extension": ".py",
   "mimetype": "text/x-python",
   "name": "python",
   "nbconvert_exporter": "python",
   "pygments_lexer": "ipython3",
   "version": "3.9.16"
  },
  "orig_nbformat": 4
 },
 "nbformat": 4,
 "nbformat_minor": 2
}
