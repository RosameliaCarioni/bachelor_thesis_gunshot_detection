{
 "cells": [
  {
   "cell_type": "code",
   "execution_count": 1,
   "metadata": {},
   "outputs": [
    {
     "name": "stderr",
     "output_type": "stream",
     "text": [
      "/Users/rosameliacarioni/miniconda3/envs/bach_thesis_4/lib/python3.9/site-packages/tensorflow_io-0.32.0-py3.9-macosx-11.0-arm64.egg/tensorflow_io/python/ops/__init__.py:98: UserWarning: unable to load libtensorflow_io_plugins.so: unable to open file: libtensorflow_io_plugins.so, from paths: ['/Users/rosameliacarioni/miniconda3/envs/bach_thesis_4/lib/python3.9/site-packages/tensorflow_io-0.32.0-py3.9-macosx-11.0-arm64.egg/tensorflow_io/python/ops/libtensorflow_io_plugins.so']\n",
      "caused by: [\"[Errno 2] The file to load file system plugin from does not exist.: '/Users/rosameliacarioni/miniconda3/envs/bach_thesis_4/lib/python3.9/site-packages/tensorflow_io-0.32.0-py3.9-macosx-11.0-arm64.egg/tensorflow_io/python/ops/libtensorflow_io_plugins.so'\"]\n",
      "  warnings.warn(f\"unable to load libtensorflow_io_plugins.so: {e}\")\n",
      "/Users/rosameliacarioni/miniconda3/envs/bach_thesis_4/lib/python3.9/site-packages/tensorflow_io-0.32.0-py3.9-macosx-11.0-arm64.egg/tensorflow_io/python/ops/__init__.py:104: UserWarning: file system plugins are not loaded: unable to open file: libtensorflow_io.so, from paths: ['/Users/rosameliacarioni/miniconda3/envs/bach_thesis_4/lib/python3.9/site-packages/tensorflow_io-0.32.0-py3.9-macosx-11.0-arm64.egg/tensorflow_io/python/ops/libtensorflow_io.so']\n",
      "caused by: [\"dlopen(/Users/rosameliacarioni/miniconda3/envs/bach_thesis_4/lib/python3.9/site-packages/tensorflow_io-0.32.0-py3.9-macosx-11.0-arm64.egg/tensorflow_io/python/ops/libtensorflow_io.so, 0x0006): tried: '/Users/rosameliacarioni/miniconda3/envs/bach_thesis_4/lib/python3.9/site-packages/tensorflow_io-0.32.0-py3.9-macosx-11.0-arm64.egg/tensorflow_io/python/ops/libtensorflow_io.so' (no such file)\"]\n",
      "  warnings.warn(f\"file system plugins are not loaded: {e}\")\n"
     ]
    }
   ],
   "source": [
    "import matplotlib.pyplot as plt\n",
    "from methods_audio import data_handling\n",
    "from methods_audio import model_performance_training"
   ]
  },
  {
   "attachments": {},
   "cell_type": "markdown",
   "metadata": {},
   "source": [
    "# 1. Get data (file names)"
   ]
  },
  {
   "cell_type": "code",
   "execution_count": 2,
   "metadata": {},
   "outputs": [
    {
     "name": "stdout",
     "output_type": "stream",
     "text": [
      "Metal device set to: Apple M1 Pro\n",
      "\n",
      "systemMemory: 16.00 GB\n",
      "maxCacheSize: 5.33 GB\n",
      "\n"
     ]
    }
   ],
   "source": [
    "data = data_handling.get_data()"
   ]
  },
  {
   "attachments": {},
   "cell_type": "markdown",
   "metadata": {},
   "source": [
    "# 2. Read data (transforming file names into waves) <br>\n",
    "Additionally, the mean is removed and the data is normalized. "
   ]
  },
  {
   "cell_type": "code",
   "execution_count": 3,
   "metadata": {},
   "outputs": [],
   "source": [
    "data = data.map(data_handling.read_in_data) "
   ]
  },
  {
   "attachments": {},
   "cell_type": "markdown",
   "metadata": {},
   "source": [
    "# 3. Get input for model training "
   ]
  },
  {
   "cell_type": "code",
   "execution_count": 4,
   "metadata": {},
   "outputs": [
    {
     "name": "stderr",
     "output_type": "stream",
     "text": [
      "2023-05-15 17:32:50.520867: W tensorflow/tsl/platform/profile_utils/cpu_utils.cc:128] Failed to get CPU frequency: 0 Hz\n"
     ]
    }
   ],
   "source": [
    "samples, labels = data_handling.extract_samples_labels(data)"
   ]
  },
  {
   "attachments": {},
   "cell_type": "markdown",
   "metadata": {},
   "source": [
    "# Set arguments from baseline: "
   ]
  },
  {
   "attachments": {},
   "cell_type": "markdown",
   "metadata": {},
   "source": [
    "### 4. Data Augmentation (on train set only)\n",
    "### 5. Denoising (on train and validation set)"
   ]
  },
  {
   "cell_type": "code",
   "execution_count": 5,
   "metadata": {},
   "outputs": [],
   "source": [
    "# Define type of augmentation to do. Options: signal, spectogram, both, none \n",
    "type_augmentation = 'none'\n",
    "\n",
    "# Define type of denoising to do. Options: spectral_gating, low_pass, none \n",
    "type_denoising= 'none'\n",
    "differentiation = False \n",
    "\n",
    "# For low pass filter: not used\n",
    "low_pass_cutoff = 0 \n",
    "low_pass_order = 0 \n",
    "\n",
    "epoch = 50"
   ]
  },
  {
   "attachments": {},
   "cell_type": "markdown",
   "metadata": {},
   "source": [
    "# 6, 7 and 8. Choose batch size, feature and model"
   ]
  },
  {
   "cell_type": "code",
   "execution_count": 6,
   "metadata": {},
   "outputs": [],
   "source": [
    "# Select which model to use, depending on type of data or transformation,\n",
    "# for model 1 = Spectrogram, same as the baseline. For all the rest it should change \n",
    "type_transformation = 'spectrogram'  \n",
    "number_model = 1 # 1,2,3,4,5\n",
    "batch_size = 64 # or 64"
   ]
  },
  {
   "attachments": {},
   "cell_type": "markdown",
   "metadata": {},
   "source": [
    "# 9. Evaluate performance of the model by training it with K-Fold Validation"
   ]
  },
  {
   "cell_type": "code",
   "execution_count": 7,
   "metadata": {},
   "outputs": [
    {
     "name": "stderr",
     "output_type": "stream",
     "text": [
      "/Users/rosameliacarioni/University/Thesis/code/methods_audio/model_performance_training.py:78: VisibleDeprecationWarning: Creating an ndarray from ragged nested sequences (which is a list-or-tuple of lists-or-tuples-or ndarrays with different lengths or shapes) is deprecated. If you meant to do this, you must specify 'dtype=object' when creating the ndarray.\n",
      "  x_train = np.array(x)[train.astype(int)]\n",
      "/Users/rosameliacarioni/University/Thesis/code/methods_audio/model_performance_training.py:80: VisibleDeprecationWarning: Creating an ndarray from ragged nested sequences (which is a list-or-tuple of lists-or-tuples-or ndarrays with different lengths or shapes) is deprecated. If you meant to do this, you must specify 'dtype=object' when creating the ndarray.\n",
      "  x_valid = np.array(x)[test.astype(int)]\n",
      "WARNING:absl:At this time, the v2.11+ optimizer `tf.keras.optimizers.SGD` runs slowly on M1/M2 Macs, please use the legacy Keras optimizer instead, located at `tf.keras.optimizers.legacy.SGD`.\n",
      "WARNING:absl:There is a known slowdown when using v2.11+ Keras optimizers on M1/M2 Macs. Falling back to the legacy Keras optimizer, i.e., `tf.keras.optimizers.legacy.SGD`.\n"
     ]
    },
    {
     "name": "stdout",
     "output_type": "stream",
     "text": [
      "Epoch 1/50\n",
      "45/45 [==============================] - 19s 386ms/step - loss: 0.6942 - accuracy: 0.5104 - recall: 0.3164 - precision: 0.5138 - val_loss: 0.6950 - val_accuracy: 0.4993 - val_recall: 1.0000 - val_precision: 0.4993\n",
      "Epoch 2/50\n",
      "45/45 [==============================] - 17s 389ms/step - loss: 0.6936 - accuracy: 0.4942 - recall: 0.5982 - precision: 0.4936 - val_loss: 0.6950 - val_accuracy: 0.5007 - val_recall: 0.0000e+00 - val_precision: 0.0000e+00\n",
      "Epoch 3/50\n",
      "45/45 [==============================] - 18s 393ms/step - loss: 0.6933 - accuracy: 0.5135 - recall: 0.4089 - precision: 0.5147 - val_loss: 0.6912 - val_accuracy: 0.6948 - val_recall: 0.8479 - val_precision: 0.6487\n",
      "Epoch 4/50\n",
      "45/45 [==============================] - 17s 389ms/step - loss: 0.6925 - accuracy: 0.5550 - recall: 0.5593 - precision: 0.5527 - val_loss: 0.6975 - val_accuracy: 0.5007 - val_recall: 0.0000e+00 - val_precision: 0.0000e+00\n",
      "Epoch 5/50\n",
      "45/45 [==============================] - 18s 393ms/step - loss: 0.6901 - accuracy: 0.5385 - recall: 0.3927 - precision: 0.5516 - val_loss: 0.6893 - val_accuracy: 0.5007 - val_recall: 1.0000 - val_precision: 0.5000\n",
      "Epoch 6/50\n",
      "45/45 [==============================] - 18s 392ms/step - loss: 0.6881 - accuracy: 0.5424 - recall: 0.4710 - precision: 0.5472 - val_loss: 0.6857 - val_accuracy: 0.5274 - val_recall: 0.9887 - val_precision: 0.5139\n",
      "Epoch 7/50\n",
      "45/45 [==============================] - 17s 386ms/step - loss: 0.6812 - accuracy: 0.5765 - recall: 0.5770 - precision: 0.5745 - val_loss: 0.6778 - val_accuracy: 0.6681 - val_recall: 0.9099 - val_precision: 0.6129\n",
      "Epoch 8/50\n",
      "45/45 [==============================] - 17s 388ms/step - loss: 0.6701 - accuracy: 0.5994 - recall: 0.5840 - precision: 0.6006 - val_loss: 0.6628 - val_accuracy: 0.7046 - val_recall: 0.7690 - val_precision: 0.6808\n",
      "Epoch 9/50\n",
      "45/45 [==============================] - 17s 386ms/step - loss: 0.6503 - accuracy: 0.6563 - recall: 0.6949 - precision: 0.6436 - val_loss: 0.6445 - val_accuracy: 0.6456 - val_recall: 0.9268 - val_precision: 0.5928\n",
      "Epoch 10/50\n",
      "45/45 [==============================] - 18s 395ms/step - loss: 0.6123 - accuracy: 0.6979 - recall: 0.7874 - precision: 0.6665 - val_loss: 0.6279 - val_accuracy: 0.6596 - val_recall: 0.3859 - val_precision: 0.8509\n",
      "Epoch 11/50\n",
      "45/45 [==============================] - 17s 388ms/step - loss: 0.5788 - accuracy: 0.7137 - recall: 0.7952 - precision: 0.6824 - val_loss: 0.5865 - val_accuracy: 0.7131 - val_recall: 0.6563 - val_precision: 0.7397\n",
      "Epoch 12/50\n",
      "45/45 [==============================] - 17s 387ms/step - loss: 0.5465 - accuracy: 0.7355 - recall: 0.8037 - precision: 0.7060 - val_loss: 0.5370 - val_accuracy: 0.7342 - val_recall: 0.8141 - val_precision: 0.7015\n",
      "Epoch 13/50\n",
      "45/45 [==============================] - 17s 383ms/step - loss: 0.5138 - accuracy: 0.7615 - recall: 0.8129 - precision: 0.7359 - val_loss: 0.5276 - val_accuracy: 0.7117 - val_recall: 0.9070 - val_precision: 0.6518\n",
      "Epoch 14/50\n",
      "45/45 [==============================] - 17s 383ms/step - loss: 0.4664 - accuracy: 0.7925 - recall: 0.8220 - precision: 0.7750 - val_loss: 0.4697 - val_accuracy: 0.7722 - val_recall: 0.8310 - val_precision: 0.7431\n",
      "Epoch 15/50\n",
      "45/45 [==============================] - 17s 381ms/step - loss: 0.4309 - accuracy: 0.8217 - recall: 0.8369 - precision: 0.8111 - val_loss: 0.4455 - val_accuracy: 0.8129 - val_recall: 0.8507 - val_precision: 0.7906\n",
      "Epoch 16/50\n",
      "45/45 [==============================] - 17s 382ms/step - loss: 0.4012 - accuracy: 0.8343 - recall: 0.8475 - precision: 0.8247 - val_loss: 0.4297 - val_accuracy: 0.8368 - val_recall: 0.7803 - val_precision: 0.8794\n",
      "Epoch 17/50\n",
      "45/45 [==============================] - 17s 388ms/step - loss: 0.3925 - accuracy: 0.8396 - recall: 0.8439 - precision: 0.8357 - val_loss: 0.4248 - val_accuracy: 0.8383 - val_recall: 0.7831 - val_precision: 0.8797\n",
      "Epoch 18/50\n",
      "45/45 [==============================] - 17s 385ms/step - loss: 0.3772 - accuracy: 0.8526 - recall: 0.8489 - precision: 0.8543 - val_loss: 0.4646 - val_accuracy: 0.7876 - val_recall: 0.9127 - val_precision: 0.7297\n",
      "Epoch 19/50\n",
      "45/45 [==============================] - 17s 387ms/step - loss: 0.3653 - accuracy: 0.8516 - recall: 0.8531 - precision: 0.8495 - val_loss: 0.4143 - val_accuracy: 0.8411 - val_recall: 0.7944 - val_precision: 0.8758\n",
      "Epoch 20/50\n",
      "45/45 [==============================] - 17s 385ms/step - loss: 0.3602 - accuracy: 0.8597 - recall: 0.8595 - precision: 0.8589 - val_loss: 0.4018 - val_accuracy: 0.8453 - val_recall: 0.8113 - val_precision: 0.8701\n",
      "Epoch 21/50\n",
      "45/45 [==============================] - 18s 390ms/step - loss: 0.3549 - accuracy: 0.8611 - recall: 0.8566 - precision: 0.8633 - val_loss: 0.3939 - val_accuracy: 0.8495 - val_recall: 0.8479 - val_precision: 0.8503\n",
      "Epoch 22/50\n",
      "45/45 [==============================] - 18s 389ms/step - loss: 0.3505 - accuracy: 0.8639 - recall: 0.8595 - precision: 0.8662 - val_loss: 0.4014 - val_accuracy: 0.8495 - val_recall: 0.8225 - val_precision: 0.8690\n",
      "Epoch 23/50\n",
      "45/45 [==============================] - 18s 390ms/step - loss: 0.3508 - accuracy: 0.8607 - recall: 0.8616 - precision: 0.8592 - val_loss: 0.3893 - val_accuracy: 0.8467 - val_recall: 0.8169 - val_precision: 0.8683\n",
      "Epoch 24/50\n",
      "45/45 [==============================] - 18s 396ms/step - loss: 0.3403 - accuracy: 0.8681 - recall: 0.8602 - precision: 0.8731 - val_loss: 0.3857 - val_accuracy: 0.8495 - val_recall: 0.8451 - val_precision: 0.8523\n",
      "Epoch 25/50\n",
      "45/45 [==============================] - 18s 400ms/step - loss: 0.3396 - accuracy: 0.8674 - recall: 0.8588 - precision: 0.8729 - val_loss: 0.3873 - val_accuracy: 0.8495 - val_recall: 0.7887 - val_precision: 0.8974\n",
      "Epoch 26/50\n",
      "45/45 [==============================] - 18s 408ms/step - loss: 0.3347 - accuracy: 0.8716 - recall: 0.8708 - precision: 0.8714 - val_loss: 0.4102 - val_accuracy: 0.8425 - val_recall: 0.7606 - val_precision: 0.9091\n",
      "Epoch 27/50\n",
      "45/45 [==============================] - 18s 397ms/step - loss: 0.3302 - accuracy: 0.8720 - recall: 0.8623 - precision: 0.8784 - val_loss: 0.3786 - val_accuracy: 0.8537 - val_recall: 0.8451 - val_precision: 0.8596\n",
      "Epoch 28/50\n",
      "45/45 [==============================] - 17s 383ms/step - loss: 0.3320 - accuracy: 0.8702 - recall: 0.8665 - precision: 0.8721 - val_loss: 0.3752 - val_accuracy: 0.8551 - val_recall: 0.8423 - val_precision: 0.8642\n",
      "Epoch 29/50\n",
      "45/45 [==============================] - 18s 396ms/step - loss: 0.3292 - accuracy: 0.8702 - recall: 0.8679 - precision: 0.8710 - val_loss: 0.3733 - val_accuracy: 0.8537 - val_recall: 0.8197 - val_precision: 0.8792\n",
      "Epoch 30/50\n",
      "45/45 [==============================] - 18s 390ms/step - loss: 0.3293 - accuracy: 0.8706 - recall: 0.8630 - precision: 0.8754 - val_loss: 0.3751 - val_accuracy: 0.8495 - val_recall: 0.8732 - val_precision: 0.8333\n",
      "Epoch 31/50\n",
      "45/45 [==============================] - 18s 392ms/step - loss: 0.3214 - accuracy: 0.8720 - recall: 0.8658 - precision: 0.8757 - val_loss: 0.3712 - val_accuracy: 0.8565 - val_recall: 0.8592 - val_precision: 0.8543\n",
      "Epoch 32/50\n",
      "45/45 [==============================] - 18s 391ms/step - loss: 0.3187 - accuracy: 0.8776 - recall: 0.8729 - precision: 0.8803 - val_loss: 0.3794 - val_accuracy: 0.8579 - val_recall: 0.8338 - val_precision: 0.8757\n",
      "Epoch 33/50\n",
      "45/45 [==============================] - 18s 397ms/step - loss: 0.3145 - accuracy: 0.8748 - recall: 0.8750 - precision: 0.8738 - val_loss: 0.3688 - val_accuracy: 0.8594 - val_recall: 0.8873 - val_precision: 0.8400\n",
      "Epoch 34/50\n",
      "45/45 [==============================] - 17s 389ms/step - loss: 0.3144 - accuracy: 0.8748 - recall: 0.8715 - precision: 0.8764 - val_loss: 0.3906 - val_accuracy: 0.8481 - val_recall: 0.7775 - val_precision: 0.9049\n",
      "Epoch 35/50\n",
      "45/45 [==============================] - 17s 387ms/step - loss: 0.3148 - accuracy: 0.8734 - recall: 0.8701 - precision: 0.8750 - val_loss: 0.3792 - val_accuracy: 0.8509 - val_recall: 0.7915 - val_precision: 0.8978\n",
      "Epoch 36/50\n",
      "45/45 [==============================] - 18s 408ms/step - loss: 0.3092 - accuracy: 0.8811 - recall: 0.8771 - precision: 0.8834 - val_loss: 0.3576 - val_accuracy: 0.8608 - val_recall: 0.8648 - val_precision: 0.8575\n",
      "Epoch 37/50\n",
      "45/45 [==============================] - 18s 389ms/step - loss: 0.3064 - accuracy: 0.8822 - recall: 0.8814 - precision: 0.8820 - val_loss: 0.3855 - val_accuracy: 0.8523 - val_recall: 0.7803 - val_precision: 0.9112\n",
      "Epoch 38/50\n",
      "45/45 [==============================] - 17s 388ms/step - loss: 0.3040 - accuracy: 0.8772 - recall: 0.8736 - precision: 0.8792 - val_loss: 0.3757 - val_accuracy: 0.8425 - val_recall: 0.9183 - val_precision: 0.7971\n",
      "Epoch 39/50\n",
      "45/45 [==============================] - 18s 391ms/step - loss: 0.3032 - accuracy: 0.8822 - recall: 0.8835 - precision: 0.8804 - val_loss: 0.3720 - val_accuracy: 0.8368 - val_recall: 0.9155 - val_precision: 0.7908\n",
      "Epoch 40/50\n",
      "45/45 [==============================] - 18s 397ms/step - loss: 0.2994 - accuracy: 0.8779 - recall: 0.8743 - precision: 0.8799 - val_loss: 0.3411 - val_accuracy: 0.8664 - val_recall: 0.8563 - val_precision: 0.8736\n",
      "Epoch 41/50\n",
      "45/45 [==============================] - 17s 389ms/step - loss: 0.2951 - accuracy: 0.8825 - recall: 0.8771 - precision: 0.8859 - val_loss: 0.3441 - val_accuracy: 0.8664 - val_recall: 0.8648 - val_precision: 0.8672\n",
      "Epoch 42/50\n",
      "45/45 [==============================] - 19s 423ms/step - loss: 0.2952 - accuracy: 0.8818 - recall: 0.8856 - precision: 0.8782 - val_loss: 0.3378 - val_accuracy: 0.8608 - val_recall: 0.8254 - val_precision: 0.8879\n",
      "Epoch 43/50\n",
      "45/45 [==============================] - 18s 389ms/step - loss: 0.2899 - accuracy: 0.8892 - recall: 0.8884 - precision: 0.8890 - val_loss: 0.3298 - val_accuracy: 0.8692 - val_recall: 0.8704 - val_precision: 0.8680\n",
      "Epoch 44/50\n",
      "45/45 [==============================] - 17s 368ms/step - loss: 0.2922 - accuracy: 0.8832 - recall: 0.8750 - precision: 0.8888 - val_loss: 0.3543 - val_accuracy: 0.8523 - val_recall: 0.9183 - val_precision: 0.8109\n",
      "Epoch 45/50\n",
      "45/45 [==============================] - 16s 363ms/step - loss: 0.2793 - accuracy: 0.8892 - recall: 0.8891 - precision: 0.8885 - val_loss: 0.3441 - val_accuracy: 0.8551 - val_recall: 0.9155 - val_precision: 0.8166\n",
      "Epoch 46/50\n",
      "45/45 [==============================] - 16s 358ms/step - loss: 0.2856 - accuracy: 0.8871 - recall: 0.8856 - precision: 0.8875 - val_loss: 0.3357 - val_accuracy: 0.8579 - val_recall: 0.9127 - val_precision: 0.8223\n",
      "Epoch 47/50\n",
      "45/45 [==============================] - 16s 362ms/step - loss: 0.2769 - accuracy: 0.8899 - recall: 0.8912 - precision: 0.8881 - val_loss: 0.3355 - val_accuracy: 0.8664 - val_recall: 0.8225 - val_precision: 0.9012\n",
      "Epoch 48/50\n",
      "45/45 [==============================] - 17s 376ms/step - loss: 0.2747 - accuracy: 0.8913 - recall: 0.8898 - precision: 0.8917 - val_loss: 0.3371 - val_accuracy: 0.8579 - val_recall: 0.8000 - val_precision: 0.9045\n",
      "Epoch 49/50\n",
      "45/45 [==============================] - 16s 365ms/step - loss: 0.2780 - accuracy: 0.8811 - recall: 0.8799 - precision: 0.8812 - val_loss: 0.3189 - val_accuracy: 0.8678 - val_recall: 0.8817 - val_precision: 0.8575\n",
      "Epoch 50/50\n",
      "45/45 [==============================] - 16s 366ms/step - loss: 0.2694 - accuracy: 0.8903 - recall: 0.8877 - precision: 0.8915 - val_loss: 0.3121 - val_accuracy: 0.8692 - val_recall: 0.8704 - val_precision: 0.8680\n",
      "accuracy: 86.92%\n",
      "23/23 [==============================] - 1s 41ms/step\n"
     ]
    },
    {
     "name": "stderr",
     "output_type": "stream",
     "text": [
      "WARNING:absl:At this time, the v2.11+ optimizer `tf.keras.optimizers.SGD` runs slowly on M1/M2 Macs, please use the legacy Keras optimizer instead, located at `tf.keras.optimizers.legacy.SGD`.\n",
      "WARNING:absl:There is a known slowdown when using v2.11+ Keras optimizers on M1/M2 Macs. Falling back to the legacy Keras optimizer, i.e., `tf.keras.optimizers.legacy.SGD`.\n"
     ]
    },
    {
     "name": "stdout",
     "output_type": "stream",
     "text": [
      "Epoch 1/50\n",
      "45/45 [==============================] - 18s 385ms/step - loss: 0.6937 - accuracy: 0.5160 - recall: 0.3705 - precision: 0.5203 - val_loss: 0.6918 - val_accuracy: 0.5907 - val_recall: 0.9463 - val_precision: 0.5519\n",
      "Epoch 2/50\n",
      "45/45 [==============================] - 17s 373ms/step - loss: 0.6925 - accuracy: 0.5195 - recall: 0.5243 - precision: 0.5178 - val_loss: 0.6905 - val_accuracy: 0.5021 - val_recall: 0.0000e+00 - val_precision: 0.0000e+00\n",
      "Epoch 3/50\n",
      "45/45 [==============================] - 17s 373ms/step - loss: 0.6914 - accuracy: 0.5157 - recall: 0.4418 - precision: 0.5165 - val_loss: 0.6886 - val_accuracy: 0.5021 - val_recall: 0.0000e+00 - val_precision: 0.0000e+00\n",
      "Epoch 4/50\n",
      "45/45 [==============================] - 17s 369ms/step - loss: 0.6891 - accuracy: 0.5558 - recall: 0.5229 - precision: 0.5580 - val_loss: 0.6852 - val_accuracy: 0.7201 - val_recall: 0.6525 - val_precision: 0.7524\n",
      "Epoch 5/50\n",
      "45/45 [==============================] - 17s 368ms/step - loss: 0.6860 - accuracy: 0.5670 - recall: 0.4940 - precision: 0.5766 - val_loss: 0.6825 - val_accuracy: 0.5710 - val_recall: 0.9944 - val_precision: 0.5374\n",
      "Epoch 6/50\n",
      "45/45 [==============================] - 17s 373ms/step - loss: 0.6801 - accuracy: 0.5723 - recall: 0.4961 - precision: 0.5834 - val_loss: 0.6727 - val_accuracy: 0.6765 - val_recall: 0.9181 - val_precision: 0.6179\n",
      "Epoch 7/50\n",
      "45/45 [==============================] - 17s 369ms/step - loss: 0.6702 - accuracy: 0.6170 - recall: 0.6422 - precision: 0.6099 - val_loss: 0.6550 - val_accuracy: 0.6835 - val_recall: 0.8898 - val_precision: 0.6287\n",
      "Epoch 8/50\n",
      "45/45 [==============================] - 17s 370ms/step - loss: 0.6496 - accuracy: 0.6595 - recall: 0.7466 - precision: 0.6347 - val_loss: 0.6751 - val_accuracy: 0.5021 - val_recall: 0.0000e+00 - val_precision: 0.0000e+00\n",
      "Epoch 9/50\n",
      "45/45 [==============================] - 17s 371ms/step - loss: 0.6210 - accuracy: 0.6820 - recall: 0.7650 - precision: 0.6550 - val_loss: 0.6278 - val_accuracy: 0.6428 - val_recall: 0.9548 - val_precision: 0.5868\n",
      "Epoch 10/50\n",
      "45/45 [==============================] - 17s 369ms/step - loss: 0.5933 - accuracy: 0.6943 - recall: 0.7756 - precision: 0.6661 - val_loss: 0.5727 - val_accuracy: 0.7398 - val_recall: 0.6751 - val_precision: 0.7735\n",
      "Epoch 11/50\n",
      "45/45 [==============================] - 16s 366ms/step - loss: 0.5627 - accuracy: 0.7256 - recall: 0.7975 - precision: 0.6962 - val_loss: 0.5295 - val_accuracy: 0.7679 - val_recall: 0.7599 - val_precision: 0.7708\n",
      "Epoch 12/50\n",
      "45/45 [==============================] - 16s 365ms/step - loss: 0.5244 - accuracy: 0.7482 - recall: 0.7989 - precision: 0.7242 - val_loss: 0.4927 - val_accuracy: 0.7314 - val_recall: 0.8559 - val_precision: 0.6840\n",
      "Epoch 13/50\n",
      "45/45 [==============================] - 17s 368ms/step - loss: 0.4866 - accuracy: 0.7710 - recall: 0.8116 - precision: 0.7497 - val_loss: 0.4519 - val_accuracy: 0.8143 - val_recall: 0.7768 - val_precision: 0.8384\n",
      "Epoch 14/50\n",
      "45/45 [==============================] - 17s 368ms/step - loss: 0.4607 - accuracy: 0.7985 - recall: 0.7996 - precision: 0.7968 - val_loss: 0.4187 - val_accuracy: 0.8143 - val_recall: 0.8503 - val_precision: 0.7921\n",
      "Epoch 15/50\n",
      "45/45 [==============================] - 17s 368ms/step - loss: 0.4322 - accuracy: 0.8213 - recall: 0.8165 - precision: 0.8235 - val_loss: 0.3947 - val_accuracy: 0.8270 - val_recall: 0.8559 - val_precision: 0.8080\n",
      "Epoch 16/50\n",
      "45/45 [==============================] - 16s 365ms/step - loss: 0.4117 - accuracy: 0.8305 - recall: 0.8250 - precision: 0.8332 - val_loss: 0.3784 - val_accuracy: 0.8439 - val_recall: 0.8701 - val_precision: 0.8257\n",
      "Epoch 17/50\n",
      "45/45 [==============================] - 17s 368ms/step - loss: 0.4005 - accuracy: 0.8343 - recall: 0.8356 - precision: 0.8326 - val_loss: 0.3850 - val_accuracy: 0.8312 - val_recall: 0.9011 - val_precision: 0.7896\n",
      "Epoch 18/50\n",
      "45/45 [==============================] - 17s 366ms/step - loss: 0.3862 - accuracy: 0.8417 - recall: 0.8398 - precision: 0.8422 - val_loss: 0.4118 - val_accuracy: 0.8312 - val_recall: 0.7090 - val_precision: 0.9366\n",
      "Epoch 19/50\n",
      "45/45 [==============================] - 17s 367ms/step - loss: 0.3822 - accuracy: 0.8449 - recall: 0.8419 - precision: 0.8461 - val_loss: 0.3530 - val_accuracy: 0.8551 - val_recall: 0.8418 - val_precision: 0.8638\n",
      "Epoch 20/50\n",
      "45/45 [==============================] - 16s 365ms/step - loss: 0.3755 - accuracy: 0.8519 - recall: 0.8454 - precision: 0.8557 - val_loss: 0.3474 - val_accuracy: 0.8551 - val_recall: 0.8446 - val_precision: 0.8617\n",
      "Epoch 21/50\n",
      "45/45 [==============================] - 17s 367ms/step - loss: 0.3706 - accuracy: 0.8537 - recall: 0.8476 - precision: 0.8572 - val_loss: 0.3559 - val_accuracy: 0.8594 - val_recall: 0.8051 - val_precision: 0.9019\n",
      "Epoch 22/50\n",
      "45/45 [==============================] - 17s 369ms/step - loss: 0.3608 - accuracy: 0.8600 - recall: 0.8483 - precision: 0.8679 - val_loss: 0.3610 - val_accuracy: 0.8509 - val_recall: 0.7571 - val_precision: 0.9306\n",
      "Epoch 23/50\n",
      "45/45 [==============================] - 17s 370ms/step - loss: 0.3537 - accuracy: 0.8621 - recall: 0.8553 - precision: 0.8663 - val_loss: 0.3971 - val_accuracy: 0.8087 - val_recall: 0.9266 - val_precision: 0.7489\n",
      "Epoch 24/50\n",
      "45/45 [==============================] - 17s 367ms/step - loss: 0.3578 - accuracy: 0.8568 - recall: 0.8525 - precision: 0.8592 - val_loss: 0.3331 - val_accuracy: 0.8636 - val_recall: 0.8785 - val_precision: 0.8521\n",
      "Epoch 25/50\n",
      "45/45 [==============================] - 17s 368ms/step - loss: 0.3509 - accuracy: 0.8639 - recall: 0.8511 - precision: 0.8726 - val_loss: 0.3263 - val_accuracy: 0.8720 - val_recall: 0.8616 - val_precision: 0.8790\n",
      "Epoch 26/50\n",
      "45/45 [==============================] - 16s 364ms/step - loss: 0.3452 - accuracy: 0.8642 - recall: 0.8574 - precision: 0.8685 - val_loss: 0.3358 - val_accuracy: 0.8636 - val_recall: 0.8898 - val_precision: 0.8445\n",
      "Epoch 27/50\n",
      "45/45 [==============================] - 16s 364ms/step - loss: 0.3436 - accuracy: 0.8674 - recall: 0.8567 - precision: 0.8746 - val_loss: 0.3236 - val_accuracy: 0.8650 - val_recall: 0.8390 - val_precision: 0.8839\n",
      "Epoch 28/50\n",
      "45/45 [==============================] - 16s 365ms/step - loss: 0.3382 - accuracy: 0.8649 - recall: 0.8574 - precision: 0.8697 - val_loss: 0.3204 - val_accuracy: 0.8706 - val_recall: 0.8475 - val_precision: 0.8876\n",
      "Epoch 29/50\n",
      "45/45 [==============================] - 16s 364ms/step - loss: 0.3367 - accuracy: 0.8692 - recall: 0.8610 - precision: 0.8746 - val_loss: 0.3221 - val_accuracy: 0.8692 - val_recall: 0.8927 - val_precision: 0.8518\n",
      "Epoch 30/50\n",
      "45/45 [==============================] - 16s 362ms/step - loss: 0.3328 - accuracy: 0.8677 - recall: 0.8645 - precision: 0.8694 - val_loss: 0.3213 - val_accuracy: 0.8790 - val_recall: 0.8333 - val_precision: 0.9161\n",
      "Epoch 31/50\n",
      "45/45 [==============================] - 16s 362ms/step - loss: 0.3296 - accuracy: 0.8730 - recall: 0.8652 - precision: 0.8782 - val_loss: 0.3647 - val_accuracy: 0.8509 - val_recall: 0.7486 - val_precision: 0.9397\n",
      "Epoch 32/50\n",
      "45/45 [==============================] - 16s 365ms/step - loss: 0.3250 - accuracy: 0.8720 - recall: 0.8610 - precision: 0.8796 - val_loss: 0.3110 - val_accuracy: 0.8762 - val_recall: 0.8672 - val_precision: 0.8822\n",
      "Epoch 33/50\n",
      "45/45 [==============================] - 16s 364ms/step - loss: 0.3202 - accuracy: 0.8727 - recall: 0.8610 - precision: 0.8809 - val_loss: 0.3124 - val_accuracy: 0.8734 - val_recall: 0.8898 - val_precision: 0.8607\n",
      "Epoch 34/50\n",
      "45/45 [==============================] - 16s 366ms/step - loss: 0.3186 - accuracy: 0.8723 - recall: 0.8680 - precision: 0.8748 - val_loss: 0.3088 - val_accuracy: 0.8776 - val_recall: 0.8644 - val_precision: 0.8870\n",
      "Epoch 35/50\n",
      "45/45 [==============================] - 17s 367ms/step - loss: 0.3165 - accuracy: 0.8772 - recall: 0.8723 - precision: 0.8803 - val_loss: 0.3338 - val_accuracy: 0.8636 - val_recall: 0.7740 - val_precision: 0.9416\n",
      "Epoch 36/50\n",
      "45/45 [==============================] - 17s 369ms/step - loss: 0.3101 - accuracy: 0.8765 - recall: 0.8666 - precision: 0.8835 - val_loss: 0.3044 - val_accuracy: 0.8833 - val_recall: 0.8503 - val_precision: 0.9094\n",
      "Epoch 37/50\n",
      "45/45 [==============================] - 17s 371ms/step - loss: 0.3106 - accuracy: 0.8720 - recall: 0.8652 - precision: 0.8763 - val_loss: 0.3049 - val_accuracy: 0.8833 - val_recall: 0.8588 - val_precision: 0.9021\n",
      "Epoch 38/50\n",
      "45/45 [==============================] - 17s 366ms/step - loss: 0.3083 - accuracy: 0.8741 - recall: 0.8666 - precision: 0.8790 - val_loss: 0.3031 - val_accuracy: 0.8847 - val_recall: 0.8475 - val_precision: 0.9146\n",
      "Epoch 39/50\n",
      "45/45 [==============================] - 16s 366ms/step - loss: 0.3010 - accuracy: 0.8758 - recall: 0.8737 - precision: 0.8768 - val_loss: 0.3027 - val_accuracy: 0.8790 - val_recall: 0.8390 - val_precision: 0.9110\n",
      "Epoch 40/50\n",
      "45/45 [==============================] - 16s 363ms/step - loss: 0.2963 - accuracy: 0.8762 - recall: 0.8723 - precision: 0.8785 - val_loss: 0.2976 - val_accuracy: 0.8889 - val_recall: 0.8531 - val_precision: 0.9179\n",
      "Epoch 41/50\n",
      "45/45 [==============================] - 16s 363ms/step - loss: 0.2930 - accuracy: 0.8794 - recall: 0.8709 - precision: 0.8852 - val_loss: 0.2930 - val_accuracy: 0.8861 - val_recall: 0.8503 - val_precision: 0.9149\n",
      "Epoch 42/50\n",
      "45/45 [==============================] - 16s 365ms/step - loss: 0.2860 - accuracy: 0.8843 - recall: 0.8779 - precision: 0.8886 - val_loss: 0.2910 - val_accuracy: 0.8917 - val_recall: 0.9040 - val_precision: 0.8815\n",
      "Epoch 43/50\n",
      "45/45 [==============================] - 16s 363ms/step - loss: 0.2826 - accuracy: 0.8860 - recall: 0.8800 - precision: 0.8901 - val_loss: 0.2872 - val_accuracy: 0.8875 - val_recall: 0.8559 - val_precision: 0.9127\n",
      "Epoch 44/50\n",
      "45/45 [==============================] - 16s 365ms/step - loss: 0.2788 - accuracy: 0.8801 - recall: 0.8779 - precision: 0.8810 - val_loss: 0.2870 - val_accuracy: 0.8875 - val_recall: 0.8475 - val_precision: 0.9202\n",
      "Epoch 45/50\n",
      "45/45 [==============================] - 16s 365ms/step - loss: 0.2682 - accuracy: 0.8906 - recall: 0.8829 - precision: 0.8961 - val_loss: 0.2881 - val_accuracy: 0.8847 - val_recall: 0.8333 - val_precision: 0.9277\n",
      "Epoch 46/50\n",
      "45/45 [==============================] - 16s 365ms/step - loss: 0.2667 - accuracy: 0.8871 - recall: 0.8793 - precision: 0.8926 - val_loss: 0.3210 - val_accuracy: 0.8650 - val_recall: 0.9350 - val_precision: 0.8193\n",
      "Epoch 47/50\n",
      "45/45 [==============================] - 17s 367ms/step - loss: 0.2665 - accuracy: 0.8839 - recall: 0.8772 - precision: 0.8885 - val_loss: 0.3194 - val_accuracy: 0.8720 - val_recall: 0.7853 - val_precision: 0.9488\n",
      "Epoch 48/50\n",
      "45/45 [==============================] - 16s 365ms/step - loss: 0.2650 - accuracy: 0.8867 - recall: 0.8843 - precision: 0.8880 - val_loss: 0.2747 - val_accuracy: 0.8875 - val_recall: 0.8616 - val_precision: 0.9077\n",
      "Epoch 49/50\n",
      "45/45 [==============================] - 17s 369ms/step - loss: 0.2550 - accuracy: 0.8899 - recall: 0.8829 - precision: 0.8948 - val_loss: 0.2982 - val_accuracy: 0.8819 - val_recall: 0.8192 - val_precision: 0.9355\n",
      "Epoch 50/50\n",
      "45/45 [==============================] - 17s 367ms/step - loss: 0.2490 - accuracy: 0.8959 - recall: 0.8892 - precision: 0.9006 - val_loss: 0.2735 - val_accuracy: 0.8875 - val_recall: 0.8729 - val_precision: 0.8983\n",
      "accuracy: 88.75%\n",
      "23/23 [==============================] - 1s 42ms/step\n"
     ]
    },
    {
     "name": "stderr",
     "output_type": "stream",
     "text": [
      "WARNING:absl:At this time, the v2.11+ optimizer `tf.keras.optimizers.SGD` runs slowly on M1/M2 Macs, please use the legacy Keras optimizer instead, located at `tf.keras.optimizers.legacy.SGD`.\n",
      "WARNING:absl:There is a known slowdown when using v2.11+ Keras optimizers on M1/M2 Macs. Falling back to the legacy Keras optimizer, i.e., `tf.keras.optimizers.legacy.SGD`.\n"
     ]
    },
    {
     "name": "stdout",
     "output_type": "stream",
     "text": [
      "Epoch 1/50\n",
      "45/45 [==============================] - 20s 414ms/step - loss: 0.6962 - accuracy: 0.4988 - recall: 0.4785 - precision: 0.4971 - val_loss: 0.6971 - val_accuracy: 0.4979 - val_recall: 1.0000 - val_precision: 0.4979\n",
      "Epoch 2/50\n",
      "45/45 [==============================] - 18s 405ms/step - loss: 0.6917 - accuracy: 0.5322 - recall: 0.6126 - precision: 0.5264 - val_loss: 0.6945 - val_accuracy: 0.5021 - val_recall: 0.0000e+00 - val_precision: 0.0000e+00\n",
      "Epoch 3/50\n",
      "45/45 [==============================] - 18s 406ms/step - loss: 0.6910 - accuracy: 0.5188 - recall: 0.4524 - precision: 0.5199 - val_loss: 0.6939 - val_accuracy: 0.5021 - val_recall: 0.0000e+00 - val_precision: 0.0000e+00\n",
      "Epoch 4/50\n",
      "45/45 [==============================] - 18s 406ms/step - loss: 0.6894 - accuracy: 0.5399 - recall: 0.3606 - precision: 0.5597 - val_loss: 0.6858 - val_accuracy: 0.5120 - val_recall: 1.0000 - val_precision: 0.5050\n",
      "Epoch 5/50\n",
      "45/45 [==============================] - 18s 403ms/step - loss: 0.6856 - accuracy: 0.5508 - recall: 0.5222 - precision: 0.5522 - val_loss: 0.6855 - val_accuracy: 0.5021 - val_recall: 0.0000e+00 - val_precision: 0.0000e+00\n",
      "Epoch 6/50\n",
      "45/45 [==============================] - 18s 409ms/step - loss: 0.6793 - accuracy: 0.5793 - recall: 0.5279 - precision: 0.5867 - val_loss: 0.6657 - val_accuracy: 0.7060 - val_recall: 0.8644 - val_precision: 0.6552\n",
      "Epoch 7/50\n",
      "45/45 [==============================] - 18s 409ms/step - loss: 0.6664 - accuracy: 0.6233 - recall: 0.6401 - precision: 0.6178 - val_loss: 0.6503 - val_accuracy: 0.6695 - val_recall: 0.9379 - val_precision: 0.6092\n",
      "Epoch 8/50\n",
      "45/45 [==============================] - 18s 405ms/step - loss: 0.6436 - accuracy: 0.6553 - recall: 0.7114 - precision: 0.6384 - val_loss: 0.6213 - val_accuracy: 0.6765 - val_recall: 0.9181 - val_precision: 0.6179\n",
      "Epoch 9/50\n",
      "45/45 [==============================] - 18s 408ms/step - loss: 0.6200 - accuracy: 0.6644 - recall: 0.7382 - precision: 0.6421 - val_loss: 0.5919 - val_accuracy: 0.7328 - val_recall: 0.6949 - val_precision: 0.7500\n",
      "Epoch 10/50\n",
      "45/45 [==============================] - 18s 409ms/step - loss: 0.5899 - accuracy: 0.6919 - recall: 0.7586 - precision: 0.6681 - val_loss: 0.5611 - val_accuracy: 0.7468 - val_recall: 0.7316 - val_precision: 0.7529\n",
      "Epoch 11/50\n",
      "45/45 [==============================] - 18s 404ms/step - loss: 0.5572 - accuracy: 0.7309 - recall: 0.8066 - precision: 0.6995 - val_loss: 0.5752 - val_accuracy: 0.7398 - val_recall: 0.5254 - val_precision: 0.9163\n",
      "Epoch 12/50\n",
      "45/45 [==============================] - 18s 408ms/step - loss: 0.5222 - accuracy: 0.7594 - recall: 0.8052 - precision: 0.7366 - val_loss: 0.5367 - val_accuracy: 0.7707 - val_recall: 0.6045 - val_precision: 0.9030\n",
      "Epoch 13/50\n",
      "45/45 [==============================] - 18s 408ms/step - loss: 0.4834 - accuracy: 0.7791 - recall: 0.8066 - precision: 0.7635 - val_loss: 0.4799 - val_accuracy: 0.7581 - val_recall: 0.9181 - val_precision: 0.6944\n",
      "Epoch 14/50\n",
      "45/45 [==============================] - 18s 409ms/step - loss: 0.4470 - accuracy: 0.8023 - recall: 0.8207 - precision: 0.7906 - val_loss: 0.5166 - val_accuracy: 0.7609 - val_recall: 0.5734 - val_precision: 0.9144\n",
      "Epoch 15/50\n",
      "45/45 [==============================] - 18s 409ms/step - loss: 0.4228 - accuracy: 0.8199 - recall: 0.8186 - precision: 0.8198 - val_loss: 0.4015 - val_accuracy: 0.8397 - val_recall: 0.8277 - val_precision: 0.8468\n",
      "Epoch 16/50\n",
      "45/45 [==============================] - ETA: 0s - loss: 0.3959 - accuracy: 0.8389 - recall: 0.8335 - precision: 0.8418"
     ]
    }
   ],
   "source": [
    "confusion_matrices, histories = model_performance_training.train_performance_k_fold(number_model, samples, labels, epoch, batch_size,type_augmentation, type_denoising, differentiation, low_pass_cutoff, low_pass_order, type_transformation)"
   ]
  },
  {
   "attachments": {},
   "cell_type": "markdown",
   "metadata": {},
   "source": [
    "# 10. Save results"
   ]
  },
  {
   "cell_type": "code",
   "execution_count": null,
   "metadata": {},
   "outputs": [],
   "source": [
    "list_loss, list_val_loss, list_precision, list_val_precision, list_recall, list_val_recall, list_accuracy, list_val_accuracy = model_performance_training.get_metrics(epoch, histories)"
   ]
  },
  {
   "attachments": {},
   "cell_type": "markdown",
   "metadata": {},
   "source": [
    "### 10.1 Loss"
   ]
  },
  {
   "cell_type": "code",
   "execution_count": null,
   "metadata": {},
   "outputs": [],
   "source": [
    "general_path = 'experiments_results/1_model_architecture/'\n"
   ]
  },
  {
   "cell_type": "code",
   "execution_count": null,
   "metadata": {},
   "outputs": [],
   "source": [
    "specific_exeriment_path = '1_model/64_batch/' # TODO: change \n",
    "general_path = general_path + specific_exeriment_path"
   ]
  },
  {
   "cell_type": "code",
   "execution_count": null,
   "metadata": {},
   "outputs": [],
   "source": [
    "destination = general_path + 'loss.png'\n",
    "title_plot = 'Loss: Model ' + str(number_model)  \n",
    "model_performance_training.plot_performance(list_loss, list_val_loss, title_plot, title_y_label = 'Loss', destination_file = destination)\n"
   ]
  },
  {
   "attachments": {},
   "cell_type": "markdown",
   "metadata": {},
   "source": [
    "### 10.2 Precision"
   ]
  },
  {
   "cell_type": "code",
   "execution_count": null,
   "metadata": {},
   "outputs": [],
   "source": [
    "destination = general_path + 'precision.png'\n",
    "title_plot = 'Precision: Model ' + str(number_model)  \n",
    "model_performance_training.plot_performance(list_precision, list_val_precision, title_plot, title_y_label = 'Precision', destination_file = destination)\n"
   ]
  },
  {
   "attachments": {},
   "cell_type": "markdown",
   "metadata": {},
   "source": [
    "### 10.3 Recall"
   ]
  },
  {
   "cell_type": "code",
   "execution_count": null,
   "metadata": {},
   "outputs": [],
   "source": [
    "destination = general_path + 'recall.png'\n",
    "title_plot = 'Recall: Model ' + str(number_model)  \n",
    "model_performance_training.plot_performance(list_recall, list_val_recall, title_plot, title_y_label = 'Recall', destination_file = destination)\n"
   ]
  },
  {
   "attachments": {},
   "cell_type": "markdown",
   "metadata": {},
   "source": [
    "### 10.4 Accuracy"
   ]
  },
  {
   "cell_type": "code",
   "execution_count": null,
   "metadata": {},
   "outputs": [],
   "source": [
    "destination = general_path + 'accuracy.png'\n",
    "title_plot = 'Accuracy: Model ' + str(number_model)  \n",
    "model_performance_training.plot_performance(list_recall, list_val_recall, title_plot, title_y_label = 'Accuracy', destination_file = destination)\n"
   ]
  },
  {
   "attachments": {},
   "cell_type": "markdown",
   "metadata": {},
   "source": [
    "###  10.5 Confusion matrix"
   ]
  },
  {
   "cell_type": "code",
   "execution_count": null,
   "metadata": {},
   "outputs": [],
   "source": [
    "destination = general_path + 'confusion_matrix.png'\n",
    "title_plot = 'Model ' + str(number_model)\n",
    "model_performance_training.plot_confusion_matrix(confusion_matrices, destination, title_plot)"
   ]
  },
  {
   "attachments": {},
   "cell_type": "markdown",
   "metadata": {},
   "source": [
    "### Values to keep track of, for report: "
   ]
  },
  {
   "cell_type": "code",
   "execution_count": null,
   "metadata": {},
   "outputs": [],
   "source": [
    "print(list_val_accuracy[-1])\n",
    "print(list_val_precision[-1])\n",
    "print(list_val_recall[-1])\n",
    "print(list_val_loss[-1])\n",
    "\n"
   ]
  },
  {
   "cell_type": "code",
   "execution_count": null,
   "metadata": {},
   "outputs": [],
   "source": [
    "print(max(list_val_accuracy))\n",
    "print(max(list_val_precision))\n",
    "print(max(list_val_recall))\n",
    "print(min(list_val_loss))"
   ]
  }
 ],
 "metadata": {
  "kernelspec": {
   "display_name": "bach_thesis_4",
   "language": "python",
   "name": "python3"
  },
  "language_info": {
   "codemirror_mode": {
    "name": "ipython",
    "version": 3
   },
   "file_extension": ".py",
   "mimetype": "text/x-python",
   "name": "python",
   "nbconvert_exporter": "python",
   "pygments_lexer": "ipython3",
   "version": "3.9.16"
  },
  "orig_nbformat": 4
 },
 "nbformat": 4,
 "nbformat_minor": 2
}
