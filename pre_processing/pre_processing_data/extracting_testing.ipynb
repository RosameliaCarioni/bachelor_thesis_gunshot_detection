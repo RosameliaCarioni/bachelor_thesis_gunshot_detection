{
 "cells": [
  {
   "cell_type": "code",
   "execution_count": 2,
   "metadata": {},
   "outputs": [
    {
     "name": "stderr",
     "output_type": "stream",
     "text": [
      "/Users/rosameliacarioni/miniconda3/envs/bach_thesis_4/lib/python3.9/site-packages/pydub/utils.py:170: RuntimeWarning: Couldn't find ffmpeg or avconv - defaulting to ffmpeg, but may not work\n",
      "  warn(\"Couldn't find ffmpeg or avconv - defaulting to ffmpeg, but may not work\", RuntimeWarning)\n"
     ]
    }
   ],
   "source": [
    "import pandas as pd\n",
    "import wave\n",
    "import numpy as np\n",
    "import matplotlib.pyplot as plt\n",
    "from pydub import AudioSegment"
   ]
  },
  {
   "attachments": {},
   "cell_type": "markdown",
   "metadata": {},
   "source": [
    "# This notebook creates the clips for the testing data, obtained from long 24 hours audios. "
   ]
  },
  {
   "attachments": {},
   "cell_type": "markdown",
   "metadata": {},
   "source": [
    "Read in data frames"
   ]
  },
  {
   "cell_type": "code",
   "execution_count": 13,
   "metadata": {},
   "outputs": [],
   "source": [
    "korup = pd.read_csv('/Users/rosameliacarioni/University/Thesis/code/data_frames/test/korup.csv')\n",
    "pnnn_1 = pd.read_csv('/Users/rosameliacarioni/University/Thesis/code/data_frames/test/pnnn_1.csv')\n",
    "pnnn_2 = pd.read_csv('/Users/rosameliacarioni/University/Thesis/code/data_frames/test/pnnn_2.csv')\n",
    "pnnn_3 = pd.read_csv('/Users/rosameliacarioni/University/Thesis/code/data_frames/test/pnnn_3.csv')\n",
    "pnnn_4 = pd.read_csv('/Users/rosameliacarioni/University/Thesis/code/data_frames/test/pnnn_4.csv')"
   ]
  },
  {
   "cell_type": "code",
   "execution_count": 14,
   "metadata": {},
   "outputs": [
    {
     "data": {
      "text/html": [
       "<div>\n",
       "<style scoped>\n",
       "    .dataframe tbody tr th:only-of-type {\n",
       "        vertical-align: middle;\n",
       "    }\n",
       "\n",
       "    .dataframe tbody tr th {\n",
       "        vertical-align: top;\n",
       "    }\n",
       "\n",
       "    .dataframe thead th {\n",
       "        text-align: right;\n",
       "    }\n",
       "</style>\n",
       "<table border=\"1\" class=\"dataframe\">\n",
       "  <thead>\n",
       "    <tr style=\"text-align: right;\">\n",
       "      <th></th>\n",
       "      <th>Begin Time (s)</th>\n",
       "      <th>End Time (s)</th>\n",
       "      <th>Low Freq (Hz)</th>\n",
       "      <th>High Freq (Hz)</th>\n",
       "      <th>Begin File</th>\n",
       "      <th>File Offset (s)</th>\n",
       "      <th>usernote</th>\n",
       "      <th>delta time (s)</th>\n",
       "    </tr>\n",
       "  </thead>\n",
       "  <tbody>\n",
       "    <tr>\n",
       "      <th>0</th>\n",
       "      <td>1.968817e+05</td>\n",
       "      <td>1.968841e+05</td>\n",
       "      <td>151.700</td>\n",
       "      <td>892.000</td>\n",
       "      <td>nn03a_20180817_000000.wav</td>\n",
       "      <td>24201.4700</td>\n",
       "      <td>maybe</td>\n",
       "      <td>2.4549</td>\n",
       "    </tr>\n",
       "    <tr>\n",
       "      <th>1</th>\n",
       "      <td>6.561427e+05</td>\n",
       "      <td>6.561460e+05</td>\n",
       "      <td>20.896</td>\n",
       "      <td>408.955</td>\n",
       "      <td>nn06b_20180906_000000.wav</td>\n",
       "      <td>51759.4492</td>\n",
       "      <td>maybe</td>\n",
       "      <td>3.3808</td>\n",
       "    </tr>\n",
       "    <tr>\n",
       "      <th>2</th>\n",
       "      <td>1.016754e+06</td>\n",
       "      <td>1.016757e+06</td>\n",
       "      <td>85.746</td>\n",
       "      <td>482.183</td>\n",
       "      <td>nn08a_20181015_000000.wav</td>\n",
       "      <td>67007.9858</td>\n",
       "      <td>maybe</td>\n",
       "      <td>3.3170</td>\n",
       "    </tr>\n",
       "  </tbody>\n",
       "</table>\n",
       "</div>"
      ],
      "text/plain": [
       "   Begin Time (s)  End Time (s)  Low Freq (Hz)  High Freq (Hz)   \n",
       "0    1.968817e+05  1.968841e+05        151.700         892.000  \\\n",
       "1    6.561427e+05  6.561460e+05         20.896         408.955   \n",
       "2    1.016754e+06  1.016757e+06         85.746         482.183   \n",
       "\n",
       "                  Begin File  File Offset (s) usernote  delta time (s)  \n",
       "0  nn03a_20180817_000000.wav       24201.4700    maybe          2.4549  \n",
       "1  nn06b_20180906_000000.wav       51759.4492    maybe          3.3808  \n",
       "2  nn08a_20181015_000000.wav       67007.9858    maybe          3.3170  "
      ]
     },
     "execution_count": 14,
     "metadata": {},
     "output_type": "execute_result"
    }
   ],
   "source": [
    "pnnn_1"
   ]
  },
  {
   "attachments": {},
   "cell_type": "markdown",
   "metadata": {},
   "source": [
    "Clip sounds"
   ]
  },
  {
   "cell_type": "code",
   "execution_count": 6,
   "metadata": {},
   "outputs": [],
   "source": [
    "# Time is passed in seconds\n",
    "def clip_audio_and_save (instance_of_df, extra_name):\n",
    "    time_start = instance_of_df['File Offset (s)']\n",
    "    time_duration = instance_of_df['delta time (s)']\n",
    "    file_location = '/Users/rosameliacarioni/University/Thesis/code/data/Sounds_ELP/' + instance_of_df['Begin File']\n",
    "    file_name = '/Users/rosameliacarioni/University/Thesis/code/data/test/Clips_ELP/' + extra_name + str(instance_of_df.name) + '.wav'\n",
    "    second_to_milliseconds = 1000\n",
    "\n",
    "    try:\n",
    "        audio = AudioSegment.from_wav(file_location)\n",
    "    except FileNotFoundError:\n",
    "        return None\n",
    "    \n",
    "    clip = audio[time_start*second_to_milliseconds: time_start*second_to_milliseconds + time_duration*second_to_milliseconds]\n",
    "    clip.export(file_name, format='wav')\n",
    "    return file_name\n",
    "\n",
    "def clip_all_df (df, extra_name):\n",
    "    files_not_found = set()\n",
    "    df['Clip Location'] = df.apply(clip_audio_and_save, axis = 1, extra_name = extra_name)\n",
    "\n",
    "    for index, row in df.iterrows():\n",
    "        if row['Clip Location'] is None:\n",
    "            files_not_found.add(row['Begin File'])\n",
    "    return files_not_found"
   ]
  },
  {
   "attachments": {},
   "cell_type": "markdown",
   "metadata": {},
   "source": [
    "Call method to generate the clips from the 5 data frames "
   ]
  },
  {
   "cell_type": "code",
   "execution_count": 7,
   "metadata": {},
   "outputs": [],
   "source": [
    "korup_not_found = clip_all_df(korup, 'korup_')\n",
    "print(korup_not_found)\n"
   ]
  },
  {
   "cell_type": "code",
   "execution_count": 9,
   "metadata": {},
   "outputs": [
    {
     "name": "stdout",
     "output_type": "stream",
     "text": [
      "set()\n"
     ]
    }
   ],
   "source": [
    "one_not_found = clip_all_df(pnnn_1, 'pnnn_1_')\n",
    "print(one_not_found)"
   ]
  },
  {
   "cell_type": "code",
   "execution_count": 10,
   "metadata": {},
   "outputs": [
    {
     "name": "stdout",
     "output_type": "stream",
     "text": [
      "set()\n"
     ]
    }
   ],
   "source": [
    "two_not_found = clip_all_df(pnnn_2, 'pnnn_2_')\n",
    "print(two_not_found)"
   ]
  },
  {
   "cell_type": "code",
   "execution_count": 11,
   "metadata": {},
   "outputs": [
    {
     "name": "stdout",
     "output_type": "stream",
     "text": [
      "set()\n"
     ]
    }
   ],
   "source": [
    "three_not_found = clip_all_df(pnnn_3, 'pnnn_3_')\n",
    "print(three_not_found)"
   ]
  },
  {
   "cell_type": "code",
   "execution_count": 12,
   "metadata": {},
   "outputs": [
    {
     "name": "stdout",
     "output_type": "stream",
     "text": [
      "set()\n"
     ]
    }
   ],
   "source": [
    "four_not_found = clip_all_df(pnnn_4, 'pnnn_4_')\n",
    "print(four_not_found)\n"
   ]
  }
 ],
 "metadata": {
  "kernelspec": {
   "display_name": "bach_thesis_4",
   "language": "python",
   "name": "python3"
  },
  "language_info": {
   "codemirror_mode": {
    "name": "ipython",
    "version": 3
   },
   "file_extension": ".py",
   "mimetype": "text/x-python",
   "name": "python",
   "nbconvert_exporter": "python",
   "pygments_lexer": "ipython3",
   "version": "3.9.16"
  },
  "orig_nbformat": 4
 },
 "nbformat": 4,
 "nbformat_minor": 2
}
