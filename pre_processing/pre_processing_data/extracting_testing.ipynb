{
 "cells": [
  {
   "cell_type": "code",
   "execution_count": 1,
   "metadata": {},
   "outputs": [
    {
     "name": "stderr",
     "output_type": "stream",
     "text": [
      "/Users/rosameliacarioni/miniconda3/envs/bach_thesis_4/lib/python3.9/site-packages/pydub/utils.py:170: RuntimeWarning: Couldn't find ffmpeg or avconv - defaulting to ffmpeg, but may not work\n",
      "  warn(\"Couldn't find ffmpeg or avconv - defaulting to ffmpeg, but may not work\", RuntimeWarning)\n",
      "/Users/rosameliacarioni/miniconda3/envs/bach_thesis_4/lib/python3.9/site-packages/tensorflow_io-0.32.0-py3.9-macosx-11.0-arm64.egg/tensorflow_io/python/ops/__init__.py:98: UserWarning: unable to load libtensorflow_io_plugins.so: unable to open file: libtensorflow_io_plugins.so, from paths: ['/Users/rosameliacarioni/miniconda3/envs/bach_thesis_4/lib/python3.9/site-packages/tensorflow_io-0.32.0-py3.9-macosx-11.0-arm64.egg/tensorflow_io/python/ops/libtensorflow_io_plugins.so']\n",
      "caused by: [\"[Errno 2] The file to load file system plugin from does not exist.: '/Users/rosameliacarioni/miniconda3/envs/bach_thesis_4/lib/python3.9/site-packages/tensorflow_io-0.32.0-py3.9-macosx-11.0-arm64.egg/tensorflow_io/python/ops/libtensorflow_io_plugins.so'\"]\n",
      "  warnings.warn(f\"unable to load libtensorflow_io_plugins.so: {e}\")\n",
      "/Users/rosameliacarioni/miniconda3/envs/bach_thesis_4/lib/python3.9/site-packages/tensorflow_io-0.32.0-py3.9-macosx-11.0-arm64.egg/tensorflow_io/python/ops/__init__.py:104: UserWarning: file system plugins are not loaded: unable to open file: libtensorflow_io.so, from paths: ['/Users/rosameliacarioni/miniconda3/envs/bach_thesis_4/lib/python3.9/site-packages/tensorflow_io-0.32.0-py3.9-macosx-11.0-arm64.egg/tensorflow_io/python/ops/libtensorflow_io.so']\n",
      "caused by: [\"dlopen(/Users/rosameliacarioni/miniconda3/envs/bach_thesis_4/lib/python3.9/site-packages/tensorflow_io-0.32.0-py3.9-macosx-11.0-arm64.egg/tensorflow_io/python/ops/libtensorflow_io.so, 0x0006): tried: '/Users/rosameliacarioni/miniconda3/envs/bach_thesis_4/lib/python3.9/site-packages/tensorflow_io-0.32.0-py3.9-macosx-11.0-arm64.egg/tensorflow_io/python/ops/libtensorflow_io.so' (no such file)\"]\n",
      "  warnings.warn(f\"file system plugins are not loaded: {e}\")\n"
     ]
    }
   ],
   "source": [
    "import pandas as pd\n",
    "import wave\n",
    "import numpy as np\n",
    "import matplotlib.pyplot as plt\n",
    "from pydub import AudioSegment\n",
    "import os \n",
    "import tensorflow as tf"
   ]
  },
  {
   "attachments": {},
   "cell_type": "markdown",
   "metadata": {},
   "source": [
    "# This notebook creates the clips for the testing data, obtained from long 24 hours audios. "
   ]
  },
  {
   "attachments": {},
   "cell_type": "markdown",
   "metadata": {},
   "source": [
    "Read in data frames"
   ]
  },
  {
   "cell_type": "code",
   "execution_count": 2,
   "metadata": {},
   "outputs": [],
   "source": [
    "korup = pd.read_csv('/Users/rosameliacarioni/University/Thesis/code/data_frames/test/korup.csv')\n",
    "pnnn_1 = pd.read_csv('/Users/rosameliacarioni/University/Thesis/code/data_frames/test/pnnn_1.csv')\n",
    "pnnn_2 = pd.read_csv('/Users/rosameliacarioni/University/Thesis/code/data_frames/test/pnnn_2.csv')\n",
    "pnnn_3 = pd.read_csv('/Users/rosameliacarioni/University/Thesis/code/data_frames/test/pnnn_3.csv')\n",
    "pnnn_4 = pd.read_csv('/Users/rosameliacarioni/University/Thesis/code/data_frames/test/pnnn_4.csv')"
   ]
  },
  {
   "cell_type": "code",
   "execution_count": null,
   "metadata": {},
   "outputs": [],
   "source": [
    "pnnn_1"
   ]
  },
  {
   "attachments": {},
   "cell_type": "markdown",
   "metadata": {},
   "source": [
    "# Transform audios to all have a sample rate of 8.000 "
   ]
  },
  {
   "cell_type": "code",
   "execution_count": null,
   "metadata": {},
   "outputs": [],
   "source": [
    "# Time is passed in seconds\n",
    "def change_one_file_rate (file):\n",
    "    file_location = '/Volumes/Meli_disk/thesis_data/Sounds_ELP/' + file\n",
    "    new_sample_rate = 8000\n",
    "    try:\n",
    "        audio = AudioSegment.from_wav(file_location)\n",
    "        audio = audio.set_frame_rate(new_sample_rate)\n",
    "        audio.export(file_location, format=\"wav\")\n",
    "    except FileNotFoundError:\n",
    "        print ('ERROR ', file_location)\n",
    "    \n",
    "def change_all_files (files):\n",
    "    for file in files: \n",
    "        change_one_file_rate(file)\n",
    "\n"
   ]
  },
  {
   "attachments": {},
   "cell_type": "markdown",
   "metadata": {},
   "source": [
    "Resample all files needed/used by the different data frames"
   ]
  },
  {
   "cell_type": "code",
   "execution_count": null,
   "metadata": {},
   "outputs": [],
   "source": [
    "files_korup = korup['Begin File'].unique().tolist()\n",
    "change_all_files(files_korup)"
   ]
  },
  {
   "cell_type": "code",
   "execution_count": null,
   "metadata": {},
   "outputs": [],
   "source": [
    "files_pnnn_1 = pnnn_1['Begin File'].unique().tolist()\n",
    "change_all_files(files_pnnn_1)"
   ]
  },
  {
   "cell_type": "code",
   "execution_count": null,
   "metadata": {},
   "outputs": [],
   "source": [
    "files_pnnn_2 = pnnn_2['Begin File'].unique().tolist()\n",
    "change_all_files(files_pnnn_2)"
   ]
  },
  {
   "cell_type": "code",
   "execution_count": null,
   "metadata": {},
   "outputs": [],
   "source": [
    "files_pnnn_3 = pnnn_3['Begin File'].unique().tolist()\n",
    "change_all_files(files_pnnn_3)"
   ]
  },
  {
   "attachments": {},
   "cell_type": "markdown",
   "metadata": {},
   "source": [
    "# Clip sounds containing gunshots"
   ]
  },
  {
   "cell_type": "code",
   "execution_count": 3,
   "metadata": {},
   "outputs": [],
   "source": [
    "# Time is passed in seconds\n",
    "def clip_audio_and_save (instance_of_df, extra_name):\n",
    "    time_start = instance_of_df['File Offset (s)']\n",
    "    time_duration = instance_of_df['delta time (s)']\n",
    "    file_location = '/Volumes/Meli_disk/thesis_data/Sounds_ELP/' + instance_of_df['Begin File']\n",
    "    file_name = '/Volumes/Meli_disk/thesis_data/test/Clips_ELP/gunshot/' + extra_name + str(instance_of_df.name) + '.wav'\n",
    "\n",
    "    second_to_milliseconds = 1000\n",
    "\n",
    "    try:\n",
    "        audio = AudioSegment.from_wav(file_location)\n",
    "    except FileNotFoundError:\n",
    "        return None\n",
    "    \n",
    "    clip = audio[time_start*second_to_milliseconds: time_start*second_to_milliseconds + time_duration*second_to_milliseconds]\n",
    "    clip.export(file_name, format='wav')\n",
    "    return file_name\n",
    "\n",
    "def clip_all_df (df, extra_name):\n",
    "    files_not_found = set()\n",
    "    df['Clip Location'] = df.apply(clip_audio_and_save, axis = 1, extra_name = extra_name)\n",
    "\n",
    "    for index, row in df.iterrows():\n",
    "        if row['Clip Location'] is None:\n",
    "            files_not_found.add(row['Begin File'])\n",
    "    return files_not_found"
   ]
  },
  {
   "attachments": {},
   "cell_type": "markdown",
   "metadata": {},
   "source": [
    "Call method to generate the clips from the 5 data frames "
   ]
  },
  {
   "cell_type": "code",
   "execution_count": 4,
   "metadata": {},
   "outputs": [
    {
     "name": "stdout",
     "output_type": "stream",
     "text": [
      "set()\n"
     ]
    }
   ],
   "source": [
    "korup_not_found = clip_all_df(korup, 'korup_')\n",
    "print(korup_not_found)\n"
   ]
  },
  {
   "cell_type": "code",
   "execution_count": 5,
   "metadata": {},
   "outputs": [
    {
     "name": "stdout",
     "output_type": "stream",
     "text": [
      "set()\n"
     ]
    }
   ],
   "source": [
    "one_not_found = clip_all_df(pnnn_1, 'pnnn_1_')\n",
    "print(one_not_found)"
   ]
  },
  {
   "cell_type": "code",
   "execution_count": 6,
   "metadata": {},
   "outputs": [
    {
     "name": "stdout",
     "output_type": "stream",
     "text": [
      "set()\n"
     ]
    }
   ],
   "source": [
    "two_not_found = clip_all_df(pnnn_2, 'pnnn_2_')\n",
    "print(two_not_found)"
   ]
  },
  {
   "cell_type": "code",
   "execution_count": 7,
   "metadata": {},
   "outputs": [
    {
     "name": "stdout",
     "output_type": "stream",
     "text": [
      "set()\n"
     ]
    }
   ],
   "source": [
    "three_not_found = clip_all_df(pnnn_3, 'pnnn_3_')\n",
    "print(three_not_found)"
   ]
  },
  {
   "cell_type": "code",
   "execution_count": 8,
   "metadata": {},
   "outputs": [
    {
     "name": "stdout",
     "output_type": "stream",
     "text": [
      "set()\n"
     ]
    }
   ],
   "source": [
    "four_not_found = clip_all_df(pnnn_4, 'pnnn_4_')\n",
    "print(four_not_found)\n"
   ]
  },
  {
   "attachments": {},
   "cell_type": "markdown",
   "metadata": {},
   "source": [
    "# Making clips that don't contain gunshots "
   ]
  },
  {
   "cell_type": "code",
   "execution_count": null,
   "metadata": {},
   "outputs": [],
   "source": [
    "files_korup = korup['Begin File'].unique().tolist()\n"
   ]
  },
  {
   "cell_type": "code",
   "execution_count": null,
   "metadata": {},
   "outputs": [],
   "source": [
    "files_korup[0]"
   ]
  },
  {
   "cell_type": "code",
   "execution_count": null,
   "metadata": {},
   "outputs": [],
   "source": [
    "def check_time_period_in_list (clip_start_time, start_gun, end_gun):\n",
    "    # start_point_gun and end_point_gun refer to the values where gunshots occur\n",
    "    # start_time refers to \n",
    "    length_clip = 10 #seconds \n",
    "    clip_end_time = clip_start_time + length_clip\n",
    "    # 1. check if the gunshot is in between the start and end point considered for the clip that we want to make \n",
    "    if (( clip_start_time < start_gun < clip_end_time) or (clip_start_time < end_gun < clip_end_time)): #within \n",
    "        print('gunshot detected')\n",
    "        return True\n",
    "    # check if the gunshot started before the clip we want to make and it will carry on in the clip we want to make\n",
    "    elif ((start_gun < clip_start_time) and (clip_start_time < end_gun < clip_end_time)): \n",
    "        print('gunshot detected')\n",
    "        return True\n",
    "    elif ((start_gun < clip_start_time) and (end_gun > clip_end_time)): \n",
    "        print('gunshot detected')\n",
    "        return True\n",
    "    else: \n",
    "        print('no gunshot  ', clip_start_time, '  ',start_gun, ' ', end_gun )\n",
    "        return False \n"
   ]
  },
  {
   "cell_type": "code",
   "execution_count": null,
   "metadata": {},
   "outputs": [],
   "source": [
    "def create_clip(file, start, counter): \n",
    "    file_export_external = '/Volumes/Meli_disk/thesis_data/test/Clips_ELP/no_gunshot/'+ str(counter) + file \n",
    "    file_location = '/Volumes/Meli_Disk/thesis_data/Sounds_ELP/' + file\n",
    "    second_to_milliseconds = 1000\n",
    "    length_clip = 10\n",
    "    audio = AudioSegment.from_wav(file_location)\n",
    "    clip = audio[start*second_to_milliseconds: start*second_to_milliseconds + length_clip*second_to_milliseconds]\n",
    "    clip.export(file_export_external, format='wav')\n",
    "\n"
   ]
  },
  {
   "cell_type": "code",
   "execution_count": null,
   "metadata": {},
   "outputs": [],
   "source": [
    "# for each file, make 10 seconds long clips. \n",
    "def create_clips_without_gunshots (files_in_df, df): \n",
    "    for file in files_in_df:\n",
    "        # obtain a new df that has information about gunshots within the same file \n",
    "        new_df = df[df['Begin File'].str.contains(file)]\n",
    "        # obtain the begin and end time of gunshots in the file \n",
    "        time_begining_seconds = new_df['File Offset (s)'].tolist()\n",
    "        time_end_seconds = (new_df['File Offset (s)'] + new_df['delta time (s)']).tolist()\n",
    "        \n",
    "        # ensure that the order within the times is from lowest to highest \n",
    "        sorted_pairs = sorted(zip(time_begining_seconds, time_end_seconds))\n",
    "        sorted_begin_times, sorted_end_times = zip(*sorted_pairs)\n",
    "        \n",
    "        # transform them back in lists \n",
    "        sorted_begin_times = list(sorted_begin_times)\n",
    "        sorted_end_times = list(sorted_end_times)\n",
    "\n",
    "        # Get the file \n",
    "        file_location = '/Volumes/Meli_disk/thesis_data/Sounds_ELP/' + file\n",
    "\n",
    "        wav_file = wave.open(file_location, 'r')\n",
    "        frames = wav_file.getnframes()\n",
    "        rate = wav_file.getframerate()\n",
    "        duration_seconds = frames / float(rate) \n",
    "\n",
    "        counter = 0 \n",
    "        for i in range(0, int(duration_seconds) + 1, 10):\n",
    "            result = False\n",
    "            for start, end in zip(sorted_begin_times, sorted_end_times): \n",
    "                result = check_time_period_in_list(i,start, end)\n",
    "                if result == True: # if a gunshot occurs in that specific interval, break for lop \n",
    "                    break                                   \n",
    "            if result == False: \n",
    "                create_clip(file, start, counter)\n",
    "                counter += 1  \n",
    "\n",
    "\n"
   ]
  },
  {
   "cell_type": "code",
   "execution_count": null,
   "metadata": {},
   "outputs": [],
   "source": [
    "create_clips_without_gunshots(files_korup[:1], korup)\n"
   ]
  }
 ],
 "metadata": {
  "kernelspec": {
   "display_name": "bach_thesis_4",
   "language": "python",
   "name": "python3"
  },
  "language_info": {
   "codemirror_mode": {
    "name": "ipython",
    "version": 3
   },
   "file_extension": ".py",
   "mimetype": "text/x-python",
   "name": "python",
   "nbconvert_exporter": "python",
   "pygments_lexer": "ipython3",
   "version": "3.9.16"
  },
  "orig_nbformat": 4
 },
 "nbformat": 4,
 "nbformat_minor": 2
}
