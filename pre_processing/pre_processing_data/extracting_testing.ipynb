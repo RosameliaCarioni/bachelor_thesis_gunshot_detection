{
 "cells": [
  {
   "cell_type": "code",
   "execution_count": 1,
   "metadata": {},
   "outputs": [
    {
     "name": "stderr",
     "output_type": "stream",
     "text": [
      "/Users/rosameliacarioni/miniconda3/envs/bach_thesis_4/lib/python3.9/site-packages/pydub/utils.py:170: RuntimeWarning: Couldn't find ffmpeg or avconv - defaulting to ffmpeg, but may not work\n",
      "  warn(\"Couldn't find ffmpeg or avconv - defaulting to ffmpeg, but may not work\", RuntimeWarning)\n",
      "/Users/rosameliacarioni/miniconda3/envs/bach_thesis_4/lib/python3.9/site-packages/tensorflow_io-0.32.0-py3.9-macosx-11.0-arm64.egg/tensorflow_io/python/ops/__init__.py:98: UserWarning: unable to load libtensorflow_io_plugins.so: unable to open file: libtensorflow_io_plugins.so, from paths: ['/Users/rosameliacarioni/miniconda3/envs/bach_thesis_4/lib/python3.9/site-packages/tensorflow_io-0.32.0-py3.9-macosx-11.0-arm64.egg/tensorflow_io/python/ops/libtensorflow_io_plugins.so']\n",
      "caused by: [\"[Errno 2] The file to load file system plugin from does not exist.: '/Users/rosameliacarioni/miniconda3/envs/bach_thesis_4/lib/python3.9/site-packages/tensorflow_io-0.32.0-py3.9-macosx-11.0-arm64.egg/tensorflow_io/python/ops/libtensorflow_io_plugins.so'\"]\n",
      "  warnings.warn(f\"unable to load libtensorflow_io_plugins.so: {e}\")\n",
      "/Users/rosameliacarioni/miniconda3/envs/bach_thesis_4/lib/python3.9/site-packages/tensorflow_io-0.32.0-py3.9-macosx-11.0-arm64.egg/tensorflow_io/python/ops/__init__.py:104: UserWarning: file system plugins are not loaded: unable to open file: libtensorflow_io.so, from paths: ['/Users/rosameliacarioni/miniconda3/envs/bach_thesis_4/lib/python3.9/site-packages/tensorflow_io-0.32.0-py3.9-macosx-11.0-arm64.egg/tensorflow_io/python/ops/libtensorflow_io.so']\n",
      "caused by: [\"dlopen(/Users/rosameliacarioni/miniconda3/envs/bach_thesis_4/lib/python3.9/site-packages/tensorflow_io-0.32.0-py3.9-macosx-11.0-arm64.egg/tensorflow_io/python/ops/libtensorflow_io.so, 0x0006): tried: '/Users/rosameliacarioni/miniconda3/envs/bach_thesis_4/lib/python3.9/site-packages/tensorflow_io-0.32.0-py3.9-macosx-11.0-arm64.egg/tensorflow_io/python/ops/libtensorflow_io.so' (no such file)\"]\n",
      "  warnings.warn(f\"file system plugins are not loaded: {e}\")\n"
     ]
    }
   ],
   "source": [
    "import pandas as pd\n",
    "import wave\n",
    "import numpy as np\n",
    "import matplotlib.pyplot as plt\n",
    "from pydub import AudioSegment\n",
    "import os \n",
    "import tensorflow as tf"
   ]
  },
  {
   "attachments": {},
   "cell_type": "markdown",
   "metadata": {},
   "source": [
    "# This notebook creates the clips for the testing data, obtained from long 24 hours audios. "
   ]
  },
  {
   "attachments": {},
   "cell_type": "markdown",
   "metadata": {},
   "source": [
    "Read in data frames"
   ]
  },
  {
   "cell_type": "code",
   "execution_count": 2,
   "metadata": {},
   "outputs": [],
   "source": [
    "korup = pd.read_csv('/Users/rosameliacarioni/University/Thesis/code/data_frames/test/korup.csv')\n",
    "pnnn_1 = pd.read_csv('/Users/rosameliacarioni/University/Thesis/code/data_frames/test/pnnn_1.csv')\n",
    "pnnn_2 = pd.read_csv('/Users/rosameliacarioni/University/Thesis/code/data_frames/test/pnnn_2.csv')\n",
    "pnnn_3 = pd.read_csv('/Users/rosameliacarioni/University/Thesis/code/data_frames/test/pnnn_3.csv')\n",
    "pnnn_4 = pd.read_csv('/Users/rosameliacarioni/University/Thesis/code/data_frames/test/pnnn_4.csv')"
   ]
  },
  {
   "cell_type": "code",
   "execution_count": 3,
   "metadata": {},
   "outputs": [
    {
     "data": {
      "text/html": [
       "<div>\n",
       "<style scoped>\n",
       "    .dataframe tbody tr th:only-of-type {\n",
       "        vertical-align: middle;\n",
       "    }\n",
       "\n",
       "    .dataframe tbody tr th {\n",
       "        vertical-align: top;\n",
       "    }\n",
       "\n",
       "    .dataframe thead th {\n",
       "        text-align: right;\n",
       "    }\n",
       "</style>\n",
       "<table border=\"1\" class=\"dataframe\">\n",
       "  <thead>\n",
       "    <tr style=\"text-align: right;\">\n",
       "      <th></th>\n",
       "      <th>Begin Time (s)</th>\n",
       "      <th>End Time (s)</th>\n",
       "      <th>Low Freq (Hz)</th>\n",
       "      <th>High Freq (Hz)</th>\n",
       "      <th>Begin File</th>\n",
       "      <th>File Offset (s)</th>\n",
       "      <th>delta time (s)</th>\n",
       "    </tr>\n",
       "  </thead>\n",
       "  <tbody>\n",
       "    <tr>\n",
       "      <th>0</th>\n",
       "      <td>5.573217e+03</td>\n",
       "      <td>5.575591e+03</td>\n",
       "      <td>0.000</td>\n",
       "      <td>956.000</td>\n",
       "      <td>kp01_20130621_000000.wav</td>\n",
       "      <td>5573.2167</td>\n",
       "      <td>2.374362</td>\n",
       "    </tr>\n",
       "    <tr>\n",
       "      <th>1</th>\n",
       "      <td>1.053806e+04</td>\n",
       "      <td>1.054070e+04</td>\n",
       "      <td>0.000</td>\n",
       "      <td>986.000</td>\n",
       "      <td>kp01_20130621_000000.wav</td>\n",
       "      <td>10538.0623</td>\n",
       "      <td>2.638180</td>\n",
       "    </tr>\n",
       "    <tr>\n",
       "      <th>2</th>\n",
       "      <td>2.377667e+04</td>\n",
       "      <td>2.377999e+04</td>\n",
       "      <td>0.000</td>\n",
       "      <td>988.000</td>\n",
       "      <td>kp01_20130621_000000.wav</td>\n",
       "      <td>23776.6702</td>\n",
       "      <td>3.316570</td>\n",
       "    </tr>\n",
       "    <tr>\n",
       "      <th>3</th>\n",
       "      <td>2.386634e+04</td>\n",
       "      <td>2.386924e+04</td>\n",
       "      <td>38.000</td>\n",
       "      <td>930.000</td>\n",
       "      <td>kp01_20130621_000000.wav</td>\n",
       "      <td>23866.3400</td>\n",
       "      <td>2.902000</td>\n",
       "    </tr>\n",
       "    <tr>\n",
       "      <th>4</th>\n",
       "      <td>2.388696e+04</td>\n",
       "      <td>2.388907e+04</td>\n",
       "      <td>28.000</td>\n",
       "      <td>832.000</td>\n",
       "      <td>kp01_20130621_000000.wav</td>\n",
       "      <td>23886.9568</td>\n",
       "      <td>2.115210</td>\n",
       "    </tr>\n",
       "    <tr>\n",
       "      <th>...</th>\n",
       "      <td>...</td>\n",
       "      <td>...</td>\n",
       "      <td>...</td>\n",
       "      <td>...</td>\n",
       "      <td>...</td>\n",
       "      <td>...</td>\n",
       "      <td>...</td>\n",
       "    </tr>\n",
       "    <tr>\n",
       "      <th>704</th>\n",
       "      <td>8.226388e+06</td>\n",
       "      <td>8.226389e+06</td>\n",
       "      <td>88.372</td>\n",
       "      <td>732.558</td>\n",
       "      <td>kp15_20150422_000000.wav</td>\n",
       "      <td>46884.8070</td>\n",
       "      <td>0.992000</td>\n",
       "    </tr>\n",
       "    <tr>\n",
       "      <th>705</th>\n",
       "      <td>8.226502e+06</td>\n",
       "      <td>8.226503e+06</td>\n",
       "      <td>51.163</td>\n",
       "      <td>725.581</td>\n",
       "      <td>kp15_20150422_000000.wav</td>\n",
       "      <td>46998.5612</td>\n",
       "      <td>1.412000</td>\n",
       "    </tr>\n",
       "    <tr>\n",
       "      <th>706</th>\n",
       "      <td>8.226510e+06</td>\n",
       "      <td>8.226511e+06</td>\n",
       "      <td>69.767</td>\n",
       "      <td>725.581</td>\n",
       "      <td>kp15_20150422_000000.wav</td>\n",
       "      <td>47006.5687</td>\n",
       "      <td>0.918000</td>\n",
       "    </tr>\n",
       "    <tr>\n",
       "      <th>707</th>\n",
       "      <td>8.226512e+06</td>\n",
       "      <td>8.226513e+06</td>\n",
       "      <td>79.070</td>\n",
       "      <td>720.930</td>\n",
       "      <td>kp15_20150422_000000.wav</td>\n",
       "      <td>47008.5925</td>\n",
       "      <td>0.992000</td>\n",
       "    </tr>\n",
       "    <tr>\n",
       "      <th>708</th>\n",
       "      <td>8.226515e+06</td>\n",
       "      <td>8.226522e+06</td>\n",
       "      <td>79.070</td>\n",
       "      <td>718.605</td>\n",
       "      <td>kp15_20150422_000000.wav</td>\n",
       "      <td>47011.7648</td>\n",
       "      <td>7.394000</td>\n",
       "    </tr>\n",
       "  </tbody>\n",
       "</table>\n",
       "<p>709 rows × 7 columns</p>\n",
       "</div>"
      ],
      "text/plain": [
       "     Begin Time (s)  End Time (s)  Low Freq (Hz)  High Freq (Hz)   \n",
       "0      5.573217e+03  5.575591e+03          0.000         956.000  \\\n",
       "1      1.053806e+04  1.054070e+04          0.000         986.000   \n",
       "2      2.377667e+04  2.377999e+04          0.000         988.000   \n",
       "3      2.386634e+04  2.386924e+04         38.000         930.000   \n",
       "4      2.388696e+04  2.388907e+04         28.000         832.000   \n",
       "..              ...           ...            ...             ...   \n",
       "704    8.226388e+06  8.226389e+06         88.372         732.558   \n",
       "705    8.226502e+06  8.226503e+06         51.163         725.581   \n",
       "706    8.226510e+06  8.226511e+06         69.767         725.581   \n",
       "707    8.226512e+06  8.226513e+06         79.070         720.930   \n",
       "708    8.226515e+06  8.226522e+06         79.070         718.605   \n",
       "\n",
       "                   Begin File  File Offset (s)  delta time (s)  \n",
       "0    kp01_20130621_000000.wav        5573.2167        2.374362  \n",
       "1    kp01_20130621_000000.wav       10538.0623        2.638180  \n",
       "2    kp01_20130621_000000.wav       23776.6702        3.316570  \n",
       "3    kp01_20130621_000000.wav       23866.3400        2.902000  \n",
       "4    kp01_20130621_000000.wav       23886.9568        2.115210  \n",
       "..                        ...              ...             ...  \n",
       "704  kp15_20150422_000000.wav       46884.8070        0.992000  \n",
       "705  kp15_20150422_000000.wav       46998.5612        1.412000  \n",
       "706  kp15_20150422_000000.wav       47006.5687        0.918000  \n",
       "707  kp15_20150422_000000.wav       47008.5925        0.992000  \n",
       "708  kp15_20150422_000000.wav       47011.7648        7.394000  \n",
       "\n",
       "[709 rows x 7 columns]"
      ]
     },
     "execution_count": 3,
     "metadata": {},
     "output_type": "execute_result"
    }
   ],
   "source": [
    "korup"
   ]
  },
  {
   "attachments": {},
   "cell_type": "markdown",
   "metadata": {},
   "source": [
    "# Transform audios to all have a sample rate of 8.000 "
   ]
  },
  {
   "cell_type": "code",
   "execution_count": null,
   "metadata": {},
   "outputs": [],
   "source": [
    "# Time is passed in seconds\n",
    "def change_one_file_rate (file):\n",
    "    file_location = '/Volumes/Meli_disk/thesis_data/Sounds_ELP/' + file\n",
    "    new_sample_rate = 8000\n",
    "    try:\n",
    "        audio = AudioSegment.from_wav(file_location)\n",
    "        audio = audio.set_frame_rate(new_sample_rate)\n",
    "        audio.export(file_location, format=\"wav\")\n",
    "    except FileNotFoundError:\n",
    "        print ('ERROR ', file_location)\n",
    "    \n",
    "def change_all_files (files):\n",
    "    for file in files: \n",
    "        change_one_file_rate(file)\n",
    "\n"
   ]
  },
  {
   "attachments": {},
   "cell_type": "markdown",
   "metadata": {},
   "source": [
    "Resample all files needed/used by the different data frames"
   ]
  },
  {
   "cell_type": "code",
   "execution_count": null,
   "metadata": {},
   "outputs": [],
   "source": [
    "files_korup = korup['Begin File'].unique().tolist()\n",
    "change_all_files(files_korup)"
   ]
  },
  {
   "cell_type": "code",
   "execution_count": null,
   "metadata": {},
   "outputs": [],
   "source": [
    "files_pnnn_1 = pnnn_1['Begin File'].unique().tolist()\n",
    "change_all_files(files_pnnn_1)"
   ]
  },
  {
   "cell_type": "code",
   "execution_count": null,
   "metadata": {},
   "outputs": [],
   "source": [
    "files_pnnn_2 = pnnn_2['Begin File'].unique().tolist()\n",
    "change_all_files(files_pnnn_2)"
   ]
  },
  {
   "cell_type": "code",
   "execution_count": null,
   "metadata": {},
   "outputs": [],
   "source": [
    "files_pnnn_3 = pnnn_3['Begin File'].unique().tolist()\n",
    "change_all_files(files_pnnn_3)"
   ]
  },
  {
   "attachments": {},
   "cell_type": "markdown",
   "metadata": {},
   "source": [
    "# Clip sounds containing gunshots"
   ]
  },
  {
   "cell_type": "code",
   "execution_count": 3,
   "metadata": {},
   "outputs": [],
   "source": [
    "# Time is passed in seconds\n",
    "def clip_audio_and_save (instance_of_df, extra_name):\n",
    "    time_start = instance_of_df['File Offset (s)']\n",
    "    time_duration = instance_of_df['delta time (s)']\n",
    "    file_location = '/Volumes/Meli_disk/thesis_data/Sounds_ELP/' + instance_of_df['Begin File']\n",
    "    file_name = '/Volumes/Meli_disk/thesis_data/test/Clips_ELP/gunshot/' + extra_name + str(instance_of_df.name) + '.wav'\n",
    "\n",
    "    second_to_milliseconds = 1000\n",
    "\n",
    "    try:\n",
    "        audio = AudioSegment.from_wav(file_location)\n",
    "    except FileNotFoundError:\n",
    "        return None\n",
    "    \n",
    "    clip = audio[time_start*second_to_milliseconds: time_start*second_to_milliseconds + time_duration*second_to_milliseconds]\n",
    "    clip.export(file_name, format='wav')\n",
    "    return file_name\n",
    "\n",
    "def clip_all_df (df, extra_name):\n",
    "    files_not_found = set()\n",
    "    df['Clip Location'] = df.apply(clip_audio_and_save, axis = 1, extra_name = extra_name)\n",
    "\n",
    "    for index, row in df.iterrows():\n",
    "        if row['Clip Location'] is None:\n",
    "            files_not_found.add(row['Begin File'])\n",
    "    return files_not_found"
   ]
  },
  {
   "attachments": {},
   "cell_type": "markdown",
   "metadata": {},
   "source": [
    "Call method to generate the clips from the 5 data frames "
   ]
  },
  {
   "cell_type": "code",
   "execution_count": 4,
   "metadata": {},
   "outputs": [
    {
     "name": "stdout",
     "output_type": "stream",
     "text": [
      "set()\n"
     ]
    }
   ],
   "source": [
    "korup_not_found = clip_all_df(korup, 'korup_')\n",
    "print(korup_not_found)\n"
   ]
  },
  {
   "cell_type": "code",
   "execution_count": 5,
   "metadata": {},
   "outputs": [
    {
     "name": "stdout",
     "output_type": "stream",
     "text": [
      "set()\n"
     ]
    }
   ],
   "source": [
    "one_not_found = clip_all_df(pnnn_1, 'pnnn_1_')\n",
    "print(one_not_found)"
   ]
  },
  {
   "cell_type": "code",
   "execution_count": 6,
   "metadata": {},
   "outputs": [
    {
     "name": "stdout",
     "output_type": "stream",
     "text": [
      "set()\n"
     ]
    }
   ],
   "source": [
    "two_not_found = clip_all_df(pnnn_2, 'pnnn_2_')\n",
    "print(two_not_found)"
   ]
  },
  {
   "cell_type": "code",
   "execution_count": 7,
   "metadata": {},
   "outputs": [
    {
     "name": "stdout",
     "output_type": "stream",
     "text": [
      "set()\n"
     ]
    }
   ],
   "source": [
    "three_not_found = clip_all_df(pnnn_3, 'pnnn_3_')\n",
    "print(three_not_found)"
   ]
  },
  {
   "cell_type": "code",
   "execution_count": 8,
   "metadata": {},
   "outputs": [
    {
     "name": "stdout",
     "output_type": "stream",
     "text": [
      "set()\n"
     ]
    }
   ],
   "source": [
    "four_not_found = clip_all_df(pnnn_4, 'pnnn_4_')\n",
    "print(four_not_found)\n"
   ]
  },
  {
   "attachments": {},
   "cell_type": "markdown",
   "metadata": {},
   "source": [
    "# Making clips that don't contain gunshots "
   ]
  },
  {
   "cell_type": "code",
   "execution_count": null,
   "metadata": {},
   "outputs": [],
   "source": [
    "files_korup = korup['Begin File'].unique().tolist()\n"
   ]
  },
  {
   "cell_type": "code",
   "execution_count": null,
   "metadata": {},
   "outputs": [],
   "source": [
    "files_korup[0]"
   ]
  },
  {
   "cell_type": "code",
   "execution_count": null,
   "metadata": {},
   "outputs": [],
   "source": [
    "def check_time_period_in_list (clip_start_time, start_gun, end_gun):\n",
    "    # start_point_gun and end_point_gun refer to the values where gunshots occur\n",
    "    # start_time refers to \n",
    "    length_clip = 10 #seconds \n",
    "    clip_end_time = clip_start_time + length_clip\n",
    "    # 1. check if the gunshot is in between the start and end point considered for the clip that we want to make \n",
    "    if (( clip_start_time < start_gun < clip_end_time) or (clip_start_time < end_gun < clip_end_time)): #within \n",
    "        print('gunshot detected')\n",
    "        return True\n",
    "    # check if the gunshot started before the clip we want to make and it will carry on in the clip we want to make\n",
    "    elif ((start_gun < clip_start_time) and (clip_start_time < end_gun < clip_end_time)): \n",
    "        print('gunshot detected')\n",
    "        return True\n",
    "    elif ((start_gun < clip_start_time) and (end_gun > clip_end_time)): \n",
    "        print('gunshot detected')\n",
    "        return True\n",
    "    else: \n",
    "        print('no gunshot  ', clip_start_time, '  ',start_gun, ' ', end_gun )\n",
    "        return False \n"
   ]
  },
  {
   "cell_type": "code",
   "execution_count": null,
   "metadata": {},
   "outputs": [],
   "source": [
    "def create_clip(file, start, counter): \n",
    "    file_export_external = '/Volumes/Meli_disk/thesis_data/test/Clips_ELP/no_gunshot/'+ str(counter) + file \n",
    "    file_location = '/Volumes/Meli_Disk/thesis_data/Sounds_ELP/' + file\n",
    "    second_to_milliseconds = 1000\n",
    "    length_clip = 10\n",
    "    audio = AudioSegment.from_wav(file_location)\n",
    "    clip = audio[start*second_to_milliseconds: start*second_to_milliseconds + length_clip*second_to_milliseconds]\n",
    "    clip.export(file_export_external, format='wav')\n",
    "\n"
   ]
  },
  {
   "cell_type": "code",
   "execution_count": null,
   "metadata": {},
   "outputs": [],
   "source": [
    "# for each file, make 10 seconds long clips. \n",
    "def create_clips_without_gunshots (files_in_df, df): \n",
    "    for file in files_in_df:\n",
    "        # obtain a new df that has information about gunshots within the same file \n",
    "        new_df = df[df['Begin File'].str.contains(file)]\n",
    "        # obtain the begin and end time of gunshots in the file \n",
    "        time_begining_seconds = new_df['File Offset (s)'].tolist()\n",
    "        time_end_seconds = (new_df['File Offset (s)'] + new_df['delta time (s)']).tolist()\n",
    "        \n",
    "        # ensure that the order within the times is from lowest to highest \n",
    "        sorted_pairs = sorted(zip(time_begining_seconds, time_end_seconds))\n",
    "        sorted_begin_times, sorted_end_times = zip(*sorted_pairs)\n",
    "        \n",
    "        # transform them back in lists \n",
    "        sorted_begin_times = list(sorted_begin_times)\n",
    "        sorted_end_times = list(sorted_end_times)\n",
    "\n",
    "        # Get the file \n",
    "        file_location = '/Volumes/Meli_disk/thesis_data/Sounds_ELP/' + file\n",
    "\n",
    "        wav_file = wave.open(file_location, 'r')\n",
    "        frames = wav_file.getnframes()\n",
    "        rate = wav_file.getframerate()\n",
    "        duration_seconds = frames / float(rate) \n",
    "\n",
    "        counter = 0 \n",
    "        for i in range(0, int(duration_seconds) + 1, 10):\n",
    "            result = False\n",
    "            for start, end in zip(sorted_begin_times, sorted_end_times): \n",
    "                result = check_time_period_in_list(i,start, end)\n",
    "                if result == True: # if a gunshot occurs in that specific interval, break for lop \n",
    "                    break                                   \n",
    "            if result == False: \n",
    "                create_clip(file, start, counter)\n",
    "                counter += 1  \n",
    "\n",
    "\n"
   ]
  },
  {
   "cell_type": "code",
   "execution_count": null,
   "metadata": {},
   "outputs": [],
   "source": [
    "create_clips_without_gunshots(files_korup[:1], korup)\n"
   ]
  },
  {
   "cell_type": "code",
   "execution_count": 4,
   "metadata": {},
   "outputs": [],
   "source": [
    "filtered_df = korup[korup['Begin File'] == 'kp01_20130621_000000.wav']\n"
   ]
  },
  {
   "cell_type": "code",
   "execution_count": 5,
   "metadata": {},
   "outputs": [
    {
     "data": {
      "text/html": [
       "<div>\n",
       "<style scoped>\n",
       "    .dataframe tbody tr th:only-of-type {\n",
       "        vertical-align: middle;\n",
       "    }\n",
       "\n",
       "    .dataframe tbody tr th {\n",
       "        vertical-align: top;\n",
       "    }\n",
       "\n",
       "    .dataframe thead th {\n",
       "        text-align: right;\n",
       "    }\n",
       "</style>\n",
       "<table border=\"1\" class=\"dataframe\">\n",
       "  <thead>\n",
       "    <tr style=\"text-align: right;\">\n",
       "      <th></th>\n",
       "      <th>Begin Time (s)</th>\n",
       "      <th>End Time (s)</th>\n",
       "      <th>Low Freq (Hz)</th>\n",
       "      <th>High Freq (Hz)</th>\n",
       "      <th>Begin File</th>\n",
       "      <th>File Offset (s)</th>\n",
       "      <th>delta time (s)</th>\n",
       "    </tr>\n",
       "  </thead>\n",
       "  <tbody>\n",
       "    <tr>\n",
       "      <th>0</th>\n",
       "      <td>5573.2167</td>\n",
       "      <td>5575.591062</td>\n",
       "      <td>0.0</td>\n",
       "      <td>956.0</td>\n",
       "      <td>kp01_20130621_000000.wav</td>\n",
       "      <td>5573.2167</td>\n",
       "      <td>2.374362</td>\n",
       "    </tr>\n",
       "    <tr>\n",
       "      <th>1</th>\n",
       "      <td>10538.0623</td>\n",
       "      <td>10540.700480</td>\n",
       "      <td>0.0</td>\n",
       "      <td>986.0</td>\n",
       "      <td>kp01_20130621_000000.wav</td>\n",
       "      <td>10538.0623</td>\n",
       "      <td>2.638180</td>\n",
       "    </tr>\n",
       "    <tr>\n",
       "      <th>2</th>\n",
       "      <td>23776.6702</td>\n",
       "      <td>23779.986770</td>\n",
       "      <td>0.0</td>\n",
       "      <td>988.0</td>\n",
       "      <td>kp01_20130621_000000.wav</td>\n",
       "      <td>23776.6702</td>\n",
       "      <td>3.316570</td>\n",
       "    </tr>\n",
       "    <tr>\n",
       "      <th>3</th>\n",
       "      <td>23866.3400</td>\n",
       "      <td>23869.242000</td>\n",
       "      <td>38.0</td>\n",
       "      <td>930.0</td>\n",
       "      <td>kp01_20130621_000000.wav</td>\n",
       "      <td>23866.3400</td>\n",
       "      <td>2.902000</td>\n",
       "    </tr>\n",
       "    <tr>\n",
       "      <th>4</th>\n",
       "      <td>23886.9568</td>\n",
       "      <td>23889.072010</td>\n",
       "      <td>28.0</td>\n",
       "      <td>832.0</td>\n",
       "      <td>kp01_20130621_000000.wav</td>\n",
       "      <td>23886.9568</td>\n",
       "      <td>2.115210</td>\n",
       "    </tr>\n",
       "    <tr>\n",
       "      <th>5</th>\n",
       "      <td>24607.4625</td>\n",
       "      <td>24609.459980</td>\n",
       "      <td>42.0</td>\n",
       "      <td>970.0</td>\n",
       "      <td>kp01_20130621_000000.wav</td>\n",
       "      <td>24607.4625</td>\n",
       "      <td>1.997480</td>\n",
       "    </tr>\n",
       "    <tr>\n",
       "      <th>6</th>\n",
       "      <td>25881.4623</td>\n",
       "      <td>25883.648220</td>\n",
       "      <td>32.0</td>\n",
       "      <td>966.0</td>\n",
       "      <td>kp01_20130621_000000.wav</td>\n",
       "      <td>25881.4623</td>\n",
       "      <td>2.185920</td>\n",
       "    </tr>\n",
       "    <tr>\n",
       "      <th>7</th>\n",
       "      <td>27999.5715</td>\n",
       "      <td>28001.342850</td>\n",
       "      <td>0.0</td>\n",
       "      <td>994.0</td>\n",
       "      <td>kp01_20130621_000000.wav</td>\n",
       "      <td>27999.5715</td>\n",
       "      <td>1.771350</td>\n",
       "    </tr>\n",
       "    <tr>\n",
       "      <th>8</th>\n",
       "      <td>58207.3388</td>\n",
       "      <td>58208.657890</td>\n",
       "      <td>30.0</td>\n",
       "      <td>930.0</td>\n",
       "      <td>kp01_20130621_000000.wav</td>\n",
       "      <td>58207.3388</td>\n",
       "      <td>1.319090</td>\n",
       "    </tr>\n",
       "  </tbody>\n",
       "</table>\n",
       "</div>"
      ],
      "text/plain": [
       "   Begin Time (s)  End Time (s)  Low Freq (Hz)  High Freq (Hz)   \n",
       "0       5573.2167   5575.591062            0.0           956.0  \\\n",
       "1      10538.0623  10540.700480            0.0           986.0   \n",
       "2      23776.6702  23779.986770            0.0           988.0   \n",
       "3      23866.3400  23869.242000           38.0           930.0   \n",
       "4      23886.9568  23889.072010           28.0           832.0   \n",
       "5      24607.4625  24609.459980           42.0           970.0   \n",
       "6      25881.4623  25883.648220           32.0           966.0   \n",
       "7      27999.5715  28001.342850            0.0           994.0   \n",
       "8      58207.3388  58208.657890           30.0           930.0   \n",
       "\n",
       "                 Begin File  File Offset (s)  delta time (s)  \n",
       "0  kp01_20130621_000000.wav        5573.2167        2.374362  \n",
       "1  kp01_20130621_000000.wav       10538.0623        2.638180  \n",
       "2  kp01_20130621_000000.wav       23776.6702        3.316570  \n",
       "3  kp01_20130621_000000.wav       23866.3400        2.902000  \n",
       "4  kp01_20130621_000000.wav       23886.9568        2.115210  \n",
       "5  kp01_20130621_000000.wav       24607.4625        1.997480  \n",
       "6  kp01_20130621_000000.wav       25881.4623        2.185920  \n",
       "7  kp01_20130621_000000.wav       27999.5715        1.771350  \n",
       "8  kp01_20130621_000000.wav       58207.3388        1.319090  "
      ]
     },
     "execution_count": 5,
     "metadata": {},
     "output_type": "execute_result"
    }
   ],
   "source": [
    "filtered_df"
   ]
  }
 ],
 "metadata": {
  "kernelspec": {
   "display_name": "bach_thesis_4",
   "language": "python",
   "name": "python3"
  },
  "language_info": {
   "codemirror_mode": {
    "name": "ipython",
    "version": 3
   },
   "file_extension": ".py",
   "mimetype": "text/x-python",
   "name": "python",
   "nbconvert_exporter": "python",
   "pygments_lexer": "ipython3",
   "version": "3.9.16"
  },
  "orig_nbformat": 4
 },
 "nbformat": 4,
 "nbformat_minor": 2
}
