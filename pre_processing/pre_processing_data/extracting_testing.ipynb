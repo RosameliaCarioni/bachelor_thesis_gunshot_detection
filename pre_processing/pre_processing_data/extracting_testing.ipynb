{
 "cells": [
  {
   "cell_type": "code",
   "execution_count": 2,
   "metadata": {},
   "outputs": [
    {
     "name": "stderr",
     "output_type": "stream",
     "text": [
      "/Users/rosameliacarioni/miniconda3/envs/bach_thesis_4/lib/python3.9/site-packages/pydub/utils.py:170: RuntimeWarning: Couldn't find ffmpeg or avconv - defaulting to ffmpeg, but may not work\n",
      "  warn(\"Couldn't find ffmpeg or avconv - defaulting to ffmpeg, but may not work\", RuntimeWarning)\n"
     ]
    }
   ],
   "source": [
    "import pandas as pd\n",
    "import wave\n",
    "import numpy as np\n",
    "import matplotlib.pyplot as plt\n",
    "from pydub import AudioSegment"
   ]
  },
  {
   "attachments": {},
   "cell_type": "markdown",
   "metadata": {},
   "source": [
    "# This notebook creates the clips for the testing data, obtained from long 24 hours audios. "
   ]
  },
  {
   "attachments": {},
   "cell_type": "markdown",
   "metadata": {},
   "source": [
    "Read in data frames"
   ]
  },
  {
   "cell_type": "code",
   "execution_count": 3,
   "metadata": {},
   "outputs": [],
   "source": [
    "korup = pd.read_csv('/Users/rosameliacarioni/University/Thesis/code/data_frames/test/korup.csv')\n",
    "pnnn_1 = pd.read_csv('/Users/rosameliacarioni/University/Thesis/code/data_frames/test/pnnn_1.csv')\n",
    "pnnn_2 = pd.read_csv('/Users/rosameliacarioni/University/Thesis/code/data_frames/test/pnnn_2.csv')\n",
    "pnnn_3 = pd.read_csv('/Users/rosameliacarioni/University/Thesis/code/data_frames/test/pnnn_3.csv')\n",
    "pnnn_4 = pd.read_csv('/Users/rosameliacarioni/University/Thesis/code/data_frames/test/pnnn_4.csv')"
   ]
  },
  {
   "attachments": {},
   "cell_type": "markdown",
   "metadata": {},
   "source": [
    "Clip sounds"
   ]
  },
  {
   "cell_type": "code",
   "execution_count": 6,
   "metadata": {},
   "outputs": [],
   "source": [
    "# Time is passed in seconds\n",
    "def clip_audio_and_save (instance_of_df, extra_name):\n",
    "    time_start = instance_of_df['File Offset (s)']\n",
    "    time_duration = instance_of_df['delta time (s)']\n",
    "    file_location = '/Users/rosameliacarioni/University/Thesis/code/data/Sounds_ELP/' + instance_of_df['Begin File']\n",
    "    file_name = '/Users/rosameliacarioni/University/Thesis/code/data/test/Clips_ELP/' + extra_name + str(instance_of_df.name) + '.wav'\n",
    "    second_to_milliseconds = 1000\n",
    "\n",
    "    try:\n",
    "        audio = AudioSegment.from_wav(file_location)\n",
    "    except FileNotFoundError:\n",
    "        return None\n",
    "    \n",
    "    clip = audio[time_start*second_to_milliseconds: time_start*second_to_milliseconds + time_duration*second_to_milliseconds]\n",
    "    clip.export(file_name, format='wav')\n",
    "    return file_name\n",
    "\n",
    "def clip_all_df (df, extra_name):\n",
    "    files_not_found = set()\n",
    "    df['Clip Location'] = df.apply(clip_audio_and_save, axis = 1, extra_name = extra_name)\n",
    "\n",
    "    for index, row in df.iterrows():\n",
    "        if row['Clip Location'] is None:\n",
    "            files_not_found.add(row['Begin File'])\n",
    "    return files_not_found"
   ]
  },
  {
   "attachments": {},
   "cell_type": "markdown",
   "metadata": {},
   "source": [
    "Call method to generate the clips from the 5 data frames "
   ]
  },
  {
   "cell_type": "code",
   "execution_count": 7,
   "metadata": {},
   "outputs": [],
   "source": [
    "korup_not_found = clip_all_df(korup, 'korup_')\n",
    "print(korup_not_found)\n"
   ]
  },
  {
   "cell_type": "code",
   "execution_count": 9,
   "metadata": {},
   "outputs": [
    {
     "name": "stdout",
     "output_type": "stream",
     "text": [
      "set()\n"
     ]
    }
   ],
   "source": [
    "one_not_found = clip_all_df(pnnn_1, 'pnnn_1_')\n",
    "print(one_not_found)"
   ]
  },
  {
   "cell_type": "code",
   "execution_count": 10,
   "metadata": {},
   "outputs": [
    {
     "name": "stdout",
     "output_type": "stream",
     "text": [
      "set()\n"
     ]
    }
   ],
   "source": [
    "two_not_found = clip_all_df(pnnn_2, 'pnnn_2_')\n",
    "print(two_not_found)"
   ]
  },
  {
   "cell_type": "code",
   "execution_count": 11,
   "metadata": {},
   "outputs": [
    {
     "name": "stdout",
     "output_type": "stream",
     "text": [
      "set()\n"
     ]
    }
   ],
   "source": [
    "three_not_found = clip_all_df(pnnn_3, 'pnnn_3_')\n",
    "print(three_not_found)"
   ]
  },
  {
   "cell_type": "code",
   "execution_count": 12,
   "metadata": {},
   "outputs": [
    {
     "name": "stdout",
     "output_type": "stream",
     "text": [
      "set()\n"
     ]
    }
   ],
   "source": [
    "four_not_found = clip_all_df(pnnn_4, 'pnnn_4_')\n",
    "print(four_not_found)\n"
   ]
  }
 ],
 "metadata": {
  "kernelspec": {
   "display_name": "bach_thesis_4",
   "language": "python",
   "name": "python3"
  },
  "language_info": {
   "codemirror_mode": {
    "name": "ipython",
    "version": 3
   },
   "file_extension": ".py",
   "mimetype": "text/x-python",
   "name": "python",
   "nbconvert_exporter": "python",
   "pygments_lexer": "ipython3",
   "version": "3.9.16"
  },
  "orig_nbformat": 4
 },
 "nbformat": 4,
 "nbformat_minor": 2
}
