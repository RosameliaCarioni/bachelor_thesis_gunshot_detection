{
 "cells": [
  {
   "cell_type": "code",
   "execution_count": null,
   "metadata": {},
   "outputs": [],
   "source": [
    "import tensorflow as tf\n",
    "import tensorflow_io as tfio\n",
    "import os \n",
    "import tensorflow as tf\n",
    "import matplotlib.pyplot as plt\n",
    "import os \n",
    "import numpy as np\n",
    "from tensorflow import keras\n",
    "import seaborn as sns\n",
    "from sklearn.model_selection import StratifiedKFold\n",
    "from sklearn.model_selection import train_test_split\n",
    "from methods_audio import data_handling\n",
    "from methods_audio import data_augmentation\n",
    "from methods_audio import denoising \n",
    "from methods_audio import model_performance_training\n",
    "from audiomentations import Compose, AddGaussianNoise, TimeStretch, PitchShift, TimeMask, SpecCompose, SpecFrequencyMask, Mp3Compression\n",
    "import random\n",
    "from methods_audio import data_handling"
   ]
  },
  {
   "cell_type": "code",
   "execution_count": 2,
   "metadata": {},
   "outputs": [
    {
     "name": "stdout",
     "output_type": "stream",
     "text": [
      "Metal device set to: Apple M1 Pro\n",
      "\n",
      "systemMemory: 16.00 GB\n",
      "maxCacheSize: 5.33 GB\n",
      "\n"
     ]
    }
   ],
   "source": [
    "data = data_handling.get_data()"
   ]
  },
  {
   "cell_type": "code",
   "execution_count": null,
   "metadata": {},
   "outputs": [],
   "source": [
    "len(data)"
   ]
  },
  {
   "cell_type": "markdown",
   "metadata": {},
   "source": [
    "# 2. Read data (transforming file names into waves) <br>\n",
    "Additionally, the mean is removed and the data is normalized. "
   ]
  },
  {
   "cell_type": "code",
   "execution_count": 3,
   "metadata": {},
   "outputs": [],
   "source": [
    "data = data.map(data_handling.read_in_data) "
   ]
  },
  {
   "cell_type": "markdown",
   "metadata": {},
   "source": [
    "# 3. Get input for model training "
   ]
  },
  {
   "cell_type": "code",
   "execution_count": 4,
   "metadata": {},
   "outputs": [
    {
     "name": "stderr",
     "output_type": "stream",
     "text": [
      "2023-05-17 14:31:38.993986: W tensorflow/tsl/platform/profile_utils/cpu_utils.cc:128] Failed to get CPU frequency: 0 Hz\n"
     ]
    }
   ],
   "source": [
    "samples, labels = data_handling.extract_samples_labels(data)"
   ]
  },
  {
   "attachments": {},
   "cell_type": "markdown",
   "metadata": {},
   "source": [
    "Get data"
   ]
  },
  {
   "cell_type": "code",
   "execution_count": 11,
   "metadata": {},
   "outputs": [
    {
     "name": "stderr",
     "output_type": "stream",
     "text": [
      "/var/folders/bz/rfsj8qqx5zsg0g1p0xdb1fkw0000gn/T/ipykernel_57413/484824578.py:9: VisibleDeprecationWarning: Creating an ndarray from ragged nested sequences (which is a list-or-tuple of lists-or-tuples-or ndarrays with different lengths or shapes) is deprecated. If you meant to do this, you must specify 'dtype=object' when creating the ndarray.\n",
      "  x_train = np.array(samples)[train.astype(int)]\n",
      "/var/folders/bz/rfsj8qqx5zsg0g1p0xdb1fkw0000gn/T/ipykernel_57413/484824578.py:11: VisibleDeprecationWarning: Creating an ndarray from ragged nested sequences (which is a list-or-tuple of lists-or-tuples-or ndarrays with different lengths or shapes) is deprecated. If you meant to do this, you must specify 'dtype=object' when creating the ndarray.\n",
      "  x_valid = np.array(samples)[test.astype(int)]\n"
     ]
    }
   ],
   "source": [
    "from sklearn.model_selection import StratifiedKFold\n",
    "\n",
    "splits = 2\n",
    "\n",
    "kfold = StratifiedKFold(n_splits=splits, shuffle=True, random_state=123)   \n",
    "\n",
    "for train, test in kfold.split(samples, labels):\n",
    "    # 3. Split data and transform it from list of numpy.ndarray into numpy.ndarray of numpy.ndarray\n",
    "    x_train = np.array(samples)[train.astype(int)]\n",
    "    y_train = np.array(labels)[train.astype(int)]\n",
    "    x_valid = np.array(samples)[test.astype(int)]\n",
    "    y_valid = np.array(labels)[test.astype(int)]\n",
    "\n",
    "    # 4. Transform numpy.ndarray into lists\n",
    "    x_train_list = x_train.tolist() \n",
    "    y_train_list = y_train.tolist()\n",
    "    x_valid_list = x_valid.tolist()"
   ]
  },
  {
   "cell_type": "code",
   "execution_count": 12,
   "metadata": {},
   "outputs": [
    {
     "data": {
      "text/plain": [
       "[array([-0.19126989, -0.22592975, -0.12772681, ...,  0.05520026,\n",
       "         0.16174725,  0.19448157], dtype=float32)]"
      ]
     },
     "execution_count": 12,
     "metadata": {},
     "output_type": "execute_result"
    }
   ],
   "source": [
    "x_train_list[:1]\n"
   ]
  },
  {
   "cell_type": "code",
   "execution_count": 18,
   "metadata": {},
   "outputs": [],
   "source": [
    "def time_gaussian_noise(samples, probability): \n",
    "    # Similar to Noise Adds\n",
    "    sample_rate = 8000\n",
    "    augment = Compose([\n",
    "    AddGaussianNoise(min_amplitude=0.001, max_amplitude=0.015, p=probability),\n",
    "])  \n",
    "    augmented_samples = augment(samples=samples, sample_rate=sample_rate)\n",
    "    return augmented_samples\n",
    "\n",
    "def time_mask(samples, probability): \n",
    "    sample_rate = 8000\n",
    "    augment = Compose([\n",
    "    TimeMask(min_band_part=0.0, max_band_part= 0.1, fade = False, p = probability), \n",
    "])  \n",
    "    augmented_samples = augment(samples=samples, sample_rate=sample_rate)\n",
    "    return augmented_samples\n",
    "\n",
    "def time_compression(samples, probability): \n",
    "    # Similar to gain\n",
    "    sample_rate = 8000\n",
    "    augment = Compose([  \n",
    "    Mp3Compression(p = probability),\n",
    "]) \n",
    "    augmented_samples = augment(samples=samples, sample_rate=sample_rate)\n",
    "    return augmented_samples\n",
    "\n",
    "def time_augmentation(samples, labels, probability): \n",
    "    \n",
    "    new_samples = []\n",
    "    new_labels = []\n",
    "    for sample, label in zip(samples, labels): \n",
    "        new_samples += [sample]\n",
    "        new_labels += [label]\n",
    "\n",
    "        print('meli')\n",
    "        compressed_sample = time_compression(sample, probability)\n",
    "        print(compressed_sample)\n",
    "\n",
    "        if not np.all([np.array_equal(arr1, arr2) for arr1, arr2 in zip(sample, compressed_sample)]): \n",
    "            # if the samples are not the same, it means that augmentation occured so save the new one \n",
    "            new_samples += [compressed_sample]\n",
    "            new_labels += [label]\n",
    "\n",
    "\n",
    "    # Shuffle the lists to reduce any type of bias, ensuring that the paring of signal/label is kept \n",
    "    paired_list = list(zip(new_samples, new_labels))\n",
    "    random.shuffle(paired_list)\n",
    "\n",
    "    shuffled_signals, suffled_labels = zip(*paired_list) #unziping \n",
    "\n",
    "    # Eventhough we unzipped the data, the type is still duple, so when returning it, we cast it to list\n",
    "\n",
    "    return list(shuffled_signals), list(suffled_labels)"
   ]
  },
  {
   "cell_type": "code",
   "execution_count": 19,
   "metadata": {},
   "outputs": [
    {
     "name": "stdout",
     "output_type": "stream",
     "text": [
      "meli\n"
     ]
    },
    {
     "name": "stderr",
     "output_type": "stream",
     "text": [
      "/Users/rosameliacarioni/miniconda3/envs/bach_thesis_4/lib/python3.9/site-packages/pydub/utils.py:170: RuntimeWarning: Couldn't find ffmpeg or avconv - defaulting to ffmpeg, but may not work\n",
      "  warn(\"Couldn't find ffmpeg or avconv - defaulting to ffmpeg, but may not work\", RuntimeWarning)\n"
     ]
    },
    {
     "ename": "FileNotFoundError",
     "evalue": "[Errno 2] No such file or directory: 'ffmpeg'",
     "output_type": "error",
     "traceback": [
      "\u001b[0;31m---------------------------------------------------------------------------\u001b[0m",
      "\u001b[0;31mFileNotFoundError\u001b[0m                         Traceback (most recent call last)",
      "Cell \u001b[0;32mIn[19], line 2\u001b[0m\n\u001b[1;32m      1\u001b[0m probability \u001b[39m=\u001b[39m \u001b[39m1\u001b[39m\n\u001b[0;32m----> 2\u001b[0m x_train_list2, y_train_list2 \u001b[39m=\u001b[39m time_augmentation(x_train_list[:\u001b[39m1\u001b[39;49m], y_train_list[:\u001b[39m1\u001b[39;49m], probability)\n",
      "Cell \u001b[0;32mIn[18], line 36\u001b[0m, in \u001b[0;36mtime_augmentation\u001b[0;34m(samples, labels, probability)\u001b[0m\n\u001b[1;32m     33\u001b[0m new_labels \u001b[39m+\u001b[39m\u001b[39m=\u001b[39m [label]\n\u001b[1;32m     35\u001b[0m \u001b[39mprint\u001b[39m(\u001b[39m'\u001b[39m\u001b[39mmeli\u001b[39m\u001b[39m'\u001b[39m)\n\u001b[0;32m---> 36\u001b[0m compressed_sample \u001b[39m=\u001b[39m time_compression(sample, probability)\n\u001b[1;32m     37\u001b[0m \u001b[39mprint\u001b[39m(compressed_sample)\n\u001b[1;32m     39\u001b[0m \u001b[39mif\u001b[39;00m \u001b[39mnot\u001b[39;00m np\u001b[39m.\u001b[39mall([np\u001b[39m.\u001b[39marray_equal(arr1, arr2) \u001b[39mfor\u001b[39;00m arr1, arr2 \u001b[39min\u001b[39;00m \u001b[39mzip\u001b[39m(sample, compressed_sample)]): \n\u001b[1;32m     40\u001b[0m     \u001b[39m# if the samples are not the same, it means that augmentation occured so save the new one \u001b[39;00m\n",
      "Cell \u001b[0;32mIn[18], line 24\u001b[0m, in \u001b[0;36mtime_compression\u001b[0;34m(samples, probability)\u001b[0m\n\u001b[1;32m     20\u001b[0m     sample_rate \u001b[39m=\u001b[39m \u001b[39m8000\u001b[39m\n\u001b[1;32m     21\u001b[0m     augment \u001b[39m=\u001b[39m Compose([  \n\u001b[1;32m     22\u001b[0m     Mp3Compression(p \u001b[39m=\u001b[39m probability),\n\u001b[1;32m     23\u001b[0m ]) \n\u001b[0;32m---> 24\u001b[0m     augmented_samples \u001b[39m=\u001b[39m augment(samples\u001b[39m=\u001b[39;49msamples, sample_rate\u001b[39m=\u001b[39;49msample_rate)\n\u001b[1;32m     25\u001b[0m     \u001b[39mreturn\u001b[39;00m augmented_samples\n",
      "File \u001b[0;32m~/miniconda3/envs/bach_thesis_4/lib/python3.9/site-packages/audiomentations/core/composition.py:90\u001b[0m, in \u001b[0;36mCompose.__call__\u001b[0;34m(self, samples, sample_rate)\u001b[0m\n\u001b[1;32m     88\u001b[0m         random\u001b[39m.\u001b[39mshuffle(transforms)\n\u001b[1;32m     89\u001b[0m     \u001b[39mfor\u001b[39;00m transform \u001b[39min\u001b[39;00m transforms:\n\u001b[0;32m---> 90\u001b[0m         samples \u001b[39m=\u001b[39m transform(samples, sample_rate)\n\u001b[1;32m     92\u001b[0m \u001b[39mreturn\u001b[39;00m samples\n",
      "File \u001b[0;32m~/miniconda3/envs/bach_thesis_4/lib/python3.9/site-packages/audiomentations/core/transforms_interface.py:84\u001b[0m, in \u001b[0;36mBaseWaveformTransform.__call__\u001b[0;34m(self, samples, sample_rate)\u001b[0m\n\u001b[1;32m     78\u001b[0m     \u001b[39melif\u001b[39;00m \u001b[39mnot\u001b[39;00m \u001b[39mself\u001b[39m\u001b[39m.\u001b[39msupports_mono:\n\u001b[1;32m     79\u001b[0m         \u001b[39mraise\u001b[39;00m MonoAudioNotSupportedException(\n\u001b[1;32m     80\u001b[0m             \u001b[39m\"\u001b[39m\u001b[39m{}\u001b[39;00m\u001b[39m only supports multichannel audio, not mono audio\u001b[39m\u001b[39m\"\u001b[39m\u001b[39m.\u001b[39mformat(\n\u001b[1;32m     81\u001b[0m                 \u001b[39mself\u001b[39m\u001b[39m.\u001b[39m\u001b[39m__class__\u001b[39m\u001b[39m.\u001b[39m\u001b[39m__name__\u001b[39m\n\u001b[1;32m     82\u001b[0m             )\n\u001b[1;32m     83\u001b[0m         )\n\u001b[0;32m---> 84\u001b[0m     \u001b[39mreturn\u001b[39;00m \u001b[39mself\u001b[39;49m\u001b[39m.\u001b[39;49mapply(samples, sample_rate)\n\u001b[1;32m     85\u001b[0m \u001b[39mreturn\u001b[39;00m samples\n",
      "File \u001b[0;32m~/miniconda3/envs/bach_thesis_4/lib/python3.9/site-packages/audiomentations/augmentations/mp3_compression.py:96\u001b[0m, in \u001b[0;36mMp3Compression.apply\u001b[0;34m(self, samples, sample_rate)\u001b[0m\n\u001b[1;32m     94\u001b[0m     \u001b[39mreturn\u001b[39;00m \u001b[39mself\u001b[39m\u001b[39m.\u001b[39mapply_lameenc(samples, sample_rate)\n\u001b[1;32m     95\u001b[0m \u001b[39melif\u001b[39;00m \u001b[39mself\u001b[39m\u001b[39m.\u001b[39mbackend \u001b[39m==\u001b[39m \u001b[39m\"\u001b[39m\u001b[39mpydub\u001b[39m\u001b[39m\"\u001b[39m:\n\u001b[0;32m---> 96\u001b[0m     \u001b[39mreturn\u001b[39;00m \u001b[39mself\u001b[39;49m\u001b[39m.\u001b[39;49mapply_pydub(samples, sample_rate)\n\u001b[1;32m     97\u001b[0m \u001b[39melse\u001b[39;00m:\n\u001b[1;32m     98\u001b[0m     \u001b[39mraise\u001b[39;00m \u001b[39mException\u001b[39;00m(\u001b[39m\"\u001b[39m\u001b[39mBackend \u001b[39m\u001b[39m{}\u001b[39;00m\u001b[39m not recognized\u001b[39m\u001b[39m\"\u001b[39m\u001b[39m.\u001b[39mformat(\u001b[39mself\u001b[39m\u001b[39m.\u001b[39mbackend))\n",
      "File \u001b[0;32m~/miniconda3/envs/bach_thesis_4/lib/python3.9/site-packages/audiomentations/augmentations/mp3_compression.py:179\u001b[0m, in \u001b[0;36mMp3Compression.apply_pydub\u001b[0;34m(self, samples, sample_rate)\u001b[0m\n\u001b[1;32m    174\u001b[0m tmp_file_path \u001b[39m=\u001b[39m os\u001b[39m.\u001b[39mpath\u001b[39m.\u001b[39mjoin(\n\u001b[1;32m    175\u001b[0m     tmp_dir, \u001b[39m\"\u001b[39m\u001b[39mtmp_compressed_\u001b[39m\u001b[39m{}\u001b[39;00m\u001b[39m.mp3\u001b[39m\u001b[39m\"\u001b[39m\u001b[39m.\u001b[39mformat(\u001b[39mstr\u001b[39m(uuid\u001b[39m.\u001b[39muuid4())[\u001b[39m0\u001b[39m:\u001b[39m12\u001b[39m])\n\u001b[1;32m    176\u001b[0m )\n\u001b[1;32m    178\u001b[0m bitrate_string \u001b[39m=\u001b[39m \u001b[39m\"\u001b[39m\u001b[39m{}\u001b[39;00m\u001b[39mk\u001b[39m\u001b[39m\"\u001b[39m\u001b[39m.\u001b[39mformat(\u001b[39mself\u001b[39m\u001b[39m.\u001b[39mparameters[\u001b[39m\"\u001b[39m\u001b[39mbitrate\u001b[39m\u001b[39m\"\u001b[39m])\n\u001b[0;32m--> 179\u001b[0m file_handle \u001b[39m=\u001b[39m audio_segment\u001b[39m.\u001b[39;49mexport(tmp_file_path, bitrate\u001b[39m=\u001b[39;49mbitrate_string)\n\u001b[1;32m    180\u001b[0m file_handle\u001b[39m.\u001b[39mclose()\n\u001b[1;32m    182\u001b[0m degraded_samples, _ \u001b[39m=\u001b[39m librosa\u001b[39m.\u001b[39mload(tmp_file_path, sr\u001b[39m=\u001b[39msample_rate, mono\u001b[39m=\u001b[39m\u001b[39mFalse\u001b[39;00m)\n",
      "File \u001b[0;32m~/miniconda3/envs/bach_thesis_4/lib/python3.9/site-packages/pydub/audio_segment.py:963\u001b[0m, in \u001b[0;36mAudioSegment.export\u001b[0;34m(self, out_f, format, codec, bitrate, parameters, tags, id3v2_version, cover)\u001b[0m\n\u001b[1;32m    961\u001b[0m \u001b[39m# read stdin / write stdout\u001b[39;00m\n\u001b[1;32m    962\u001b[0m \u001b[39mwith\u001b[39;00m \u001b[39mopen\u001b[39m(os\u001b[39m.\u001b[39mdevnull, \u001b[39m'\u001b[39m\u001b[39mrb\u001b[39m\u001b[39m'\u001b[39m) \u001b[39mas\u001b[39;00m devnull:\n\u001b[0;32m--> 963\u001b[0m     p \u001b[39m=\u001b[39m subprocess\u001b[39m.\u001b[39;49mPopen(conversion_command, stdin\u001b[39m=\u001b[39;49mdevnull, stdout\u001b[39m=\u001b[39;49msubprocess\u001b[39m.\u001b[39;49mPIPE, stderr\u001b[39m=\u001b[39;49msubprocess\u001b[39m.\u001b[39;49mPIPE)\n\u001b[1;32m    964\u001b[0m p_out, p_err \u001b[39m=\u001b[39m p\u001b[39m.\u001b[39mcommunicate()\n\u001b[1;32m    966\u001b[0m log_subprocess_output(p_out)\n",
      "File \u001b[0;32m~/miniconda3/envs/bach_thesis_4/lib/python3.9/subprocess.py:951\u001b[0m, in \u001b[0;36mPopen.__init__\u001b[0;34m(self, args, bufsize, executable, stdin, stdout, stderr, preexec_fn, close_fds, shell, cwd, env, universal_newlines, startupinfo, creationflags, restore_signals, start_new_session, pass_fds, user, group, extra_groups, encoding, errors, text, umask)\u001b[0m\n\u001b[1;32m    947\u001b[0m         \u001b[39mif\u001b[39;00m \u001b[39mself\u001b[39m\u001b[39m.\u001b[39mtext_mode:\n\u001b[1;32m    948\u001b[0m             \u001b[39mself\u001b[39m\u001b[39m.\u001b[39mstderr \u001b[39m=\u001b[39m io\u001b[39m.\u001b[39mTextIOWrapper(\u001b[39mself\u001b[39m\u001b[39m.\u001b[39mstderr,\n\u001b[1;32m    949\u001b[0m                     encoding\u001b[39m=\u001b[39mencoding, errors\u001b[39m=\u001b[39merrors)\n\u001b[0;32m--> 951\u001b[0m     \u001b[39mself\u001b[39;49m\u001b[39m.\u001b[39;49m_execute_child(args, executable, preexec_fn, close_fds,\n\u001b[1;32m    952\u001b[0m                         pass_fds, cwd, env,\n\u001b[1;32m    953\u001b[0m                         startupinfo, creationflags, shell,\n\u001b[1;32m    954\u001b[0m                         p2cread, p2cwrite,\n\u001b[1;32m    955\u001b[0m                         c2pread, c2pwrite,\n\u001b[1;32m    956\u001b[0m                         errread, errwrite,\n\u001b[1;32m    957\u001b[0m                         restore_signals,\n\u001b[1;32m    958\u001b[0m                         gid, gids, uid, umask,\n\u001b[1;32m    959\u001b[0m                         start_new_session)\n\u001b[1;32m    960\u001b[0m \u001b[39mexcept\u001b[39;00m:\n\u001b[1;32m    961\u001b[0m     \u001b[39m# Cleanup if the child failed starting.\u001b[39;00m\n\u001b[1;32m    962\u001b[0m     \u001b[39mfor\u001b[39;00m f \u001b[39min\u001b[39;00m \u001b[39mfilter\u001b[39m(\u001b[39mNone\u001b[39;00m, (\u001b[39mself\u001b[39m\u001b[39m.\u001b[39mstdin, \u001b[39mself\u001b[39m\u001b[39m.\u001b[39mstdout, \u001b[39mself\u001b[39m\u001b[39m.\u001b[39mstderr)):\n",
      "File \u001b[0;32m~/miniconda3/envs/bach_thesis_4/lib/python3.9/subprocess.py:1821\u001b[0m, in \u001b[0;36mPopen._execute_child\u001b[0;34m(self, args, executable, preexec_fn, close_fds, pass_fds, cwd, env, startupinfo, creationflags, shell, p2cread, p2cwrite, c2pread, c2pwrite, errread, errwrite, restore_signals, gid, gids, uid, umask, start_new_session)\u001b[0m\n\u001b[1;32m   1819\u001b[0m     \u001b[39mif\u001b[39;00m errno_num \u001b[39m!=\u001b[39m \u001b[39m0\u001b[39m:\n\u001b[1;32m   1820\u001b[0m         err_msg \u001b[39m=\u001b[39m os\u001b[39m.\u001b[39mstrerror(errno_num)\n\u001b[0;32m-> 1821\u001b[0m     \u001b[39mraise\u001b[39;00m child_exception_type(errno_num, err_msg, err_filename)\n\u001b[1;32m   1822\u001b[0m \u001b[39mraise\u001b[39;00m child_exception_type(err_msg)\n",
      "\u001b[0;31mFileNotFoundError\u001b[0m: [Errno 2] No such file or directory: 'ffmpeg'"
     ]
    }
   ],
   "source": [
    "probability = 1\n",
    "x_train_list2, y_train_list2 = time_augmentation(x_train_list[:1], y_train_list[:1], probability)"
   ]
  },
  {
   "cell_type": "code",
   "execution_count": null,
   "metadata": {},
   "outputs": [],
   "source": [
    "len(x_train_list)"
   ]
  },
  {
   "cell_type": "code",
   "execution_count": null,
   "metadata": {},
   "outputs": [],
   "source": [
    "list1 = x_train_list[0]\n",
    "list2 = x_train_list[1]\n",
    "np.all([np.array_equal(arr1, arr2) for arr1, arr2 in zip(list1, list2)])\n"
   ]
  },
  {
   "cell_type": "code",
   "execution_count": null,
   "metadata": {},
   "outputs": [],
   "source": []
  },
  {
   "cell_type": "code",
   "execution_count": null,
   "metadata": {},
   "outputs": [],
   "source": [
    "def given_list_return_30(list):\n",
    "    return list[30]"
   ]
  },
  {
   "cell_type": "code",
   "execution_count": null,
   "metadata": {},
   "outputs": [],
   "source": [
    "def take_lists (acc, pre, rec, loss): \n",
    "    print(given_list_return_30(acc))\n",
    "    print(given_list_return_30(pre))\n",
    "    print(given_list_return_30(rec))\n",
    "    print(given_list_return_30(loss))"
   ]
  },
  {
   "cell_type": "code",
   "execution_count": null,
   "metadata": {},
   "outputs": [],
   "source": [
    "accuracy = [0.5053533017635345,\n",
    "0.6556296408176422,\n",
    "0.7123773217201232,\n",
    "0.7079538822174072,\n",
    "0.8207761287689209,\n",
    "0.8328765153884887,\n",
    "0.8795721054077148,\n",
    "0.8891479969024658,\n",
    "0.9034916043281556,\n",
    "0.9020764231681824,\n",
    "0.9299391746520996,\n",
    "0.9183966159820557,\n",
    "0.9034844636917114,\n",
    "0.9380990862846375,\n",
    "0.9383819580078125,\n",
    "0.9271206855773926,\n",
    "0.9456948041915894,\n",
    "0.9428842425346374,\n",
    "0.9414769887924195,\n",
    "0.9451345920562744,\n",
    "0.9538555026054383,\n",
    "0.9580765008926392,\n",
    "0.9485113024711609,\n",
    "0.9561082482337951,\n",
    "0.9426045417785645,\n",
    "0.9549822568893432,\n",
    "0.9569513082504273,\n",
    "0.9527315139770508,\n",
    "0.9563903212547302,\n",
    "0.9372456908226013,\n",
    "0.9358582377433777,\n",
    "0.9558281302452087,\n",
    "0.9648303270339966,\n",
    "0.9547021627426148,\n",
    "0.9625791788101197,\n",
    "0.9597642660140991,\n",
    "0.9614544034004211,\n",
    "0.9631413698196412,\n",
    "0.9642681241035461,\n",
    "0.9625787734985352,\n",
    "0.9608902335166931,\n",
    "0.9606101036071777,\n",
    "0.9645494222640991,\n",
    "0.9667993783950806,\n",
    "0.9639864444732666,\n",
    "0.9645494222640991,\n",
    "0.9620173811912537,\n",
    "0.9651116132736206,\n",
    "0.9656734108924866,\n",
    "0.9634238600730896]"
   ]
  },
  {
   "cell_type": "code",
   "execution_count": null,
   "metadata": {},
   "outputs": [],
   "source": [
    "precision = [0.598873633146286,\n",
    "0.7381534159183503,\n",
    "0.7508548498153687,\n",
    "0.6987374782562256,\n",
    "0.8254450678825378,\n",
    "0.8001165390014648,\n",
    "0.883429765701294,\n",
    "0.862846040725708,\n",
    "0.9176298260688782,\n",
    "0.9052736639976502,\n",
    "0.9341355919837951,\n",
    "0.9443249464035034,\n",
    "0.8896600246429444,\n",
    "0.9275087118148804,\n",
    "0.9344295978546142,\n",
    "0.9220501899719238,\n",
    "0.9639141440391541,\n",
    "0.9249795079231262,\n",
    "0.9444829821586609,\n",
    "0.9354500055313111,\n",
    "0.9481643199920654,\n",
    "0.9540666103363037,\n",
    "0.9526579022407532,\n",
    "0.9497284293174744,\n",
    "0.9253448128700257,\n",
    "0.9456703662872314,\n",
    "0.9454304814338684,\n",
    "0.9691927671432495,\n",
    "0.9482736110687255,\n",
    "0.9520818829536438,\n",
    "0.9746097803115845,\n",
    "0.9508116483688355,\n",
    "0.9730987548828125,\n",
    "0.9623815655708313,\n",
    "0.9604140639305114,\n",
    "0.9586260080337524,\n",
    "0.9577802538871765,\n",
    "0.9611108064651489,\n",
    "0.9640872836112976,\n",
    "0.9593278765678406,\n",
    "0.9578320741653442,\n",
    "0.9554691195487977,\n",
    "0.9589033126831055,\n",
    "0.9658541440963745,\n",
    "0.9605337619781494,\n",
    "0.9639965891838074,\n",
    "0.9556813836097717,\n",
    "0.9631246328353882,\n",
    "0.9646394371986389,\n",
    "0.9586552381515503]\n",
    "\n",
    "\n"
   ]
  },
  {
   "cell_type": "code",
   "execution_count": null,
   "metadata": {},
   "outputs": [],
   "source": [
    "recall = [0.8107360668480397,\n",
    "0.7525423645973206,\n",
    "0.7723927736282349,\n",
    "0.8752988100051879,\n",
    "0.8610392332077026,\n",
    "0.9175666570663452,\n",
    "0.8768711805343627,\n",
    "0.9350409865379333,\n",
    "0.8926760792732239,\n",
    "0.908487331867218,\n",
    "0.9249017238616943,\n",
    "0.8932346820831298,\n",
    "0.9305164337158203,\n",
    "0.9508824944496155,\n",
    "0.9435283064842224,\n",
    "0.9412445425987244,\n",
    "0.9265711903572083,\n",
    "0.9655478715896606,\n",
    "0.9412477254867554,\n",
    "0.9581984639167785,\n",
    "0.9604710817337037,\n",
    "0.9627246141433716,\n",
    "0.9452088832855224,\n",
    "0.9638529539108276,\n",
    "0.9661223888397217,\n",
    "0.9666730403900147,\n",
    "0.9706310153007507,\n",
    "0.9356075644493103,\n",
    "0.9666730523109436,\n",
    "0.9231702089309692,\n",
    "0.8962504982948303,\n",
    "0.9621564507484436,\n",
    "0.9559481263160705,\n",
    "0.9469260931015014,\n",
    "0.9649828910827637,\n",
    "0.9610280990600586,\n",
    "0.9655478715896606,\n",
    "0.9655415296554566,\n",
    "0.9644163370132446,\n",
    "0.9666714668273926,\n",
    "0.9644163370132446,\n",
    "0.9672364234924317,\n",
    "0.9706294417381287,\n",
    "0.9678030014038086,\n",
    "0.9678077578544617,\n",
    "0.9649876713752746,\n",
    "0.9700596928596497,\n",
    "0.9672427892684936,\n",
    "0.9666746377944946,\n",
    "0.9689313530921936]"
   ]
  },
  {
   "cell_type": "code",
   "execution_count": null,
   "metadata": {},
   "outputs": [],
   "source": [
    "loss = [0.7029196858406067,\n",
    "0.598166024684906,\n",
    "0.5438540041446686,\n",
    "0.5108146131038666,\n",
    "0.4023751258850098,\n",
    "0.3613684594631195,\n",
    "0.28302874565124514,\n",
    "0.26664240956306456,\n",
    "0.2444238245487213,\n",
    "0.2399083971977234,\n",
    "0.18699799180030824,\n",
    "0.21292608380317687,\n",
    "0.23310189247131347,\n",
    "0.16458430588245393,\n",
    "0.16046417951583863,\n",
    "0.18385301232337953,\n",
    "0.15592080950737,\n",
    "0.15015002191066742,\n",
    "0.15618603378534318,\n",
    "0.14431273341178893,\n",
    "0.12665585279464722,\n",
    "0.12672632932662964,\n",
    "0.1345878556370735,\n",
    "0.13021054863929749,\n",
    "0.15255046039819717,\n",
    "0.1329212889075279,\n",
    "0.12572951465845109,\n",
    "0.13774742037057877,\n",
    "0.13041517734527588,\n",
    "0.1793070673942566,\n",
    "0.19231543987989425,\n",
    "0.12929256856441498,\n",
    "0.11244143098592758,\n",
    "0.12843812704086305,\n",
    "0.1160872682929039,\n",
    "0.12212135046720504,\n",
    "0.11703045964241028,\n",
    "0.1188506841659546,\n",
    "0.11395584344863892,\n",
    "0.12957920879125595,\n",
    "0.12389957308769226,\n",
    "0.12683125138282775,\n",
    "0.11255563497543335,\n",
    "0.11432499587535858,\n",
    "0.12230847179889678,\n",
    "0.12158175110816956,\n",
    "0.1277119681239128,\n",
    "0.11979437470436097,\n",
    "0.11951465606689453,\n",
    "0.12347009629011155] "
   ]
  },
  {
   "cell_type": "code",
   "execution_count": null,
   "metadata": {},
   "outputs": [],
   "source": [
    "take_lists(accuracy, precision, recall, loss)"
   ]
  }
 ],
 "metadata": {
  "kernelspec": {
   "display_name": "bach_thesis_4",
   "language": "python",
   "name": "python3"
  },
  "language_info": {
   "codemirror_mode": {
    "name": "ipython",
    "version": 3
   },
   "file_extension": ".py",
   "mimetype": "text/x-python",
   "name": "python",
   "nbconvert_exporter": "python",
   "pygments_lexer": "ipython3",
   "version": "3.9.16"
  },
  "orig_nbformat": 4
 },
 "nbformat": 4,
 "nbformat_minor": 2
}
