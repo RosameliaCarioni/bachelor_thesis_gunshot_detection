{
 "cells": [
  {
   "cell_type": "code",
   "execution_count": 1,
   "metadata": {},
   "outputs": [
    {
     "name": "stderr",
     "output_type": "stream",
     "text": [
      "/Users/rosameliacarioni/miniconda3/envs/bach_thesis_4/lib/python3.9/site-packages/tensorflow_io-0.32.0-py3.9-macosx-11.0-arm64.egg/tensorflow_io/python/ops/__init__.py:98: UserWarning: unable to load libtensorflow_io_plugins.so: unable to open file: libtensorflow_io_plugins.so, from paths: ['/Users/rosameliacarioni/miniconda3/envs/bach_thesis_4/lib/python3.9/site-packages/tensorflow_io-0.32.0-py3.9-macosx-11.0-arm64.egg/tensorflow_io/python/ops/libtensorflow_io_plugins.so']\n",
      "caused by: [\"[Errno 2] The file to load file system plugin from does not exist.: '/Users/rosameliacarioni/miniconda3/envs/bach_thesis_4/lib/python3.9/site-packages/tensorflow_io-0.32.0-py3.9-macosx-11.0-arm64.egg/tensorflow_io/python/ops/libtensorflow_io_plugins.so'\"]\n",
      "  warnings.warn(f\"unable to load libtensorflow_io_plugins.so: {e}\")\n",
      "/Users/rosameliacarioni/miniconda3/envs/bach_thesis_4/lib/python3.9/site-packages/tensorflow_io-0.32.0-py3.9-macosx-11.0-arm64.egg/tensorflow_io/python/ops/__init__.py:104: UserWarning: file system plugins are not loaded: unable to open file: libtensorflow_io.so, from paths: ['/Users/rosameliacarioni/miniconda3/envs/bach_thesis_4/lib/python3.9/site-packages/tensorflow_io-0.32.0-py3.9-macosx-11.0-arm64.egg/tensorflow_io/python/ops/libtensorflow_io.so']\n",
      "caused by: [\"dlopen(/Users/rosameliacarioni/miniconda3/envs/bach_thesis_4/lib/python3.9/site-packages/tensorflow_io-0.32.0-py3.9-macosx-11.0-arm64.egg/tensorflow_io/python/ops/libtensorflow_io.so, 0x0006): tried: '/Users/rosameliacarioni/miniconda3/envs/bach_thesis_4/lib/python3.9/site-packages/tensorflow_io-0.32.0-py3.9-macosx-11.0-arm64.egg/tensorflow_io/python/ops/libtensorflow_io.so' (no such file)\"]\n",
      "  warnings.warn(f\"file system plugins are not loaded: {e}\")\n"
     ]
    }
   ],
   "source": [
    "import tensorflow as tf\n",
    "import tensorflow_io as tfio\n",
    "import os \n",
    "import tensorflow as tf\n",
    "import matplotlib.pyplot as plt\n",
    "import os \n",
    "import numpy as np\n",
    "from tensorflow import keras\n",
    "import seaborn as sns\n",
    "from sklearn.model_selection import StratifiedKFold\n",
    "from sklearn.model_selection import train_test_split\n",
    "from methods_audio import data_handling\n",
    "from methods_audio import data_augmentation\n",
    "from methods_audio import denoising \n",
    "from methods_audio import model_performance_training\n",
    "from audiomentations import Compose, AddGaussianNoise, TimeStretch, PitchShift, TimeMask, SpecCompose, SpecFrequencyMask\n",
    "import random\n",
    "from methods_audio import data_handling"
   ]
  },
  {
   "cell_type": "code",
   "execution_count": 1,
   "metadata": {},
   "outputs": [],
   "source": [
    "# Load the TensorBoard notebook extension\n",
    "%load_ext tensorboard"
   ]
  },
  {
   "cell_type": "code",
   "execution_count": 2,
   "metadata": {},
   "outputs": [
    {
     "name": "stderr",
     "output_type": "stream",
     "text": [
      "/Users/rosameliacarioni/miniconda3/envs/bach_thesis_4/lib/python3.9/site-packages/tensorflow_io-0.32.0-py3.9-macosx-11.0-arm64.egg/tensorflow_io/python/ops/__init__.py:98: UserWarning: unable to load libtensorflow_io_plugins.so: unable to open file: libtensorflow_io_plugins.so, from paths: ['/Users/rosameliacarioni/miniconda3/envs/bach_thesis_4/lib/python3.9/site-packages/tensorflow_io-0.32.0-py3.9-macosx-11.0-arm64.egg/tensorflow_io/python/ops/libtensorflow_io_plugins.so']\n",
      "caused by: [\"[Errno 2] The file to load file system plugin from does not exist.: '/Users/rosameliacarioni/miniconda3/envs/bach_thesis_4/lib/python3.9/site-packages/tensorflow_io-0.32.0-py3.9-macosx-11.0-arm64.egg/tensorflow_io/python/ops/libtensorflow_io_plugins.so'\"]\n",
      "  warnings.warn(f\"unable to load libtensorflow_io_plugins.so: {e}\")\n",
      "/Users/rosameliacarioni/miniconda3/envs/bach_thesis_4/lib/python3.9/site-packages/tensorflow_io-0.32.0-py3.9-macosx-11.0-arm64.egg/tensorflow_io/python/ops/__init__.py:104: UserWarning: file system plugins are not loaded: unable to open file: libtensorflow_io.so, from paths: ['/Users/rosameliacarioni/miniconda3/envs/bach_thesis_4/lib/python3.9/site-packages/tensorflow_io-0.32.0-py3.9-macosx-11.0-arm64.egg/tensorflow_io/python/ops/libtensorflow_io.so']\n",
      "caused by: [\"dlopen(/Users/rosameliacarioni/miniconda3/envs/bach_thesis_4/lib/python3.9/site-packages/tensorflow_io-0.32.0-py3.9-macosx-11.0-arm64.egg/tensorflow_io/python/ops/libtensorflow_io.so, 0x0006): tried: '/Users/rosameliacarioni/miniconda3/envs/bach_thesis_4/lib/python3.9/site-packages/tensorflow_io-0.32.0-py3.9-macosx-11.0-arm64.egg/tensorflow_io/python/ops/libtensorflow_io.so' (no such file)\"]\n",
      "  warnings.warn(f\"file system plugins are not loaded: {e}\")\n"
     ]
    }
   ],
   "source": [
    "import tensorflow as tf\n",
    "import datetime"
   ]
  },
  {
   "cell_type": "code",
   "execution_count": 2,
   "metadata": {},
   "outputs": [
    {
     "name": "stdout",
     "output_type": "stream",
     "text": [
      "Metal device set to: Apple M1 Pro\n",
      "\n",
      "systemMemory: 16.00 GB\n",
      "maxCacheSize: 5.33 GB\n",
      "\n"
     ]
    }
   ],
   "source": [
    "data = data_handling.get_data2()"
   ]
  },
  {
   "cell_type": "code",
   "execution_count": 3,
   "metadata": {},
   "outputs": [
    {
     "data": {
      "text/plain": [
       "3"
      ]
     },
     "execution_count": 3,
     "metadata": {},
     "output_type": "execute_result"
    }
   ],
   "source": [
    "len(data)"
   ]
  },
  {
   "cell_type": "markdown",
   "metadata": {},
   "source": [
    "# 2. Read data (transforming file names into waves) <br>\n",
    "Additionally, the mean is removed and the data is normalized. "
   ]
  },
  {
   "cell_type": "code",
   "execution_count": 4,
   "metadata": {},
   "outputs": [],
   "source": [
    "data = data.map(data_handling.read_in_data) "
   ]
  },
  {
   "cell_type": "markdown",
   "metadata": {},
   "source": [
    "# 3. Get input for model training "
   ]
  },
  {
   "cell_type": "code",
   "execution_count": 33,
   "metadata": {},
   "outputs": [],
   "source": [
    "samples, labels = data_handling.extract_samples_labels(data)"
   ]
  },
  {
   "cell_type": "code",
   "execution_count": 32,
   "metadata": {},
   "outputs": [],
   "source": [
    "def spectrogram_frequency_mask (spectrogram):\n",
    "    print('make it here')\n",
    "    augment = SpecCompose([\n",
    "        SpecFrequencyMask(p=1),\n",
    "    ])\n",
    "    augmented_spectrogram = augment(spectrogram)\n",
    "    print('not here')\n",
    "    \n",
    "    return augmented_spectrogram"
   ]
  },
  {
   "cell_type": "code",
   "execution_count": 7,
   "metadata": {},
   "outputs": [],
   "source": [
    "def convert_to_spectrogram_temp(wave):\n",
    "    # 1. Fast fourier transform #TODO: finish this \n",
    "    spectrogram = tf.signal.stft(wave, frame_length=256, frame_step=128)  # Paper: 'Automated detection of gunshots in tropical forests using CNN' \n",
    "    return spectrogram\n",
    "\n",
    "def convert_to_spectrogram(wave):\n",
    "    # 1. Fast fourier transform \n",
    "    spectrogram = tf.signal.stft(wave, frame_length=256, frame_step=128)  # Paper: 'Automated detection of gunshots in tropical forests using CNN' \n",
    "    # frame_length =  window length in samples --- frame_step = number of samples to step\n",
    "    # 'Time frequency compromise': if window size is small: you get good time resolution in exchange of poor frequency resolution \n",
    "\n",
    "    # 2. Obtain the magnitude of the STFT\n",
    "    spectrogram = tf.abs(spectrogram)\n",
    "\n",
    "    # 3. Tranform it into appropiate format for deep learning model by adding the channel dimension (in this case 1)\n",
    "    spectrogram = tf.expand_dims(spectrogram, axis=2)\n",
    "    return spectrogram"
   ]
  },
  {
   "cell_type": "code",
   "execution_count": 8,
   "metadata": {},
   "outputs": [],
   "source": [
    "def transform_data (waves, type_transformation):\n",
    "    transformed_signals = []\n",
    "\n",
    "    if (type_transformation == 'spectrogram'):\n",
    "        for wave in waves: \n",
    "            transformed_wave = convert_to_spectrogram(wave)\n",
    "            transformed_signals.append(transformed_wave)\n",
    "        \n",
    "    elif(type_transformation == 'spectrogram_temp'): # TODO: finish \n",
    "        for wave in waves: \n",
    "            transformed_wave = convert_to_spectrogram_temp(wave)\n",
    "            transformed_signals.append(transformed_wave)\n",
    "\n",
    "    return transformed_signals"
   ]
  },
  {
   "cell_type": "code",
   "execution_count": 10,
   "metadata": {},
   "outputs": [],
   "source": [
    "def spectrogram_augmentaion(samples, labels): \n",
    " \n",
    "    # 1. Transform data from time domain to frequency domain  \n",
    "    spectrogram = transform_data(samples, type_transformation= 'spectrogram_temp')\n",
    "    new_spects = []\n",
    "    new_labels = []\n",
    "\n",
    "    # 2. Do data augmentation in frequency domain \n",
    "    for spect, label in zip(spectrogram, labels): \n",
    "        print(type(spect))\n",
    "\n",
    "        spect_augmented = spectrogram_frequency_mask(spect)\n",
    "        print(type(spect_augmented))\n",
    "\n",
    "        #spect_augmented = tfio.audio.freq_mask(spect, param=10)\n",
    "        new_spects += [spect, spect_augmented]\n",
    "        new_labels += [label]*2\n",
    "\n",
    "        print('hey meli')\n",
    "        print(type(spect_augmented))\n",
    "\n",
    "    # 3. Transform back into time domain from frequency domain  \n",
    "    #TODO     \n",
    "\n",
    "    return new_spects, new_labels"
   ]
  },
  {
   "attachments": {},
   "cell_type": "markdown",
   "metadata": {},
   "source": [
    "Get data"
   ]
  },
  {
   "cell_type": "code",
   "execution_count": 34,
   "metadata": {},
   "outputs": [
    {
     "name": "stderr",
     "output_type": "stream",
     "text": [
      "/var/folders/bz/rfsj8qqx5zsg0g1p0xdb1fkw0000gn/T/ipykernel_9802/484824578.py:9: VisibleDeprecationWarning: Creating an ndarray from ragged nested sequences (which is a list-or-tuple of lists-or-tuples-or ndarrays with different lengths or shapes) is deprecated. If you meant to do this, you must specify 'dtype=object' when creating the ndarray.\n",
      "  x_train = np.array(samples)[train.astype(int)]\n",
      "/var/folders/bz/rfsj8qqx5zsg0g1p0xdb1fkw0000gn/T/ipykernel_9802/484824578.py:11: VisibleDeprecationWarning: Creating an ndarray from ragged nested sequences (which is a list-or-tuple of lists-or-tuples-or ndarrays with different lengths or shapes) is deprecated. If you meant to do this, you must specify 'dtype=object' when creating the ndarray.\n",
      "  x_valid = np.array(samples)[test.astype(int)]\n"
     ]
    }
   ],
   "source": [
    "from sklearn.model_selection import StratifiedKFold\n",
    "\n",
    "splits = 2\n",
    "\n",
    "kfold = StratifiedKFold(n_splits=splits, shuffle=True, random_state=123)   \n",
    "\n",
    "for train, test in kfold.split(samples, labels):\n",
    "    # 3. Split data and transform it from list of numpy.ndarray into numpy.ndarray of numpy.ndarray\n",
    "    x_train = np.array(samples)[train.astype(int)]\n",
    "    y_train = np.array(labels)[train.astype(int)]\n",
    "    x_valid = np.array(samples)[test.astype(int)]\n",
    "    y_valid = np.array(labels)[test.astype(int)]\n",
    "\n",
    "    # 4. Transform numpy.ndarray into lists\n",
    "    x_train_list = x_train.tolist() \n",
    "    y_train_list = y_train.tolist()\n",
    "    x_valid_list = x_valid.tolist()"
   ]
  },
  {
   "cell_type": "code",
   "execution_count": 35,
   "metadata": {},
   "outputs": [
    {
     "data": {
      "text/plain": [
       "[array([-0.08867513,  0.00858117,  0.21996477, ...,  0.04728521,\n",
       "         0.14057186, -0.04004698], dtype=float32)]"
      ]
     },
     "execution_count": 35,
     "metadata": {},
     "output_type": "execute_result"
    }
   ],
   "source": [
    "x_train_list[:1]\n"
   ]
  },
  {
   "cell_type": "code",
   "execution_count": 36,
   "metadata": {},
   "outputs": [
    {
     "name": "stdout",
     "output_type": "stream",
     "text": [
      "<class 'tensorflow.python.framework.ops.EagerTensor'>\n",
      "make it here\n"
     ]
    },
    {
     "ename": "AttributeError",
     "evalue": "'tensorflow.python.framework.ops.EagerTensor' object has no attribute 'copy'",
     "output_type": "error",
     "traceback": [
      "\u001b[0;31m---------------------------------------------------------------------------\u001b[0m",
      "\u001b[0;31mAttributeError\u001b[0m                            Traceback (most recent call last)",
      "Cell \u001b[0;32mIn[36], line 1\u001b[0m\n\u001b[0;32m----> 1\u001b[0m x_train_list, y_train_list \u001b[39m=\u001b[39m spectrogram_augmentaion(x_train_list[:\u001b[39m1\u001b[39;49m], y_train_list[:\u001b[39m1\u001b[39;49m])\n",
      "Cell \u001b[0;32mIn[10], line 12\u001b[0m, in \u001b[0;36mspectrogram_augmentaion\u001b[0;34m(samples, labels)\u001b[0m\n\u001b[1;32m      9\u001b[0m \u001b[39mfor\u001b[39;00m spect, label \u001b[39min\u001b[39;00m \u001b[39mzip\u001b[39m(spectrogram, labels): \n\u001b[1;32m     10\u001b[0m     \u001b[39mprint\u001b[39m(\u001b[39mtype\u001b[39m(spect))\n\u001b[0;32m---> 12\u001b[0m     spect_augmented \u001b[39m=\u001b[39m spectrogram_frequency_mask(spect)\n\u001b[1;32m     13\u001b[0m     \u001b[39mprint\u001b[39m(\u001b[39mtype\u001b[39m(spect_augmented))\n\u001b[1;32m     15\u001b[0m     \u001b[39m#spect_augmented = tfio.audio.freq_mask(spect, param=10)\u001b[39;00m\n",
      "Cell \u001b[0;32mIn[32], line 6\u001b[0m, in \u001b[0;36mspectrogram_frequency_mask\u001b[0;34m(spectrogram)\u001b[0m\n\u001b[1;32m      2\u001b[0m \u001b[39mprint\u001b[39m(\u001b[39m'\u001b[39m\u001b[39mmake it here\u001b[39m\u001b[39m'\u001b[39m)\n\u001b[1;32m      3\u001b[0m augment \u001b[39m=\u001b[39m SpecCompose([\n\u001b[1;32m      4\u001b[0m     SpecFrequencyMask(p\u001b[39m=\u001b[39m\u001b[39m1\u001b[39m),\n\u001b[1;32m      5\u001b[0m ])\n\u001b[0;32m----> 6\u001b[0m augmented_spectrogram \u001b[39m=\u001b[39m augment(spectrogram)\n\u001b[1;32m      7\u001b[0m \u001b[39mprint\u001b[39m(\u001b[39m'\u001b[39m\u001b[39mnot here\u001b[39m\u001b[39m'\u001b[39m)\n\u001b[1;32m      9\u001b[0m \u001b[39mreturn\u001b[39;00m augmented_spectrogram\n",
      "File \u001b[0;32m~/miniconda3/envs/bach_thesis_4/lib/python3.9/site-packages/audiomentations/core/composition.py:108\u001b[0m, in \u001b[0;36mSpecCompose.__call__\u001b[0;34m(self, magnitude_spectrogram)\u001b[0m\n\u001b[1;32m    106\u001b[0m         random\u001b[39m.\u001b[39mshuffle(transforms)\n\u001b[1;32m    107\u001b[0m     \u001b[39mfor\u001b[39;00m transform \u001b[39min\u001b[39;00m transforms:\n\u001b[0;32m--> 108\u001b[0m         magnitude_spectrogram \u001b[39m=\u001b[39m transform(magnitude_spectrogram)\n\u001b[1;32m    110\u001b[0m \u001b[39mreturn\u001b[39;00m magnitude_spectrogram\n",
      "File \u001b[0;32m~/miniconda3/envs/bach_thesis_4/lib/python3.9/site-packages/audiomentations/core/transforms_interface.py:126\u001b[0m, in \u001b[0;36mBaseSpectrogramTransform.__call__\u001b[0;34m(self, magnitude_spectrogram)\u001b[0m\n\u001b[1;32m    119\u001b[0m     \u001b[39melif\u001b[39;00m \u001b[39mnot\u001b[39;00m \u001b[39mself\u001b[39m\u001b[39m.\u001b[39msupports_mono:\n\u001b[1;32m    120\u001b[0m         \u001b[39mraise\u001b[39;00m MonoAudioNotSupportedException(\n\u001b[1;32m    121\u001b[0m             \u001b[39m\"\u001b[39m\u001b[39m{}\u001b[39;00m\u001b[39m only supports multichannel audio, not mono audio\u001b[39m\u001b[39m\"\u001b[39m\u001b[39m.\u001b[39mformat(\n\u001b[1;32m    122\u001b[0m                 \u001b[39mself\u001b[39m\u001b[39m.\u001b[39m\u001b[39m__class__\u001b[39m\u001b[39m.\u001b[39m\u001b[39m__name__\u001b[39m\n\u001b[1;32m    123\u001b[0m             )\n\u001b[1;32m    124\u001b[0m         )\n\u001b[0;32m--> 126\u001b[0m     \u001b[39mreturn\u001b[39;00m \u001b[39mself\u001b[39;49m\u001b[39m.\u001b[39;49mapply(magnitude_spectrogram)\n\u001b[1;32m    127\u001b[0m \u001b[39mreturn\u001b[39;00m magnitude_spectrogram\n",
      "File \u001b[0;32m~/miniconda3/envs/bach_thesis_4/lib/python3.9/site-packages/audiomentations/spec_augmentations/spec_frequency_mask.py:66\u001b[0m, in \u001b[0;36mSpecFrequencyMask.apply\u001b[0;34m(self, magnitude_spectrogram)\u001b[0m\n\u001b[1;32m     63\u001b[0m \u001b[39melse\u001b[39;00m:\n\u001b[1;32m     64\u001b[0m     \u001b[39m# self.fill_mode == \"constant\"\u001b[39;00m\n\u001b[1;32m     65\u001b[0m     fill_value \u001b[39m=\u001b[39m \u001b[39mself\u001b[39m\u001b[39m.\u001b[39mfill_constant\n\u001b[0;32m---> 66\u001b[0m magnitude_spectrogram \u001b[39m=\u001b[39m magnitude_spectrogram\u001b[39m.\u001b[39;49mcopy()\n\u001b[1;32m     67\u001b[0m magnitude_spectrogram[\n\u001b[1;32m     68\u001b[0m \u001b[39mself\u001b[39m\u001b[39m.\u001b[39mparameters[\u001b[39m\"\u001b[39m\u001b[39mstart_frequency_index\u001b[39m\u001b[39m\"\u001b[39m] : \u001b[39mself\u001b[39m\u001b[39m.\u001b[39mparameters[\n\u001b[1;32m     69\u001b[0m     \u001b[39m\"\u001b[39m\u001b[39mend_frequency_index\u001b[39m\u001b[39m\"\u001b[39m\n\u001b[1;32m     70\u001b[0m ]\n\u001b[1;32m     71\u001b[0m ] \u001b[39m=\u001b[39m fill_value\n\u001b[1;32m     72\u001b[0m \u001b[39mreturn\u001b[39;00m magnitude_spectrogram\n",
      "File \u001b[0;32m~/miniconda3/envs/bach_thesis_4/lib/python3.9/site-packages/tensorflow/python/framework/ops.py:443\u001b[0m, in \u001b[0;36mTensor.__getattr__\u001b[0;34m(self, name)\u001b[0m\n\u001b[1;32m    434\u001b[0m \u001b[39mif\u001b[39;00m name \u001b[39min\u001b[39;00m {\u001b[39m\"\u001b[39m\u001b[39mT\u001b[39m\u001b[39m\"\u001b[39m, \u001b[39m\"\u001b[39m\u001b[39mastype\u001b[39m\u001b[39m\"\u001b[39m, \u001b[39m\"\u001b[39m\u001b[39mravel\u001b[39m\u001b[39m\"\u001b[39m, \u001b[39m\"\u001b[39m\u001b[39mtranspose\u001b[39m\u001b[39m\"\u001b[39m, \u001b[39m\"\u001b[39m\u001b[39mreshape\u001b[39m\u001b[39m\"\u001b[39m, \u001b[39m\"\u001b[39m\u001b[39mclip\u001b[39m\u001b[39m\"\u001b[39m, \u001b[39m\"\u001b[39m\u001b[39msize\u001b[39m\u001b[39m\"\u001b[39m,\n\u001b[1;32m    435\u001b[0m             \u001b[39m\"\u001b[39m\u001b[39mtolist\u001b[39m\u001b[39m\"\u001b[39m, \u001b[39m\"\u001b[39m\u001b[39mdata\u001b[39m\u001b[39m\"\u001b[39m}:\n\u001b[1;32m    436\u001b[0m   \u001b[39m# TODO(wangpeng): Export the enable_numpy_behavior knob\u001b[39;00m\n\u001b[1;32m    437\u001b[0m   \u001b[39mraise\u001b[39;00m \u001b[39mAttributeError\u001b[39;00m(\n\u001b[1;32m    438\u001b[0m       \u001b[39mf\u001b[39m\u001b[39m\"\u001b[39m\u001b[39m{\u001b[39;00m\u001b[39mtype\u001b[39m(\u001b[39mself\u001b[39m)\u001b[39m.\u001b[39m\u001b[39m__name__\u001b[39m\u001b[39m}\u001b[39;00m\u001b[39m object has no attribute \u001b[39m\u001b[39m'\u001b[39m\u001b[39m{\u001b[39;00mname\u001b[39m}\u001b[39;00m\u001b[39m'\u001b[39m\u001b[39m. \u001b[39m\u001b[39m\"\u001b[39m \u001b[39m+\u001b[39m \u001b[39m\"\"\"\u001b[39m\n\u001b[1;32m    439\u001b[0m \u001b[39m    If you are looking for numpy-related methods, please run the following:\u001b[39m\n\u001b[1;32m    440\u001b[0m \u001b[39m    from tensorflow.python.ops.numpy_ops import np_config\u001b[39m\n\u001b[1;32m    441\u001b[0m \u001b[39m    np_config.enable_numpy_behavior()\u001b[39m\n\u001b[1;32m    442\u001b[0m \u001b[39m  \u001b[39m\u001b[39m\"\"\"\u001b[39m)\n\u001b[0;32m--> 443\u001b[0m \u001b[39mself\u001b[39;49m\u001b[39m.\u001b[39;49m\u001b[39m__getattribute__\u001b[39;49m(name)\n",
      "\u001b[0;31mAttributeError\u001b[0m: 'tensorflow.python.framework.ops.EagerTensor' object has no attribute 'copy'"
     ]
    }
   ],
   "source": [
    "x_train_list, y_train_list = spectrogram_augmentaion(x_train_list[:1], y_train_list[:1])"
   ]
  },
  {
   "cell_type": "code",
   "execution_count": null,
   "metadata": {},
   "outputs": [],
   "source": [
    "x_train_list[0]"
   ]
  },
  {
   "cell_type": "code",
   "execution_count": null,
   "metadata": {},
   "outputs": [],
   "source": [
    "x_train_list[1]"
   ]
  }
 ],
 "metadata": {
  "kernelspec": {
   "display_name": "bach_thesis_4",
   "language": "python",
   "name": "python3"
  },
  "language_info": {
   "codemirror_mode": {
    "name": "ipython",
    "version": 3
   },
   "file_extension": ".py",
   "mimetype": "text/x-python",
   "name": "python",
   "nbconvert_exporter": "python",
   "pygments_lexer": "ipython3",
   "version": "3.9.16"
  },
  "orig_nbformat": 4
 },
 "nbformat": 4,
 "nbformat_minor": 2
}
