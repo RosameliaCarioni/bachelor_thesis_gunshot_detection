{
 "cells": [
  {
   "cell_type": "code",
   "execution_count": 1,
   "metadata": {},
   "outputs": [
    {
     "name": "stderr",
     "output_type": "stream",
     "text": [
      "/Users/rosameliacarioni/miniconda3/envs/bach_thesis_4/lib/python3.9/site-packages/tensorflow_io-0.32.0-py3.9-macosx-11.0-arm64.egg/tensorflow_io/python/ops/__init__.py:98: UserWarning: unable to load libtensorflow_io_plugins.so: unable to open file: libtensorflow_io_plugins.so, from paths: ['/Users/rosameliacarioni/miniconda3/envs/bach_thesis_4/lib/python3.9/site-packages/tensorflow_io-0.32.0-py3.9-macosx-11.0-arm64.egg/tensorflow_io/python/ops/libtensorflow_io_plugins.so']\n",
      "caused by: [\"[Errno 2] The file to load file system plugin from does not exist.: '/Users/rosameliacarioni/miniconda3/envs/bach_thesis_4/lib/python3.9/site-packages/tensorflow_io-0.32.0-py3.9-macosx-11.0-arm64.egg/tensorflow_io/python/ops/libtensorflow_io_plugins.so'\"]\n",
      "  warnings.warn(f\"unable to load libtensorflow_io_plugins.so: {e}\")\n",
      "/Users/rosameliacarioni/miniconda3/envs/bach_thesis_4/lib/python3.9/site-packages/tensorflow_io-0.32.0-py3.9-macosx-11.0-arm64.egg/tensorflow_io/python/ops/__init__.py:104: UserWarning: file system plugins are not loaded: unable to open file: libtensorflow_io.so, from paths: ['/Users/rosameliacarioni/miniconda3/envs/bach_thesis_4/lib/python3.9/site-packages/tensorflow_io-0.32.0-py3.9-macosx-11.0-arm64.egg/tensorflow_io/python/ops/libtensorflow_io.so']\n",
      "caused by: [\"dlopen(/Users/rosameliacarioni/miniconda3/envs/bach_thesis_4/lib/python3.9/site-packages/tensorflow_io-0.32.0-py3.9-macosx-11.0-arm64.egg/tensorflow_io/python/ops/libtensorflow_io.so, 0x0006): tried: '/Users/rosameliacarioni/miniconda3/envs/bach_thesis_4/lib/python3.9/site-packages/tensorflow_io-0.32.0-py3.9-macosx-11.0-arm64.egg/tensorflow_io/python/ops/libtensorflow_io.so' (no such file)\"]\n",
      "  warnings.warn(f\"file system plugins are not loaded: {e}\")\n"
     ]
    }
   ],
   "source": [
    "import tensorflow as tf\n",
    "import matplotlib.pyplot as plt\n",
    "import os \n",
    "import numpy as np\n",
    "from tensorflow import keras\n",
    "import seaborn as sns\n",
    "from sklearn.model_selection import StratifiedKFold\n",
    "from sklearn.model_selection import train_test_split\n",
    "from methods_audio import data_handling\n",
    "from methods_audio import data_augmentation\n",
    "from methods_audio import denoising \n",
    "from methods_audio import model_performance_training\n",
    "from models import get_model\n"
   ]
  },
  {
   "attachments": {},
   "cell_type": "markdown",
   "metadata": {},
   "source": [
    "# 1. Get data (file names)"
   ]
  },
  {
   "cell_type": "code",
   "execution_count": 2,
   "metadata": {},
   "outputs": [
    {
     "name": "stdout",
     "output_type": "stream",
     "text": [
      "Metal device set to: Apple M1 Pro\n",
      "\n",
      "systemMemory: 16.00 GB\n",
      "maxCacheSize: 5.33 GB\n",
      "\n"
     ]
    }
   ],
   "source": [
    "data = data_handling.get_data()"
   ]
  },
  {
   "attachments": {},
   "cell_type": "markdown",
   "metadata": {},
   "source": [
    "# 2. Read data (transforming file names into waves) <br>\n",
    "Additionally, the mean is removed and the data is normalized. "
   ]
  },
  {
   "cell_type": "code",
   "execution_count": 3,
   "metadata": {},
   "outputs": [],
   "source": [
    "data = data.map(data_handling.read_in_data) "
   ]
  },
  {
   "attachments": {},
   "cell_type": "markdown",
   "metadata": {},
   "source": [
    "# 3. Get input for model training "
   ]
  },
  {
   "cell_type": "code",
   "execution_count": 4,
   "metadata": {},
   "outputs": [
    {
     "name": "stderr",
     "output_type": "stream",
     "text": [
      "2023-05-23 23:13:14.700374: W tensorflow/tsl/platform/profile_utils/cpu_utils.cc:128] Failed to get CPU frequency: 0 Hz\n"
     ]
    }
   ],
   "source": [
    "samples, labels = data_handling.extract_samples_labels(data)"
   ]
  },
  {
   "attachments": {},
   "cell_type": "markdown",
   "metadata": {},
   "source": [
    "# Set arguments from baseline: "
   ]
  },
  {
   "attachments": {},
   "cell_type": "markdown",
   "metadata": {},
   "source": [
    "### 4. Transform data into different representations\n",
    "### 5. Set batch size \n",
    "### 6. Choose model\n",
    "### 7. Select type of augmentation "
   ]
  },
  {
   "cell_type": "code",
   "execution_count": 5,
   "metadata": {},
   "outputs": [],
   "source": [
    "# Define type of transformation to do. Options = spectrogram, mel_spectrogram, db_mel_spectrogram, mfcc, mfcc_delta\n",
    "type_transformation = 'spectrogram'\n",
    "\n",
    "batch_size = 8 \n",
    "epoch = 30\n",
    "\n",
    "number_model = 1\n",
    "\n",
    "# Define type of augmentation to do. Options: signal, or none\n",
    "type_augmentation = 'none' # or signal"
   ]
  },
  {
   "attachments": {},
   "cell_type": "markdown",
   "metadata": {},
   "source": [
    "# 8. Denoising (on train and validation set)"
   ]
  },
  {
   "cell_type": "code",
   "execution_count": 6,
   "metadata": {},
   "outputs": [],
   "source": [
    "# Define type of denoising to do. Options: spectral_gating, low_pass, none \n",
    "type_denoising= 'low_pass'\n",
    "differentiation = False \n",
    "\n",
    "# For low pass filter: not used\n",
    "low_pass_order = 4 \n",
    "low_pass_cutoff = 2500 # this value will be used for experimentation, ranging from 500-2500. "
   ]
  },
  {
   "attachments": {},
   "cell_type": "markdown",
   "metadata": {},
   "source": [
    "# 9. Evaluate performance of the model by training it with K-Fold Validation"
   ]
  },
  {
   "cell_type": "code",
   "execution_count": 7,
   "metadata": {},
   "outputs": [
    {
     "name": "stderr",
     "output_type": "stream",
     "text": [
      "/Users/rosameliacarioni/University/Thesis/code/methods_audio/model_performance_training.py:78: VisibleDeprecationWarning: Creating an ndarray from ragged nested sequences (which is a list-or-tuple of lists-or-tuples-or ndarrays with different lengths or shapes) is deprecated. If you meant to do this, you must specify 'dtype=object' when creating the ndarray.\n",
      "  x_train = np.array(x)[train.astype(int)]\n",
      "/Users/rosameliacarioni/University/Thesis/code/methods_audio/model_performance_training.py:80: VisibleDeprecationWarning: Creating an ndarray from ragged nested sequences (which is a list-or-tuple of lists-or-tuples-or ndarrays with different lengths or shapes) is deprecated. If you meant to do this, you must specify 'dtype=object' when creating the ndarray.\n",
      "  x_valid = np.array(x)[test.astype(int)]\n",
      "WARNING:absl:At this time, the v2.11+ optimizer `tf.keras.optimizers.SGD` runs slowly on M1/M2 Macs, please use the legacy Keras optimizer instead, located at `tf.keras.optimizers.legacy.SGD`.\n",
      "WARNING:absl:There is a known slowdown when using v2.11+ Keras optimizers on M1/M2 Macs. Falling back to the legacy Keras optimizer, i.e., `tf.keras.optimizers.legacy.SGD`.\n"
     ]
    },
    {
     "name": "stdout",
     "output_type": "stream",
     "text": [
      "Epoch 1/30\n",
      "356/356 [==============================] - 26s 71ms/step - loss: 0.6881 - accuracy: 0.5266 - recall: 0.5155 - precision: 0.5252 - val_loss: 0.6426 - val_accuracy: 0.6582 - val_recall: 0.9070 - val_precision: 0.6053\n",
      "Epoch 2/30\n",
      "356/356 [==============================] - 25s 69ms/step - loss: 0.5210 - accuracy: 0.7503 - recall: 0.8136 - precision: 0.7209 - val_loss: 0.4280 - val_accuracy: 0.8270 - val_recall: 0.8423 - val_precision: 0.8169\n",
      "Epoch 3/30\n",
      "356/356 [==============================] - 25s 69ms/step - loss: 0.3870 - accuracy: 0.8396 - recall: 0.8383 - precision: 0.8395 - val_loss: 0.4022 - val_accuracy: 0.8467 - val_recall: 0.7746 - val_precision: 0.9046\n",
      "Epoch 4/30\n",
      "356/356 [==============================] - 25s 70ms/step - loss: 0.3524 - accuracy: 0.8579 - recall: 0.8503 - precision: 0.8625 - val_loss: 0.4043 - val_accuracy: 0.8467 - val_recall: 0.7549 - val_precision: 0.9241\n",
      "Epoch 5/30\n",
      "356/356 [==============================] - 25s 69ms/step - loss: 0.3371 - accuracy: 0.8684 - recall: 0.8630 - precision: 0.8716 - val_loss: 0.3641 - val_accuracy: 0.8495 - val_recall: 0.8620 - val_precision: 0.8407\n",
      "Epoch 6/30\n",
      "356/356 [==============================] - 25s 70ms/step - loss: 0.3189 - accuracy: 0.8762 - recall: 0.8736 - precision: 0.8773 - val_loss: 0.3500 - val_accuracy: 0.8608 - val_recall: 0.8056 - val_precision: 0.9051\n",
      "Epoch 7/30\n",
      "356/356 [==============================] - 25s 70ms/step - loss: 0.3047 - accuracy: 0.8769 - recall: 0.8686 - precision: 0.8824 - val_loss: 0.3382 - val_accuracy: 0.8664 - val_recall: 0.8394 - val_precision: 0.8869\n",
      "Epoch 8/30\n",
      "356/356 [==============================] - 25s 69ms/step - loss: 0.2867 - accuracy: 0.8860 - recall: 0.8785 - precision: 0.8911 - val_loss: 0.3114 - val_accuracy: 0.8762 - val_recall: 0.8507 - val_precision: 0.8961\n",
      "Epoch 9/30\n",
      "356/356 [==============================] - 25s 69ms/step - loss: 0.2675 - accuracy: 0.8910 - recall: 0.8842 - precision: 0.8956 - val_loss: 0.2930 - val_accuracy: 0.8776 - val_recall: 0.8620 - val_precision: 0.8895\n",
      "Epoch 10/30\n",
      "356/356 [==============================] - 25s 69ms/step - loss: 0.2469 - accuracy: 0.8987 - recall: 0.8905 - precision: 0.9046 - val_loss: 0.2745 - val_accuracy: 0.8847 - val_recall: 0.8789 - val_precision: 0.8889\n",
      "Epoch 11/30\n",
      "356/356 [==============================] - 25s 69ms/step - loss: 0.2261 - accuracy: 0.9121 - recall: 0.9068 - precision: 0.9158 - val_loss: 0.3317 - val_accuracy: 0.8706 - val_recall: 0.7662 - val_precision: 0.9680\n",
      "Epoch 12/30\n",
      "356/356 [==============================] - 25s 69ms/step - loss: 0.2135 - accuracy: 0.9159 - recall: 0.9075 - precision: 0.9225 - val_loss: 0.2442 - val_accuracy: 0.8931 - val_recall: 0.8704 - val_precision: 0.9115\n",
      "Epoch 13/30\n",
      "356/356 [==============================] - 25s 69ms/step - loss: 0.1968 - accuracy: 0.9177 - recall: 0.9047 - precision: 0.9283 - val_loss: 0.2642 - val_accuracy: 0.8959 - val_recall: 0.8254 - val_precision: 0.9607\n",
      "Epoch 14/30\n",
      "356/356 [==============================] - 25s 69ms/step - loss: 0.1796 - accuracy: 0.9247 - recall: 0.9202 - precision: 0.9281 - val_loss: 0.2611 - val_accuracy: 0.8903 - val_recall: 0.8761 - val_precision: 0.9014\n",
      "Epoch 15/30\n",
      "356/356 [==============================] - 25s 69ms/step - loss: 0.1680 - accuracy: 0.9311 - recall: 0.9223 - precision: 0.9382 - val_loss: 0.3300 - val_accuracy: 0.8692 - val_recall: 0.9521 - val_precision: 0.8164\n",
      "Epoch 16/30\n",
      "356/356 [==============================] - 25s 69ms/step - loss: 0.1633 - accuracy: 0.9346 - recall: 0.9280 - precision: 0.9399 - val_loss: 0.2147 - val_accuracy: 0.9058 - val_recall: 0.9324 - val_precision: 0.8850\n",
      "Epoch 17/30\n",
      "356/356 [==============================] - 25s 69ms/step - loss: 0.1490 - accuracy: 0.9420 - recall: 0.9322 - precision: 0.9503 - val_loss: 0.1897 - val_accuracy: 0.9255 - val_recall: 0.9352 - val_precision: 0.9171\n",
      "Epoch 18/30\n",
      "356/356 [==============================] - 25s 70ms/step - loss: 0.1359 - accuracy: 0.9472 - recall: 0.9407 - precision: 0.9528 - val_loss: 0.2049 - val_accuracy: 0.9100 - val_recall: 0.9155 - val_precision: 0.9053\n",
      "Epoch 19/30\n",
      "356/356 [==============================] - 25s 69ms/step - loss: 0.1267 - accuracy: 0.9518 - recall: 0.9456 - precision: 0.9571 - val_loss: 0.2053 - val_accuracy: 0.9156 - val_recall: 0.8845 - val_precision: 0.9429\n",
      "Epoch 20/30\n",
      "356/356 [==============================] - 25s 69ms/step - loss: 0.1239 - accuracy: 0.9518 - recall: 0.9414 - precision: 0.9611 - val_loss: 0.2227 - val_accuracy: 0.9142 - val_recall: 0.8845 - val_precision: 0.9401\n",
      "Epoch 21/30\n",
      "356/356 [==============================] - 25s 69ms/step - loss: 0.1147 - accuracy: 0.9553 - recall: 0.9499 - precision: 0.9600 - val_loss: 0.2092 - val_accuracy: 0.9198 - val_recall: 0.9662 - val_precision: 0.8840\n",
      "Epoch 22/30\n",
      "356/356 [==============================] - 25s 69ms/step - loss: 0.1064 - accuracy: 0.9588 - recall: 0.9541 - precision: 0.9629 - val_loss: 0.1867 - val_accuracy: 0.9212 - val_recall: 0.9549 - val_precision: 0.8945\n",
      "Epoch 23/30\n",
      "356/356 [==============================] - 25s 69ms/step - loss: 0.0896 - accuracy: 0.9676 - recall: 0.9612 - precision: 0.9735 - val_loss: 0.1824 - val_accuracy: 0.9311 - val_recall: 0.9437 - val_precision: 0.9203\n",
      "Epoch 24/30\n",
      "356/356 [==============================] - 25s 69ms/step - loss: 0.0896 - accuracy: 0.9666 - recall: 0.9597 - precision: 0.9728 - val_loss: 0.1889 - val_accuracy: 0.9283 - val_recall: 0.9549 - val_precision: 0.9064\n",
      "Epoch 25/30\n",
      "356/356 [==============================] - 25s 69ms/step - loss: 0.0843 - accuracy: 0.9708 - recall: 0.9675 - precision: 0.9737 - val_loss: 0.1702 - val_accuracy: 0.9297 - val_recall: 0.9437 - val_precision: 0.9178\n",
      "Epoch 26/30\n",
      "356/356 [==============================] - 25s 69ms/step - loss: 0.0795 - accuracy: 0.9729 - recall: 0.9668 - precision: 0.9786 - val_loss: 0.1679 - val_accuracy: 0.9297 - val_recall: 0.9042 - val_precision: 0.9525\n",
      "Epoch 27/30\n",
      "356/356 [==============================] - 25s 69ms/step - loss: 0.0751 - accuracy: 0.9719 - recall: 0.9661 - precision: 0.9771 - val_loss: 0.1562 - val_accuracy: 0.9339 - val_recall: 0.9493 - val_precision: 0.9208\n",
      "Epoch 28/30\n",
      "356/356 [==============================] - 25s 69ms/step - loss: 0.0636 - accuracy: 0.9736 - recall: 0.9689 - precision: 0.9779 - val_loss: 0.1883 - val_accuracy: 0.9311 - val_recall: 0.9183 - val_precision: 0.9422\n",
      "Epoch 29/30\n",
      "356/356 [==============================] - 25s 69ms/step - loss: 0.0689 - accuracy: 0.9729 - recall: 0.9703 - precision: 0.9752 - val_loss: 0.3219 - val_accuracy: 0.8903 - val_recall: 0.9831 - val_precision: 0.8290\n",
      "Epoch 30/30\n",
      "356/356 [==============================] - 25s 70ms/step - loss: 0.0572 - accuracy: 0.9824 - recall: 0.9802 - precision: 0.9844 - val_loss: 0.2299 - val_accuracy: 0.9184 - val_recall: 0.8535 - val_precision: 0.9806\n",
      "accuracy: 91.84%\n",
      "23/23 [==============================] - 1s 51ms/step\n"
     ]
    },
    {
     "name": "stderr",
     "output_type": "stream",
     "text": [
      "WARNING:absl:At this time, the v2.11+ optimizer `tf.keras.optimizers.SGD` runs slowly on M1/M2 Macs, please use the legacy Keras optimizer instead, located at `tf.keras.optimizers.legacy.SGD`.\n",
      "WARNING:absl:There is a known slowdown when using v2.11+ Keras optimizers on M1/M2 Macs. Falling back to the legacy Keras optimizer, i.e., `tf.keras.optimizers.legacy.SGD`.\n"
     ]
    },
    {
     "name": "stdout",
     "output_type": "stream",
     "text": [
      "Epoch 1/30\n",
      "356/356 [==============================] - 26s 71ms/step - loss: 0.6962 - accuracy: 0.5030 - recall: 0.5152 - precision: 0.5014 - val_loss: 0.6846 - val_accuracy: 0.6104 - val_recall: 0.9859 - val_precision: 0.5620\n",
      "Epoch 2/30\n",
      "356/356 [==============================] - 25s 69ms/step - loss: 0.6345 - accuracy: 0.6282 - recall: 0.6598 - precision: 0.6192 - val_loss: 0.5231 - val_accuracy: 0.7215 - val_recall: 0.8927 - val_precision: 0.6639\n",
      "Epoch 3/30\n",
      "356/356 [==============================] - 25s 69ms/step - loss: 0.4433 - accuracy: 0.8020 - recall: 0.8193 - precision: 0.7909 - val_loss: 0.4776 - val_accuracy: 0.8059 - val_recall: 0.6497 - val_precision: 0.9426\n",
      "Epoch 4/30\n",
      "356/356 [==============================] - 25s 69ms/step - loss: 0.3775 - accuracy: 0.8495 - recall: 0.8377 - precision: 0.8570 - val_loss: 0.3419 - val_accuracy: 0.8622 - val_recall: 0.8559 - val_precision: 0.8657\n",
      "Epoch 5/30\n",
      "356/356 [==============================] - 25s 70ms/step - loss: 0.3558 - accuracy: 0.8639 - recall: 0.8454 - precision: 0.8770 - val_loss: 0.3386 - val_accuracy: 0.8579 - val_recall: 0.9011 - val_precision: 0.8286\n",
      "Epoch 6/30\n",
      "356/356 [==============================] - 25s 69ms/step - loss: 0.3427 - accuracy: 0.8632 - recall: 0.8532 - precision: 0.8698 - val_loss: 0.3289 - val_accuracy: 0.8706 - val_recall: 0.7910 - val_precision: 0.9396\n",
      "Epoch 7/30\n",
      "356/356 [==============================] - 25s 69ms/step - loss: 0.3233 - accuracy: 0.8663 - recall: 0.8617 - precision: 0.8690 - val_loss: 0.3759 - val_accuracy: 0.8425 - val_recall: 0.7260 - val_precision: 0.9449\n",
      "Epoch 8/30\n",
      "356/356 [==============================] - 25s 69ms/step - loss: 0.3017 - accuracy: 0.8751 - recall: 0.8638 - precision: 0.8831 - val_loss: 0.3023 - val_accuracy: 0.8762 - val_recall: 0.8333 - val_precision: 0.9105\n",
      "Epoch 9/30\n",
      "356/356 [==============================] - 25s 69ms/step - loss: 0.2806 - accuracy: 0.8797 - recall: 0.8638 - precision: 0.8915 - val_loss: 0.2875 - val_accuracy: 0.8805 - val_recall: 0.9068 - val_precision: 0.8606\n",
      "Epoch 10/30\n",
      "356/356 [==============================] - 25s 69ms/step - loss: 0.2620 - accuracy: 0.8938 - recall: 0.8800 - precision: 0.9043 - val_loss: 0.3311 - val_accuracy: 0.8565 - val_recall: 0.9435 - val_precision: 0.8029\n",
      "Epoch 11/30\n",
      "356/356 [==============================] - 25s 69ms/step - loss: 0.2350 - accuracy: 0.9033 - recall: 0.8836 - precision: 0.9192 - val_loss: 0.2635 - val_accuracy: 0.9058 - val_recall: 0.9209 - val_precision: 0.8932\n",
      "Epoch 12/30\n",
      "356/356 [==============================] - 25s 69ms/step - loss: 0.2246 - accuracy: 0.9107 - recall: 0.8941 - precision: 0.9241 - val_loss: 0.3446 - val_accuracy: 0.8537 - val_recall: 0.7401 - val_precision: 0.9562\n",
      "Epoch 13/30\n",
      "356/356 [==============================] - 25s 69ms/step - loss: 0.2107 - accuracy: 0.9110 - recall: 0.8956 - precision: 0.9236 - val_loss: 0.3405 - val_accuracy: 0.8650 - val_recall: 0.9463 - val_precision: 0.8131\n",
      "Epoch 14/30\n",
      "356/356 [==============================] - 25s 69ms/step - loss: 0.1948 - accuracy: 0.9216 - recall: 0.9068 - precision: 0.9339 - val_loss: 0.2271 - val_accuracy: 0.9156 - val_recall: 0.8927 - val_precision: 0.9349\n",
      "Epoch 15/30\n",
      "356/356 [==============================] - 25s 69ms/step - loss: 0.1835 - accuracy: 0.9286 - recall: 0.9210 - precision: 0.9348 - val_loss: 0.2507 - val_accuracy: 0.9058 - val_recall: 0.8475 - val_precision: 0.9585\n",
      "Epoch 16/30\n",
      "356/356 [==============================] - 25s 69ms/step - loss: 0.1729 - accuracy: 0.9300 - recall: 0.9153 - precision: 0.9426 - val_loss: 0.2220 - val_accuracy: 0.9269 - val_recall: 0.9153 - val_precision: 0.9364\n",
      "Epoch 17/30\n",
      "356/356 [==============================] - 25s 69ms/step - loss: 0.1629 - accuracy: 0.9339 - recall: 0.9245 - precision: 0.9418 - val_loss: 0.2223 - val_accuracy: 0.9255 - val_recall: 0.9011 - val_precision: 0.9466\n",
      "Epoch 18/30\n",
      "356/356 [==============================] - 25s 69ms/step - loss: 0.1563 - accuracy: 0.9363 - recall: 0.9238 - precision: 0.9472 - val_loss: 0.2301 - val_accuracy: 0.9142 - val_recall: 0.9209 - val_precision: 0.9081\n",
      "Epoch 19/30\n",
      "356/356 [==============================] - 25s 69ms/step - loss: 0.1424 - accuracy: 0.9434 - recall: 0.9358 - precision: 0.9499 - val_loss: 0.2179 - val_accuracy: 0.9255 - val_recall: 0.9096 - val_precision: 0.9388\n",
      "Epoch 20/30\n",
      "356/356 [==============================] - 25s 69ms/step - loss: 0.1265 - accuracy: 0.9497 - recall: 0.9400 - precision: 0.9583 - val_loss: 0.2594 - val_accuracy: 0.8959 - val_recall: 0.8249 - val_precision: 0.9605\n",
      "Epoch 21/30\n",
      "356/356 [==============================] - 25s 69ms/step - loss: 0.1250 - accuracy: 0.9511 - recall: 0.9414 - precision: 0.9597 - val_loss: 0.2163 - val_accuracy: 0.9297 - val_recall: 0.9068 - val_precision: 0.9497\n",
      "Epoch 22/30\n",
      "356/356 [==============================] - 25s 69ms/step - loss: 0.1189 - accuracy: 0.9546 - recall: 0.9471 - precision: 0.9613 - val_loss: 0.2269 - val_accuracy: 0.9212 - val_recall: 0.8785 - val_precision: 0.9599\n",
      "Epoch 23/30\n",
      "356/356 [==============================] - 25s 69ms/step - loss: 0.1082 - accuracy: 0.9613 - recall: 0.9584 - precision: 0.9638 - val_loss: 0.3389 - val_accuracy: 0.8903 - val_recall: 0.9435 - val_precision: 0.8520\n",
      "Epoch 24/30\n",
      "356/356 [==============================] - 25s 69ms/step - loss: 0.1074 - accuracy: 0.9592 - recall: 0.9513 - precision: 0.9663 - val_loss: 0.2118 - val_accuracy: 0.9381 - val_recall: 0.9181 - val_precision: 0.9559\n",
      "Epoch 25/30\n",
      "356/356 [==============================] - 25s 69ms/step - loss: 0.0914 - accuracy: 0.9655 - recall: 0.9591 - precision: 0.9714 - val_loss: 0.2198 - val_accuracy: 0.9325 - val_recall: 0.8955 - val_precision: 0.9665\n",
      "Epoch 26/30\n",
      "356/356 [==============================] - 25s 69ms/step - loss: 0.0874 - accuracy: 0.9655 - recall: 0.9605 - precision: 0.9701 - val_loss: 0.2386 - val_accuracy: 0.9198 - val_recall: 0.8672 - val_precision: 0.9685\n",
      "Epoch 27/30\n",
      "356/356 [==============================] - 25s 69ms/step - loss: 0.0809 - accuracy: 0.9705 - recall: 0.9661 - precision: 0.9744 - val_loss: 0.2390 - val_accuracy: 0.9297 - val_recall: 0.8955 - val_precision: 0.9606\n",
      "Epoch 28/30\n",
      "356/356 [==============================] - 25s 69ms/step - loss: 0.0755 - accuracy: 0.9722 - recall: 0.9682 - precision: 0.9758 - val_loss: 0.3806 - val_accuracy: 0.8790 - val_recall: 0.7712 - val_precision: 0.9820\n",
      "Epoch 29/30\n",
      "356/356 [==============================] - 25s 69ms/step - loss: 0.0800 - accuracy: 0.9698 - recall: 0.9647 - precision: 0.9743 - val_loss: 0.2989 - val_accuracy: 0.9170 - val_recall: 0.9633 - val_precision: 0.8811\n",
      "Epoch 30/30\n",
      "356/356 [==============================] - 25s 69ms/step - loss: 0.0683 - accuracy: 0.9722 - recall: 0.9661 - precision: 0.9779 - val_loss: 0.2186 - val_accuracy: 0.9395 - val_recall: 0.9294 - val_precision: 0.9481\n",
      "accuracy: 93.95%\n",
      "23/23 [==============================] - 1s 40ms/step\n"
     ]
    },
    {
     "name": "stderr",
     "output_type": "stream",
     "text": [
      "WARNING:absl:At this time, the v2.11+ optimizer `tf.keras.optimizers.SGD` runs slowly on M1/M2 Macs, please use the legacy Keras optimizer instead, located at `tf.keras.optimizers.legacy.SGD`.\n",
      "WARNING:absl:There is a known slowdown when using v2.11+ Keras optimizers on M1/M2 Macs. Falling back to the legacy Keras optimizer, i.e., `tf.keras.optimizers.legacy.SGD`.\n"
     ]
    },
    {
     "name": "stdout",
     "output_type": "stream",
     "text": [
      "Epoch 1/30\n",
      "356/356 [==============================] - 26s 71ms/step - loss: 0.6935 - accuracy: 0.5259 - recall: 0.5116 - precision: 0.5250 - val_loss: 0.6783 - val_accuracy: 0.7075 - val_recall: 0.8136 - val_precision: 0.6698\n",
      "Epoch 2/30\n",
      "356/356 [==============================] - 25s 70ms/step - loss: 0.6193 - accuracy: 0.6532 - recall: 0.7128 - precision: 0.6356 - val_loss: 0.4930 - val_accuracy: 0.8045 - val_recall: 0.7627 - val_precision: 0.8308\n",
      "Epoch 3/30\n",
      "356/356 [==============================] - 25s 70ms/step - loss: 0.4277 - accuracy: 0.8178 - recall: 0.8207 - precision: 0.8150 - val_loss: 0.3892 - val_accuracy: 0.8439 - val_recall: 0.7881 - val_precision: 0.8857\n",
      "Epoch 4/30\n",
      "356/356 [==============================] - 25s 69ms/step - loss: 0.3699 - accuracy: 0.8519 - recall: 0.8440 - precision: 0.8567 - val_loss: 0.3728 - val_accuracy: 0.8453 - val_recall: 0.7994 - val_precision: 0.8789\n",
      "Epoch 5/30\n",
      "356/356 [==============================] - 25s 69ms/step - loss: 0.3462 - accuracy: 0.8621 - recall: 0.8518 - precision: 0.8690 - val_loss: 0.3683 - val_accuracy: 0.8594 - val_recall: 0.8079 - val_precision: 0.8994\n",
      "Epoch 6/30\n",
      "356/356 [==============================] - 25s 69ms/step - loss: 0.3329 - accuracy: 0.8699 - recall: 0.8560 - precision: 0.8796 - val_loss: 0.3892 - val_accuracy: 0.8368 - val_recall: 0.8955 - val_precision: 0.8005\n",
      "Epoch 7/30\n",
      "356/356 [==============================] - 25s 69ms/step - loss: 0.3182 - accuracy: 0.8790 - recall: 0.8652 - precision: 0.8891 - val_loss: 0.3358 - val_accuracy: 0.8664 - val_recall: 0.8588 - val_precision: 0.8711\n",
      "Epoch 8/30\n",
      "356/356 [==============================] - 25s 69ms/step - loss: 0.2987 - accuracy: 0.8779 - recall: 0.8680 - precision: 0.8849 - val_loss: 0.3480 - val_accuracy: 0.8565 - val_recall: 0.8983 - val_precision: 0.8281\n",
      "Epoch 9/30\n",
      "356/356 [==============================] - 25s 69ms/step - loss: 0.2869 - accuracy: 0.8811 - recall: 0.8687 - precision: 0.8901 - val_loss: 0.3031 - val_accuracy: 0.8706 - val_recall: 0.8362 - val_precision: 0.8970\n",
      "Epoch 10/30\n",
      "356/356 [==============================] - 25s 69ms/step - loss: 0.2646 - accuracy: 0.8899 - recall: 0.8850 - precision: 0.8932 - val_loss: 0.2805 - val_accuracy: 0.8748 - val_recall: 0.8588 - val_precision: 0.8863\n",
      "Epoch 11/30\n",
      "356/356 [==============================] - 25s 70ms/step - loss: 0.2507 - accuracy: 0.8948 - recall: 0.8984 - precision: 0.8915 - val_loss: 0.3026 - val_accuracy: 0.8776 - val_recall: 0.8023 - val_precision: 0.9435\n",
      "Epoch 12/30\n",
      "356/356 [==============================] - 25s 69ms/step - loss: 0.2320 - accuracy: 0.9043 - recall: 0.8970 - precision: 0.9098 - val_loss: 0.2432 - val_accuracy: 0.8931 - val_recall: 0.8785 - val_precision: 0.9041\n",
      "Epoch 13/30\n",
      "356/356 [==============================] - 25s 69ms/step - loss: 0.2193 - accuracy: 0.9075 - recall: 0.8934 - precision: 0.9187 - val_loss: 0.2467 - val_accuracy: 0.9015 - val_recall: 0.9011 - val_precision: 0.9011\n",
      "Epoch 14/30\n",
      "356/356 [==============================] - 25s 70ms/step - loss: 0.2056 - accuracy: 0.9163 - recall: 0.9083 - precision: 0.9226 - val_loss: 0.2305 - val_accuracy: 0.9072 - val_recall: 0.9181 - val_precision: 0.8978\n",
      "Epoch 15/30\n",
      "356/356 [==============================] - 25s 69ms/step - loss: 0.1967 - accuracy: 0.9230 - recall: 0.9118 - precision: 0.9322 - val_loss: 0.2422 - val_accuracy: 0.9086 - val_recall: 0.9463 - val_precision: 0.8793\n",
      "Epoch 16/30\n",
      "356/356 [==============================] - 25s 70ms/step - loss: 0.1833 - accuracy: 0.9268 - recall: 0.9118 - precision: 0.9396 - val_loss: 0.2229 - val_accuracy: 0.9114 - val_recall: 0.8729 - val_precision: 0.9450\n",
      "Epoch 17/30\n",
      "356/356 [==============================] - 25s 69ms/step - loss: 0.1762 - accuracy: 0.9258 - recall: 0.9167 - precision: 0.9332 - val_loss: 0.2483 - val_accuracy: 0.8931 - val_recall: 0.9379 - val_precision: 0.8601\n",
      "Epoch 18/30\n",
      "356/356 [==============================] - 25s 69ms/step - loss: 0.1619 - accuracy: 0.9356 - recall: 0.9273 - precision: 0.9426 - val_loss: 0.2106 - val_accuracy: 0.9269 - val_recall: 0.9350 - val_precision: 0.9194\n",
      "Epoch 19/30\n",
      "356/356 [==============================] - 25s 69ms/step - loss: 0.1549 - accuracy: 0.9381 - recall: 0.9294 - precision: 0.9454 - val_loss: 0.2005 - val_accuracy: 0.9241 - val_recall: 0.9040 - val_precision: 0.9412\n",
      "Epoch 20/30\n",
      "356/356 [==============================] - 25s 69ms/step - loss: 0.1487 - accuracy: 0.9384 - recall: 0.9266 - precision: 0.9487 - val_loss: 0.1925 - val_accuracy: 0.9297 - val_recall: 0.9209 - val_precision: 0.9368\n",
      "Epoch 21/30\n",
      "356/356 [==============================] - 25s 70ms/step - loss: 0.1375 - accuracy: 0.9479 - recall: 0.9407 - precision: 0.9542 - val_loss: 0.1766 - val_accuracy: 0.9311 - val_recall: 0.9181 - val_precision: 0.9420\n",
      "Epoch 22/30\n",
      "356/356 [==============================] - 25s 69ms/step - loss: 0.1331 - accuracy: 0.9427 - recall: 0.9351 - precision: 0.9491 - val_loss: 0.1800 - val_accuracy: 0.9367 - val_recall: 0.9237 - val_precision: 0.9478\n",
      "Epoch 23/30\n",
      "356/356 [==============================] - 25s 70ms/step - loss: 0.1229 - accuracy: 0.9532 - recall: 0.9428 - precision: 0.9625 - val_loss: 0.1970 - val_accuracy: 0.9212 - val_recall: 0.9548 - val_precision: 0.8942\n",
      "Epoch 24/30\n",
      "356/356 [==============================] - 25s 69ms/step - loss: 0.1200 - accuracy: 0.9532 - recall: 0.9421 - precision: 0.9632 - val_loss: 0.1800 - val_accuracy: 0.9353 - val_recall: 0.8983 - val_precision: 0.9695\n",
      "Epoch 25/30\n",
      "356/356 [==============================] - 25s 70ms/step - loss: 0.1126 - accuracy: 0.9567 - recall: 0.9499 - precision: 0.9628 - val_loss: 0.1690 - val_accuracy: 0.9367 - val_recall: 0.9124 - val_precision: 0.9585\n",
      "Epoch 26/30\n",
      "356/356 [==============================] - 25s 69ms/step - loss: 0.1036 - accuracy: 0.9610 - recall: 0.9555 - precision: 0.9658 - val_loss: 0.2109 - val_accuracy: 0.9156 - val_recall: 0.9407 - val_precision: 0.8952\n",
      "Epoch 27/30\n",
      "356/356 [==============================] - 25s 69ms/step - loss: 0.1007 - accuracy: 0.9588 - recall: 0.9520 - precision: 0.9649 - val_loss: 0.1734 - val_accuracy: 0.9311 - val_recall: 0.9435 - val_precision: 0.9201\n",
      "Epoch 28/30\n",
      "356/356 [==============================] - 25s 70ms/step - loss: 0.0915 - accuracy: 0.9659 - recall: 0.9626 - precision: 0.9688 - val_loss: 0.2095 - val_accuracy: 0.9198 - val_recall: 0.9661 - val_precision: 0.8837\n",
      "Epoch 29/30\n",
      "356/356 [==============================] - 25s 69ms/step - loss: 0.0879 - accuracy: 0.9687 - recall: 0.9640 - precision: 0.9729 - val_loss: 0.2057 - val_accuracy: 0.9114 - val_recall: 0.9576 - val_precision: 0.8760\n",
      "Epoch 30/30\n",
      "356/356 [==============================] - 25s 69ms/step - loss: 0.0865 - accuracy: 0.9666 - recall: 0.9612 - precision: 0.9715 - val_loss: 0.1969 - val_accuracy: 0.9367 - val_recall: 0.9407 - val_precision: 0.9328\n",
      "accuracy: 93.67%\n",
      "23/23 [==============================] - 1s 48ms/step\n"
     ]
    },
    {
     "name": "stderr",
     "output_type": "stream",
     "text": [
      "WARNING:absl:At this time, the v2.11+ optimizer `tf.keras.optimizers.SGD` runs slowly on M1/M2 Macs, please use the legacy Keras optimizer instead, located at `tf.keras.optimizers.legacy.SGD`.\n",
      "WARNING:absl:There is a known slowdown when using v2.11+ Keras optimizers on M1/M2 Macs. Falling back to the legacy Keras optimizer, i.e., `tf.keras.optimizers.legacy.SGD`.\n"
     ]
    },
    {
     "name": "stdout",
     "output_type": "stream",
     "text": [
      "Epoch 1/30\n",
      "356/356 [==============================] - 26s 72ms/step - loss: 0.6919 - accuracy: 0.5234 - recall: 0.5088 - precision: 0.5225 - val_loss: 0.6855 - val_accuracy: 0.6301 - val_recall: 0.9605 - val_precision: 0.5772\n",
      "Epoch 2/30\n",
      "356/356 [==============================] - 25s 69ms/step - loss: 0.6419 - accuracy: 0.6352 - recall: 0.6937 - precision: 0.6198 - val_loss: 0.5573 - val_accuracy: 0.6934 - val_recall: 0.8729 - val_precision: 0.6411\n",
      "Epoch 3/30\n",
      "356/356 [==============================] - 25s 69ms/step - loss: 0.4576 - accuracy: 0.7974 - recall: 0.8257 - precision: 0.7805 - val_loss: 0.4016 - val_accuracy: 0.8031 - val_recall: 0.9040 - val_precision: 0.7512\n",
      "Epoch 4/30\n",
      "356/356 [==============================] - 25s 69ms/step - loss: 0.3761 - accuracy: 0.8477 - recall: 0.8405 - precision: 0.8519 - val_loss: 0.3638 - val_accuracy: 0.8608 - val_recall: 0.8249 - val_precision: 0.8875\n",
      "Epoch 5/30\n",
      "356/356 [==============================] - 25s 69ms/step - loss: 0.3580 - accuracy: 0.8551 - recall: 0.8440 - precision: 0.8623 - val_loss: 0.3583 - val_accuracy: 0.8551 - val_recall: 0.8898 - val_precision: 0.8311\n",
      "Epoch 6/30\n",
      "356/356 [==============================] - 25s 69ms/step - loss: 0.3354 - accuracy: 0.8660 - recall: 0.8546 - precision: 0.8737 - val_loss: 0.3400 - val_accuracy: 0.8565 - val_recall: 0.8814 - val_precision: 0.8387\n",
      "Epoch 7/30\n",
      "356/356 [==============================] - 25s 69ms/step - loss: 0.3222 - accuracy: 0.8744 - recall: 0.8666 - precision: 0.8797 - val_loss: 0.3310 - val_accuracy: 0.8762 - val_recall: 0.8305 - val_precision: 0.9130\n",
      "Epoch 8/30\n",
      "356/356 [==============================] - 25s 69ms/step - loss: 0.3023 - accuracy: 0.8794 - recall: 0.8765 - precision: 0.8809 - val_loss: 0.3527 - val_accuracy: 0.8481 - val_recall: 0.7542 - val_precision: 0.9271\n",
      "Epoch 9/30\n",
      "356/356 [==============================] - 25s 69ms/step - loss: 0.2854 - accuracy: 0.8836 - recall: 0.8765 - precision: 0.8884 - val_loss: 0.3055 - val_accuracy: 0.8805 - val_recall: 0.8729 - val_precision: 0.8854\n",
      "Epoch 10/30\n",
      "356/356 [==============================] - 25s 70ms/step - loss: 0.2669 - accuracy: 0.8910 - recall: 0.8814 - precision: 0.8979 - val_loss: 0.3278 - val_accuracy: 0.8608 - val_recall: 0.9350 - val_precision: 0.8133\n",
      "Epoch 11/30\n",
      "356/356 [==============================] - 25s 69ms/step - loss: 0.2504 - accuracy: 0.8962 - recall: 0.8857 - precision: 0.9042 - val_loss: 0.2718 - val_accuracy: 0.8875 - val_recall: 0.8870 - val_precision: 0.8870\n",
      "Epoch 12/30\n",
      "356/356 [==============================] - 25s 69ms/step - loss: 0.2317 - accuracy: 0.9019 - recall: 0.8864 - precision: 0.9141 - val_loss: 0.3149 - val_accuracy: 0.8692 - val_recall: 0.7825 - val_precision: 0.9454\n",
      "Epoch 13/30\n",
      "356/356 [==============================] - 25s 69ms/step - loss: 0.2242 - accuracy: 0.9047 - recall: 0.8913 - precision: 0.9152 - val_loss: 0.2606 - val_accuracy: 0.8987 - val_recall: 0.8644 - val_precision: 0.9273\n",
      "Epoch 14/30\n",
      "356/356 [==============================] - 25s 69ms/step - loss: 0.2072 - accuracy: 0.9142 - recall: 0.9033 - precision: 0.9229 - val_loss: 0.2535 - val_accuracy: 0.8987 - val_recall: 0.9096 - val_precision: 0.8895\n",
      "Epoch 15/30\n",
      "356/356 [==============================] - 25s 69ms/step - loss: 0.1876 - accuracy: 0.9237 - recall: 0.9146 - precision: 0.9310 - val_loss: 0.2470 - val_accuracy: 0.9100 - val_recall: 0.9040 - val_precision: 0.9143\n",
      "Epoch 16/30\n",
      "356/356 [==============================] - 25s 70ms/step - loss: 0.1722 - accuracy: 0.9356 - recall: 0.9294 - precision: 0.9407 - val_loss: 0.2541 - val_accuracy: 0.9128 - val_recall: 0.9011 - val_precision: 0.9220\n",
      "Epoch 17/30\n",
      "356/356 [==============================] - 25s 70ms/step - loss: 0.1647 - accuracy: 0.9342 - recall: 0.9245 - precision: 0.9424 - val_loss: 0.2742 - val_accuracy: 0.8917 - val_recall: 0.9379 - val_precision: 0.8579\n",
      "Epoch 18/30\n",
      "356/356 [==============================] - 25s 69ms/step - loss: 0.1519 - accuracy: 0.9430 - recall: 0.9330 - precision: 0.9518 - val_loss: 0.2439 - val_accuracy: 0.9114 - val_recall: 0.9266 - val_precision: 0.8986\n",
      "Epoch 19/30\n",
      "356/356 [==============================] - 25s 69ms/step - loss: 0.1426 - accuracy: 0.9420 - recall: 0.9351 - precision: 0.9478 - val_loss: 0.2470 - val_accuracy: 0.9086 - val_recall: 0.8927 - val_precision: 0.9213\n",
      "Epoch 20/30\n",
      "356/356 [==============================] - 25s 69ms/step - loss: 0.1352 - accuracy: 0.9493 - recall: 0.9421 - precision: 0.9556 - val_loss: 0.2797 - val_accuracy: 0.9001 - val_recall: 0.9209 - val_precision: 0.8835\n",
      "Epoch 21/30\n",
      "356/356 [==============================] - 25s 69ms/step - loss: 0.1208 - accuracy: 0.9546 - recall: 0.9471 - precision: 0.9613 - val_loss: 0.2477 - val_accuracy: 0.9128 - val_recall: 0.9011 - val_precision: 0.9220\n",
      "Epoch 22/30\n",
      "356/356 [==============================] - 25s 69ms/step - loss: 0.1111 - accuracy: 0.9585 - recall: 0.9548 - precision: 0.9616 - val_loss: 0.2630 - val_accuracy: 0.9128 - val_recall: 0.9040 - val_precision: 0.9195\n",
      "Epoch 23/30\n",
      "356/356 [==============================] - 25s 69ms/step - loss: 0.1047 - accuracy: 0.9592 - recall: 0.9570 - precision: 0.9610 - val_loss: 0.2356 - val_accuracy: 0.9114 - val_recall: 0.9153 - val_precision: 0.9076\n",
      "Epoch 24/30\n",
      "356/356 [==============================] - 25s 69ms/step - loss: 0.0956 - accuracy: 0.9638 - recall: 0.9598 - precision: 0.9673 - val_loss: 0.3102 - val_accuracy: 0.9030 - val_recall: 0.9633 - val_precision: 0.8589\n",
      "Epoch 25/30\n",
      "356/356 [==============================] - 25s 69ms/step - loss: 0.0909 - accuracy: 0.9676 - recall: 0.9605 - precision: 0.9742 - val_loss: 0.2424 - val_accuracy: 0.9255 - val_recall: 0.9294 - val_precision: 0.9216\n",
      "Epoch 26/30\n",
      "356/356 [==============================] - 25s 69ms/step - loss: 0.0845 - accuracy: 0.9680 - recall: 0.9626 - precision: 0.9729 - val_loss: 0.2540 - val_accuracy: 0.9226 - val_recall: 0.9266 - val_precision: 0.9188\n",
      "Epoch 27/30\n",
      "356/356 [==============================] - 25s 69ms/step - loss: 0.0815 - accuracy: 0.9712 - recall: 0.9647 - precision: 0.9771 - val_loss: 0.2529 - val_accuracy: 0.9255 - val_recall: 0.9096 - val_precision: 0.9388\n",
      "Epoch 28/30\n",
      "356/356 [==============================] - 25s 69ms/step - loss: 0.0735 - accuracy: 0.9743 - recall: 0.9718 - precision: 0.9766 - val_loss: 0.2126 - val_accuracy: 0.9339 - val_recall: 0.9181 - val_precision: 0.9475\n",
      "Epoch 29/30\n",
      "356/356 [==============================] - 25s 69ms/step - loss: 0.0690 - accuracy: 0.9761 - recall: 0.9711 - precision: 0.9808 - val_loss: 0.2747 - val_accuracy: 0.9170 - val_recall: 0.9435 - val_precision: 0.8954\n",
      "Epoch 30/30\n",
      "356/356 [==============================] - 25s 69ms/step - loss: 0.0582 - accuracy: 0.9814 - recall: 0.9788 - precision: 0.9837 - val_loss: 0.2864 - val_accuracy: 0.9086 - val_recall: 0.9294 - val_precision: 0.8916\n",
      "accuracy: 90.86%\n",
      "23/23 [==============================] - 1s 41ms/step\n"
     ]
    },
    {
     "name": "stderr",
     "output_type": "stream",
     "text": [
      "WARNING:absl:At this time, the v2.11+ optimizer `tf.keras.optimizers.SGD` runs slowly on M1/M2 Macs, please use the legacy Keras optimizer instead, located at `tf.keras.optimizers.legacy.SGD`.\n",
      "WARNING:absl:There is a known slowdown when using v2.11+ Keras optimizers on M1/M2 Macs. Falling back to the legacy Keras optimizer, i.e., `tf.keras.optimizers.legacy.SGD`.\n"
     ]
    },
    {
     "name": "stdout",
     "output_type": "stream",
     "text": [
      "Epoch 1/30\n",
      "356/356 [==============================] - 26s 72ms/step - loss: 0.6990 - accuracy: 0.5004 - recall: 0.4531 - precision: 0.4984 - val_loss: 0.6922 - val_accuracy: 0.5014 - val_recall: 0.0000e+00 - val_precision: 0.0000e+00\n",
      "Epoch 2/30\n",
      "356/356 [==============================] - 25s 69ms/step - loss: 0.6920 - accuracy: 0.5257 - recall: 0.5399 - precision: 0.5233 - val_loss: 0.6860 - val_accuracy: 0.6887 - val_recall: 0.9181 - val_precision: 0.6286\n",
      "Epoch 3/30\n",
      "356/356 [==============================] - 25s 70ms/step - loss: 0.6633 - accuracy: 0.6006 - recall: 0.5879 - precision: 0.6014 - val_loss: 0.5819 - val_accuracy: 0.7394 - val_recall: 0.6610 - val_precision: 0.7826\n",
      "Epoch 4/30\n",
      "356/356 [==============================] - 25s 70ms/step - loss: 0.4736 - accuracy: 0.7880 - recall: 0.8186 - precision: 0.7703 - val_loss: 0.3912 - val_accuracy: 0.8493 - val_recall: 0.7740 - val_precision: 0.9103\n",
      "Epoch 5/30\n",
      "356/356 [==============================] - 25s 70ms/step - loss: 0.3890 - accuracy: 0.8421 - recall: 0.8292 - precision: 0.8502 - val_loss: 0.3682 - val_accuracy: 0.8577 - val_recall: 0.7740 - val_precision: 0.9288\n",
      "Epoch 6/30\n",
      "356/356 [==============================] - 25s 69ms/step - loss: 0.3620 - accuracy: 0.8544 - recall: 0.8462 - precision: 0.8595 - val_loss: 0.3751 - val_accuracy: 0.8338 - val_recall: 0.9350 - val_precision: 0.7770\n",
      "Epoch 7/30\n",
      "356/356 [==============================] - 25s 69ms/step - loss: 0.3440 - accuracy: 0.8629 - recall: 0.8497 - precision: 0.8718 - val_loss: 0.3160 - val_accuracy: 0.8718 - val_recall: 0.8559 - val_precision: 0.8834\n",
      "Epoch 8/30\n",
      "356/356 [==============================] - 25s 69ms/step - loss: 0.3286 - accuracy: 0.8688 - recall: 0.8560 - precision: 0.8777 - val_loss: 0.3055 - val_accuracy: 0.8775 - val_recall: 0.8333 - val_precision: 0.9133\n",
      "Epoch 9/30\n",
      "356/356 [==============================] - 25s 69ms/step - loss: 0.3136 - accuracy: 0.8667 - recall: 0.8560 - precision: 0.8739 - val_loss: 0.2800 - val_accuracy: 0.8831 - val_recall: 0.8729 - val_precision: 0.8905\n",
      "Epoch 10/30\n",
      "356/356 [==============================] - 25s 69ms/step - loss: 0.2893 - accuracy: 0.8790 - recall: 0.8687 - precision: 0.8862 - val_loss: 0.2691 - val_accuracy: 0.8873 - val_recall: 0.9068 - val_precision: 0.8723\n",
      "Epoch 11/30\n",
      "356/356 [==============================] - 25s 69ms/step - loss: 0.2721 - accuracy: 0.8840 - recall: 0.8701 - precision: 0.8941 - val_loss: 0.2674 - val_accuracy: 0.8986 - val_recall: 0.8362 - val_precision: 0.9548\n",
      "Epoch 12/30\n",
      "356/356 [==============================] - 25s 69ms/step - loss: 0.2519 - accuracy: 0.8963 - recall: 0.8800 - precision: 0.9089 - val_loss: 0.2566 - val_accuracy: 0.9028 - val_recall: 0.9492 - val_precision: 0.8682\n",
      "Epoch 13/30\n",
      "356/356 [==============================] - 25s 69ms/step - loss: 0.2337 - accuracy: 0.9047 - recall: 0.8871 - precision: 0.9189 - val_loss: 0.2273 - val_accuracy: 0.9127 - val_recall: 0.9068 - val_precision: 0.9171\n",
      "Epoch 14/30\n",
      "356/356 [==============================] - 25s 69ms/step - loss: 0.2180 - accuracy: 0.9117 - recall: 0.8934 - precision: 0.9268 - val_loss: 0.2121 - val_accuracy: 0.9183 - val_recall: 0.9011 - val_precision: 0.9327\n",
      "Epoch 15/30\n",
      "356/356 [==============================] - 25s 69ms/step - loss: 0.2061 - accuracy: 0.9170 - recall: 0.9068 - precision: 0.9251 - val_loss: 0.2339 - val_accuracy: 0.9085 - val_recall: 0.8616 - val_precision: 0.9502\n",
      "Epoch 16/30\n",
      "356/356 [==============================] - 25s 69ms/step - loss: 0.1934 - accuracy: 0.9251 - recall: 0.9132 - precision: 0.9350 - val_loss: 0.3084 - val_accuracy: 0.8887 - val_recall: 0.7994 - val_precision: 0.9725\n",
      "Epoch 17/30\n",
      "356/356 [==============================] - 25s 69ms/step - loss: 0.1798 - accuracy: 0.9321 - recall: 0.9174 - precision: 0.9448 - val_loss: 0.1983 - val_accuracy: 0.9155 - val_recall: 0.9237 - val_precision: 0.9083\n",
      "Epoch 18/30\n",
      "356/356 [==============================] - 25s 69ms/step - loss: 0.1703 - accuracy: 0.9342 - recall: 0.9210 - precision: 0.9457 - val_loss: 0.1837 - val_accuracy: 0.9310 - val_recall: 0.9040 - val_precision: 0.9552\n",
      "Epoch 19/30\n",
      "356/356 [==============================] - 25s 69ms/step - loss: 0.1557 - accuracy: 0.9374 - recall: 0.9252 - precision: 0.9479 - val_loss: 0.2236 - val_accuracy: 0.9141 - val_recall: 0.9520 - val_precision: 0.8845\n",
      "Epoch 20/30\n",
      "356/356 [==============================] - 25s 69ms/step - loss: 0.1461 - accuracy: 0.9434 - recall: 0.9365 - precision: 0.9492 - val_loss: 0.1885 - val_accuracy: 0.9268 - val_recall: 0.9379 - val_precision: 0.9171\n",
      "Epoch 21/30\n",
      "356/356 [==============================] - 25s 70ms/step - loss: 0.1424 - accuracy: 0.9434 - recall: 0.9315 - precision: 0.9538 - val_loss: 0.1944 - val_accuracy: 0.9296 - val_recall: 0.9322 - val_precision: 0.9270\n",
      "Epoch 22/30\n",
      "356/356 [==============================] - 25s 69ms/step - loss: 0.1335 - accuracy: 0.9455 - recall: 0.9330 - precision: 0.9566 - val_loss: 0.1906 - val_accuracy: 0.9310 - val_recall: 0.9435 - val_precision: 0.9201\n",
      "Epoch 23/30\n",
      "356/356 [==============================] - 25s 69ms/step - loss: 0.1214 - accuracy: 0.9550 - recall: 0.9450 - precision: 0.9640 - val_loss: 0.2161 - val_accuracy: 0.9225 - val_recall: 0.8701 - val_precision: 0.9716\n",
      "Epoch 24/30\n",
      "356/356 [==============================] - 25s 69ms/step - loss: 0.1187 - accuracy: 0.9536 - recall: 0.9478 - precision: 0.9586 - val_loss: 0.1694 - val_accuracy: 0.9408 - val_recall: 0.9322 - val_precision: 0.9483\n",
      "Epoch 25/30\n",
      "356/356 [==============================] - 25s 69ms/step - loss: 0.1072 - accuracy: 0.9560 - recall: 0.9478 - precision: 0.9634 - val_loss: 0.1815 - val_accuracy: 0.9310 - val_recall: 0.9407 - val_precision: 0.9224\n",
      "Epoch 26/30\n",
      "356/356 [==============================] - 25s 69ms/step - loss: 0.0971 - accuracy: 0.9655 - recall: 0.9591 - precision: 0.9714 - val_loss: 0.1870 - val_accuracy: 0.9451 - val_recall: 0.9209 - val_precision: 0.9674\n",
      "Epoch 27/30\n",
      "356/356 [==============================] - 25s 70ms/step - loss: 0.0853 - accuracy: 0.9687 - recall: 0.9598 - precision: 0.9770 - val_loss: 0.2167 - val_accuracy: 0.9380 - val_recall: 0.8927 - val_precision: 0.9814\n",
      "Epoch 28/30\n",
      "356/356 [==============================] - 25s 69ms/step - loss: 0.0916 - accuracy: 0.9617 - recall: 0.9534 - precision: 0.9692 - val_loss: 0.1766 - val_accuracy: 0.9465 - val_recall: 0.9209 - val_precision: 0.9702\n",
      "Epoch 29/30\n",
      "356/356 [==============================] - 25s 69ms/step - loss: 0.0772 - accuracy: 0.9687 - recall: 0.9619 - precision: 0.9750 - val_loss: 0.2606 - val_accuracy: 0.9169 - val_recall: 0.8588 - val_precision: 0.9712\n",
      "Epoch 30/30\n",
      "356/356 [==============================] - 25s 70ms/step - loss: 0.0852 - accuracy: 0.9655 - recall: 0.9591 - precision: 0.9714 - val_loss: 0.2343 - val_accuracy: 0.9225 - val_recall: 0.9661 - val_precision: 0.8883\n",
      "accuracy: 92.25%\n",
      "23/23 [==============================] - 2s 62ms/step\n",
      "92.52% (+/- 1.15%)\n"
     ]
    }
   ],
   "source": [
    "confusion_matrices, histories = model_performance_training.train_performance_k_fold(number_model, samples, labels, epoch, batch_size,type_augmentation, type_denoising, differentiation, low_pass_cutoff, low_pass_order, type_transformation)\n"
   ]
  },
  {
   "attachments": {},
   "cell_type": "markdown",
   "metadata": {},
   "source": [
    "# 10. Save results"
   ]
  },
  {
   "cell_type": "code",
   "execution_count": 8,
   "metadata": {},
   "outputs": [],
   "source": [
    "list_loss, list_val_loss, list_precision, list_val_precision, list_recall, list_val_recall, list_accuracy, list_val_accuracy = model_performance_training.get_metrics(epoch, histories)"
   ]
  },
  {
   "cell_type": "code",
   "execution_count": 9,
   "metadata": {},
   "outputs": [],
   "source": [
    "destination = 'experiments_results/4_denoising/low_pass/no_diff/2500/'\n",
    "temp_title = 'Low pass filtering with cutoff = 2500'"
   ]
  },
  {
   "attachments": {},
   "cell_type": "markdown",
   "metadata": {},
   "source": [
    "### 10.1 Loss"
   ]
  },
  {
   "cell_type": "code",
   "execution_count": 10,
   "metadata": {},
   "outputs": [],
   "source": [
    "temp_destination = destination + 'loss.png'\n",
    "title_plot = 'Loss: using ' + temp_title\n",
    "model_performance_training.plot_performance(list_loss, list_val_loss, title_plot, title_y_label = 'Loss', destination_file = temp_destination)\n"
   ]
  },
  {
   "attachments": {},
   "cell_type": "markdown",
   "metadata": {},
   "source": [
    "### 10.2 Precision"
   ]
  },
  {
   "cell_type": "code",
   "execution_count": 11,
   "metadata": {},
   "outputs": [],
   "source": [
    "temp_destination = destination + 'precision.png'\n",
    "title_plot = 'Precision: using ' + temp_title\n",
    "model_performance_training.plot_performance(list_precision, list_val_precision, title_plot, title_y_label = 'Precision', destination_file = temp_destination)\n"
   ]
  },
  {
   "attachments": {},
   "cell_type": "markdown",
   "metadata": {},
   "source": [
    "### 10.3 Recall"
   ]
  },
  {
   "cell_type": "code",
   "execution_count": 12,
   "metadata": {},
   "outputs": [],
   "source": [
    "temp_destination = destination + 'recall.png'\n",
    "title_plot = 'Recall: using ' + temp_title\n",
    "model_performance_training.plot_performance(list_recall, list_val_recall, title_plot, title_y_label = 'Recall', destination_file = temp_destination)\n"
   ]
  },
  {
   "attachments": {},
   "cell_type": "markdown",
   "metadata": {},
   "source": [
    "### 10.4 Accuracy"
   ]
  },
  {
   "cell_type": "code",
   "execution_count": 13,
   "metadata": {},
   "outputs": [],
   "source": [
    "temp_destination = destination + 'accuracy.png'\n",
    "title_plot = 'Accuracy: using ' + temp_title\n",
    "model_performance_training.plot_performance(list_accuracy, list_val_accuracy, title_plot, title_y_label = 'Accuracy', destination_file = temp_destination)\n"
   ]
  },
  {
   "cell_type": "markdown",
   "metadata": {},
   "source": [
    "###  10.5 Confusion matrix"
   ]
  },
  {
   "cell_type": "code",
   "execution_count": 14,
   "metadata": {},
   "outputs": [],
   "source": [
    "destination = destination + 'confusion_matrix.png'\n",
    "title_plot = 'Confusion Matrix: ' + temp_title \n",
    "model_performance_training.plot_confusion_matrix(confusion_matrices, destination, title_plot)"
   ]
  },
  {
   "cell_type": "code",
   "execution_count": 15,
   "metadata": {},
   "outputs": [
    {
     "name": "stdout",
     "output_type": "stream",
     "text": [
      "0.9251540184020997\n",
      "0.9282786250114441\n",
      "0.9238115668296814\n",
      "0.23320675790309905\n"
     ]
    }
   ],
   "source": [
    "print(list_val_accuracy[-1])\n",
    "print(list_val_precision[-1])\n",
    "print(list_val_recall[-1])\n",
    "print(list_val_loss[-1])"
   ]
  }
 ],
 "metadata": {
  "kernelspec": {
   "display_name": "bach_thesis_4",
   "language": "python",
   "name": "python3"
  },
  "language_info": {
   "codemirror_mode": {
    "name": "ipython",
    "version": 3
   },
   "file_extension": ".py",
   "mimetype": "text/x-python",
   "name": "python",
   "nbconvert_exporter": "python",
   "pygments_lexer": "ipython3",
   "version": "3.9.16"
  },
  "orig_nbformat": 4
 },
 "nbformat": 4,
 "nbformat_minor": 2
}
