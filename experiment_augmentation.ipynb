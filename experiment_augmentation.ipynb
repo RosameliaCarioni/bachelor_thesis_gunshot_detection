{
 "cells": [
  {
   "cell_type": "code",
   "execution_count": null,
   "metadata": {},
   "outputs": [],
   "source": [
    "import tensorflow as tf\n",
    "import matplotlib.pyplot as plt\n",
    "import os \n",
    "import numpy as np\n",
    "from tensorflow import keras\n",
    "import seaborn as sns\n",
    "from sklearn.model_selection import StratifiedKFold\n",
    "from sklearn.model_selection import train_test_split\n",
    "from methods_audio import data_handling\n",
    "from methods_audio import data_augmentation\n",
    "from methods_audio import denoising \n",
    "from methods_audio import model_performance_training"
   ]
  },
  {
   "attachments": {},
   "cell_type": "markdown",
   "metadata": {},
   "source": [
    "# 1. Get data (file names)"
   ]
  },
  {
   "cell_type": "code",
   "execution_count": null,
   "metadata": {},
   "outputs": [],
   "source": [
    "data = data_handling.get_data()"
   ]
  },
  {
   "attachments": {},
   "cell_type": "markdown",
   "metadata": {},
   "source": [
    "# 2. Read data (transforming file names into waves) <br>\n",
    "Additionally, the mean is removed and the data is normalized. "
   ]
  },
  {
   "cell_type": "code",
   "execution_count": null,
   "metadata": {},
   "outputs": [],
   "source": [
    "data = data.map(data_handling.read_in_data) "
   ]
  },
  {
   "attachments": {},
   "cell_type": "markdown",
   "metadata": {},
   "source": [
    "# 3. Get input for model training "
   ]
  },
  {
   "cell_type": "code",
   "execution_count": null,
   "metadata": {},
   "outputs": [],
   "source": [
    "samples, labels = data_handling.extract_samples_labels(data)"
   ]
  },
  {
   "attachments": {},
   "cell_type": "markdown",
   "metadata": {},
   "source": [
    "# Set arguments from baseline: "
   ]
  },
  {
   "attachments": {},
   "cell_type": "markdown",
   "metadata": {},
   "source": [
    "### 4. Denoising (on train and validation set)\n",
    "### 5. Transform data into Spectogram/Mel-spectogram \n",
    "### 6. Set batch size \n",
    "### 7. Choose model"
   ]
  },
  {
   "cell_type": "code",
   "execution_count": null,
   "metadata": {},
   "outputs": [],
   "source": [
    "# Define type of denoising to do. Options: spectral_gating, low_pass, none \n",
    "type_denoising= 'none'\n",
    "differentiation = False \n",
    "\n",
    "# For low pass filter: not used\n",
    "low_pass_cutoff = 0 \n",
    "low_pass_order = 0 \n",
    "\n",
    "# Define type of transformation to do. Options = spectrogram, mel_spectrogram, db_mel_spectrogram, mfcc, mfcc_delta\n",
    "type_transformation = 'spectrogram' \n",
    "\n",
    "batch_size = 8 \n",
    "epoch = 30\n",
    "\n",
    "number_model = 1"
   ]
  },
  {
   "attachments": {},
   "cell_type": "markdown",
   "metadata": {},
   "source": [
    "# 8. Select type of augmentation "
   ]
  },
  {
   "cell_type": "code",
   "execution_count": null,
   "metadata": {},
   "outputs": [],
   "source": [
    "# Define type of augmentation to do. Options: signal, or none\n",
    "type_augmentation = 'signal' # or signal\n",
    "probability = 0.3"
   ]
  },
  {
   "attachments": {},
   "cell_type": "markdown",
   "metadata": {},
   "source": [
    "# 9. Evaluate performance of the model by training it with K-Fold Validation"
   ]
  },
  {
   "cell_type": "code",
   "execution_count": null,
   "metadata": {},
   "outputs": [],
   "source": [
    "confusion_matrices, histories = model_performance_training.train_performance_k_fold(number_model, samples, labels, epoch, batch_size,type_augmentation, type_denoising, differentiation, low_pass_cutoff, low_pass_order, type_transformation, probability)"
   ]
  },
  {
   "attachments": {},
   "cell_type": "markdown",
   "metadata": {},
   "source": [
    "# 10. Save results"
   ]
  },
  {
   "cell_type": "code",
   "execution_count": null,
   "metadata": {},
   "outputs": [],
   "source": [
    "list_loss, list_val_loss, list_precision, list_val_precision, list_recall, list_val_recall, list_accuracy, list_val_accuracy = model_performance_training.get_metrics(epoch, histories)"
   ]
  },
  {
   "cell_type": "code",
   "execution_count": null,
   "metadata": {},
   "outputs": [],
   "source": [
    "if type_augmentation == 'none':\n",
    "    temp_title = 'No data augmentation applied'\n",
    "else:\n",
    "    temp_title = 'Data augmentation with probability = ' + str(probability)"
   ]
  },
  {
   "cell_type": "code",
   "execution_count": null,
   "metadata": {},
   "outputs": [],
   "source": [
    "general_path = 'experiments_results/2_data_augmentation/'\n",
    "\n",
    "specific_exeriment_path = '0_3_p/' # TODO: change \n",
    "general_path = general_path + specific_exeriment_path"
   ]
  },
  {
   "attachments": {},
   "cell_type": "markdown",
   "metadata": {},
   "source": [
    "### 10.1 Loss"
   ]
  },
  {
   "cell_type": "code",
   "execution_count": null,
   "metadata": {},
   "outputs": [],
   "source": [
    "destination = general_path + 'loss.png'\n",
    "title_plot = 'Loss: ' + temp_title \n",
    "model_performance_training.plot_performance(list_loss, list_val_loss, title_plot, title_y_label = 'Loss', destination_file = destination)\n"
   ]
  },
  {
   "attachments": {},
   "cell_type": "markdown",
   "metadata": {},
   "source": [
    "### 10.2 Precision"
   ]
  },
  {
   "cell_type": "code",
   "execution_count": null,
   "metadata": {},
   "outputs": [],
   "source": [
    "destination = general_path + 'precision.png'\n",
    "title_plot = 'Precision: ' + temp_title \n",
    "model_performance_training.plot_performance(list_precision, list_val_precision, title_plot, title_y_label = 'Precision', destination_file = destination)\n"
   ]
  },
  {
   "attachments": {},
   "cell_type": "markdown",
   "metadata": {},
   "source": [
    "### 10.3 Recall"
   ]
  },
  {
   "cell_type": "code",
   "execution_count": null,
   "metadata": {},
   "outputs": [],
   "source": [
    "destination = general_path + 'recall.png'\n",
    "title_plot = 'Recall: ' + temp_title \n",
    "model_performance_training.plot_performance(list_recall, list_val_recall, title_plot, title_y_label = 'Recall', destination_file = destination)\n"
   ]
  },
  {
   "attachments": {},
   "cell_type": "markdown",
   "metadata": {},
   "source": [
    "### 10.4 Accuracy"
   ]
  },
  {
   "cell_type": "code",
   "execution_count": null,
   "metadata": {},
   "outputs": [],
   "source": [
    "destination = general_path + 'accuracy.png'\n",
    "title_plot = 'Accuracy: ' + temp_title \n",
    "model_performance_training.plot_performance(list_accuracy, list_val_accuracy, title_plot, title_y_label = 'Accuracy', destination_file = destination)\n"
   ]
  },
  {
   "cell_type": "markdown",
   "metadata": {},
   "source": [
    "###  10.5 Confusion matrix"
   ]
  },
  {
   "cell_type": "code",
   "execution_count": null,
   "metadata": {},
   "outputs": [],
   "source": [
    "destination = general_path + 'confusion_matrix.png'\n",
    "title_plot = 'Confusion Matrix: ' + temp_title \n",
    "model_performance_training.plot_confusion_matrix(confusion_matrices, destination, title_plot)"
   ]
  },
  {
   "cell_type": "code",
   "execution_count": null,
   "metadata": {},
   "outputs": [],
   "source": [
    "print(list_val_accuracy[-1])\n",
    "print(list_val_precision[-1])\n",
    "print(list_val_recall[-1])\n",
    "print(list_val_loss[-1])"
   ]
  }
 ],
 "metadata": {
  "kernelspec": {
   "display_name": "bach_thesis_4",
   "language": "python",
   "name": "python3"
  },
  "language_info": {
   "codemirror_mode": {
    "name": "ipython",
    "version": 3
   },
   "file_extension": ".py",
   "mimetype": "text/x-python",
   "name": "python",
   "nbconvert_exporter": "python",
   "pygments_lexer": "ipython3",
   "version": "3.9.16"
  },
  "orig_nbformat": 4
 },
 "nbformat": 4,
 "nbformat_minor": 2
}
