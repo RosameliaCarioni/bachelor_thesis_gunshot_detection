{
 "cells": [
  {
   "cell_type": "code",
   "execution_count": 1,
   "metadata": {},
   "outputs": [
    {
     "name": "stderr",
     "output_type": "stream",
     "text": [
      "/Users/rosameliacarioni/miniconda3/envs/bach_thesis_4/lib/python3.9/site-packages/tensorflow_io-0.32.0-py3.9-macosx-11.0-arm64.egg/tensorflow_io/python/ops/__init__.py:98: UserWarning: unable to load libtensorflow_io_plugins.so: unable to open file: libtensorflow_io_plugins.so, from paths: ['/Users/rosameliacarioni/miniconda3/envs/bach_thesis_4/lib/python3.9/site-packages/tensorflow_io-0.32.0-py3.9-macosx-11.0-arm64.egg/tensorflow_io/python/ops/libtensorflow_io_plugins.so']\n",
      "caused by: [\"[Errno 2] The file to load file system plugin from does not exist.: '/Users/rosameliacarioni/miniconda3/envs/bach_thesis_4/lib/python3.9/site-packages/tensorflow_io-0.32.0-py3.9-macosx-11.0-arm64.egg/tensorflow_io/python/ops/libtensorflow_io_plugins.so'\"]\n",
      "  warnings.warn(f\"unable to load libtensorflow_io_plugins.so: {e}\")\n",
      "/Users/rosameliacarioni/miniconda3/envs/bach_thesis_4/lib/python3.9/site-packages/tensorflow_io-0.32.0-py3.9-macosx-11.0-arm64.egg/tensorflow_io/python/ops/__init__.py:104: UserWarning: file system plugins are not loaded: unable to open file: libtensorflow_io.so, from paths: ['/Users/rosameliacarioni/miniconda3/envs/bach_thesis_4/lib/python3.9/site-packages/tensorflow_io-0.32.0-py3.9-macosx-11.0-arm64.egg/tensorflow_io/python/ops/libtensorflow_io.so']\n",
      "caused by: [\"dlopen(/Users/rosameliacarioni/miniconda3/envs/bach_thesis_4/lib/python3.9/site-packages/tensorflow_io-0.32.0-py3.9-macosx-11.0-arm64.egg/tensorflow_io/python/ops/libtensorflow_io.so, 0x0006): tried: '/Users/rosameliacarioni/miniconda3/envs/bach_thesis_4/lib/python3.9/site-packages/tensorflow_io-0.32.0-py3.9-macosx-11.0-arm64.egg/tensorflow_io/python/ops/libtensorflow_io.so' (no such file)\"]\n",
      "  warnings.warn(f\"file system plugins are not loaded: {e}\")\n"
     ]
    }
   ],
   "source": [
    "import tensorflow as tf\n",
    "import matplotlib.pyplot as plt\n",
    "import os \n",
    "import numpy as np\n",
    "from tensorflow import keras\n",
    "import seaborn as sns\n",
    "from sklearn.model_selection import StratifiedKFold\n",
    "from sklearn.model_selection import train_test_split\n",
    "from methods_audio import data_handling\n",
    "from methods_audio import data_augmentation\n",
    "from methods_audio import denoising \n",
    "from methods_audio import model_performance_training"
   ]
  },
  {
   "cell_type": "markdown",
   "metadata": {},
   "source": [
    "# 1. Get data (file names)"
   ]
  },
  {
   "cell_type": "code",
   "execution_count": 8,
   "metadata": {},
   "outputs": [],
   "source": [
    "data = data_handling.get_data2()"
   ]
  },
  {
   "cell_type": "markdown",
   "metadata": {},
   "source": [
    "# 2. Read data (transforming file names into waves) <br>\n",
    "Additionally, the mean is removed and the data is normalized. "
   ]
  },
  {
   "cell_type": "code",
   "execution_count": 9,
   "metadata": {},
   "outputs": [],
   "source": [
    "data = data.map(data_handling.read_in_data) "
   ]
  },
  {
   "cell_type": "markdown",
   "metadata": {},
   "source": [
    "# 3. Get input for model training "
   ]
  },
  {
   "cell_type": "code",
   "execution_count": 10,
   "metadata": {},
   "outputs": [],
   "source": [
    "samples, labels = data_handling.extract_samples_labels(data)"
   ]
  },
  {
   "cell_type": "markdown",
   "metadata": {},
   "source": [
    "# 4. Split data into train and validation sets"
   ]
  },
  {
   "cell_type": "code",
   "execution_count": 11,
   "metadata": {},
   "outputs": [],
   "source": [
    "validation_set_size = 0.20\n",
    "x_train, x_valid, y_train, y_valid = train_test_split(samples, labels, test_size= validation_set_size, random_state=123)"
   ]
  },
  {
   "cell_type": "code",
   "execution_count": 27,
   "metadata": {},
   "outputs": [
    {
     "name": "stderr",
     "output_type": "stream",
     "text": [
      "/var/folders/bz/rfsj8qqx5zsg0g1p0xdb1fkw0000gn/T/ipykernel_73433/2814398212.py:5: VisibleDeprecationWarning: Creating an ndarray from ragged nested sequences (which is a list-or-tuple of lists-or-tuples-or ndarrays with different lengths or shapes) is deprecated. If you meant to do this, you must specify 'dtype=object' when creating the ndarray.\n",
      "  x_train = np.array(samples)[train.astype(int)]\n",
      "/var/folders/bz/rfsj8qqx5zsg0g1p0xdb1fkw0000gn/T/ipykernel_73433/2814398212.py:7: VisibleDeprecationWarning: Creating an ndarray from ragged nested sequences (which is a list-or-tuple of lists-or-tuples-or ndarrays with different lengths or shapes) is deprecated. If you meant to do this, you must specify 'dtype=object' when creating the ndarray.\n",
      "  x_valid = np.array(samples)[test.astype(int)]\n"
     ]
    }
   ],
   "source": [
    "kfold = StratifiedKFold(n_splits=2, shuffle=True, random_state=123)\n",
    "counter = 1\n",
    "for train, test in kfold.split(samples, labels):\n",
    "    if counter == 1: \n",
    "        x_train = np.array(samples)[train.astype(int)]\n",
    "        y_train = np.array(labels)[train.astype(int)]\n",
    "        x_valid = np.array(samples)[test.astype(int)]\n",
    "        y_valid = np.array(labels)[test.astype(int)]\n"
   ]
  },
  {
   "attachments": {},
   "cell_type": "markdown",
   "metadata": {},
   "source": [
    "# Testing stuff "
   ]
  },
  {
   "cell_type": "code",
   "execution_count": 28,
   "metadata": {},
   "outputs": [],
   "source": [
    "\n",
    "# 4. Transform numpy.ndarray into lists\n",
    "x_train_list = x_train.tolist() \n",
    "y_train_list = y_train.tolist()\n",
    "x_valid_list = x_valid.tolist()\n",
    "# Augmentation \n",
    "#x_train_list, y_train_list = data_augmentation.time_augmentation(x_train_list, y_train_list)\n",
    "# Denoising \n",
    "#x_train_list = denoising.apply_spectral(x_train_list)\n",
    "#x_valid_list =denoising.apply_spectral(x_valid_list)\n",
    "    \n"
   ]
  },
  {
   "cell_type": "code",
   "execution_count": 95,
   "metadata": {},
   "outputs": [
    {
     "data": {
      "text/plain": [
       "array([-1.8622111e-01, -8.4498748e-02,  6.2050413e-02, ...,\n",
       "       -7.9326428e-02, -1.7468377e-05,  6.2912464e-02], dtype=float32)"
      ]
     },
     "execution_count": 95,
     "metadata": {},
     "output_type": "execute_result"
    }
   ],
   "source": [
    "temp = tf.constant(x_train_list[0]) \n",
    "x_train_list[0]"
   ]
  },
  {
   "attachments": {},
   "cell_type": "markdown",
   "metadata": {},
   "source": [
    "# My code"
   ]
  },
  {
   "cell_type": "code",
   "execution_count": 75,
   "metadata": {},
   "outputs": [],
   "source": [
    "\n",
    "def convert_to_spectrogram(wave):\n",
    "    # 1. Fast fourier transform \n",
    "    spectrogram = tf.signal.stft(wave, frame_length=256, frame_step=128)  # Paper: 'Automated detection of gunshots in tropical forests using CNN' \n",
    "    # frame_length =  window length in samples --- frame_step = number of samples to step\n",
    "    # 'Time frequency compromise': if window size is small: you get good time resolution in exchange of poor frequency resolution \n",
    "\n",
    "    # 2. Obtain the magnitude of the STFT\n",
    "    spectrogram = tf.abs(spectrogram)\n",
    "\n",
    "    # 3. Tranform it into appropiate format for deep learning model by adding the channel dimension (in this case 1)\n",
    "    #spectrogram = tf.expand_dims(spectrogram, axis=2)\n",
    "    mel_spectrogram = tfio.audio.melscale(spectrogram, rate=8000, mels=number_mels_filterbanks, fmin=0, fmax=4000) \n",
    "\n",
    "    return mel_spectrogram\n",
    "\n",
    "def transform_data (waves, type_transformation):\n",
    "    transformed_signals = []\n",
    "\n",
    "    if (type_transformation == 'spectrogram'):\n",
    "        for wave in waves: \n",
    "            transformed_wave = convert_to_spectrogram(wave)\n",
    "            transformed_signals.append(transformed_wave)\n",
    "\n",
    "    return transformed_signals"
   ]
  },
  {
   "cell_type": "code",
   "execution_count": 76,
   "metadata": {},
   "outputs": [],
   "source": [
    "# Transform data \n",
    "type_transformation = 'spectrogram'     \n",
    "x_train_list_spect = transform_data(x_train_list, type_transformation)\n",
    "x_valid_list_spect = transform_data(x_valid_list, type_transformation)"
   ]
  },
  {
   "cell_type": "code",
   "execution_count": 77,
   "metadata": {},
   "outputs": [
    {
     "data": {
      "text/plain": [
       "<tf.Tensor: shape=(63, 128), dtype=float32, numpy=\n",
       "array([[ 0.        ,  0.34366196,  7.977546  , ...,  1.1113579 ,\n",
       "         0.28673288,  0.48580346],\n",
       "       [ 0.        ,  0.31705067,  7.3598084 , ...,  0.75905925,\n",
       "         0.23374353,  0.24977933],\n",
       "       [ 0.        ,  0.4627367 , 10.74167   , ...,  0.91965854,\n",
       "         0.6500945 ,  0.34183088],\n",
       "       ...,\n",
       "       [ 0.        ,  0.0923989 ,  2.1448882 , ...,  1.2041254 ,\n",
       "         2.0746644 ,  0.97043043],\n",
       "       [ 0.        ,  0.3174775 ,  7.369717  , ...,  1.2924914 ,\n",
       "         1.6624105 ,  0.5849212 ],\n",
       "       [ 0.        ,  0.48789415, 11.325658  , ...,  1.2467413 ,\n",
       "         1.4814098 ,  0.63983554]], dtype=float32)>"
      ]
     },
     "execution_count": 77,
     "metadata": {},
     "output_type": "execute_result"
    }
   ],
   "source": [
    "x_train_list_spect[0]"
   ]
  },
  {
   "cell_type": "code",
   "execution_count": 98,
   "metadata": {},
   "outputs": [
    {
     "data": {
      "text/plain": [
       "array([-0.01709157, -0.02160215, -0.02275129, ..., -0.00298083,\n",
       "       -0.0013864 ,  0.        ], dtype=float32)"
      ]
     },
     "execution_count": 98,
     "metadata": {},
     "output_type": "execute_result"
    }
   ],
   "source": [
    "import librosa \n",
    "import librosa.display \n",
    "import matplotlib.pyplot as plt\n",
    "\n",
    "file_path = 'data/train/ollie/ecoguns2.wav'\n",
    "scale, sr = librosa.load(file_path)\n",
    "scale"
   ]
  },
  {
   "cell_type": "code",
   "execution_count": 137,
   "metadata": {},
   "outputs": [],
   "source": [
    "filter_banks = librosa.filters.mel(n_fft=256, sr = sr)"
   ]
  },
  {
   "cell_type": "code",
   "execution_count": 138,
   "metadata": {},
   "outputs": [
    {
     "data": {
      "text/plain": [
       "(128, 129)"
      ]
     },
     "execution_count": 138,
     "metadata": {},
     "output_type": "execute_result"
    }
   ],
   "source": [
    "filter_banks.shape"
   ]
  },
  {
   "cell_type": "code",
   "execution_count": 139,
   "metadata": {},
   "outputs": [
    {
     "data": {
      "image/png": "[encoded data removed]",
      "text/plain": [
       "<Figure size 2500x1000 with 2 Axes>"
      ]
     },
     "metadata": {},
     "output_type": "display_data"
    }
   ],
   "source": [
    "plt.figure(figsize=(25,10))\n",
    "librosa.display.specshow(filter_banks, sr = sr, x_axis = \"linear\")\n",
    "plt.colorbar(format = \"%+2.f\")\n",
    "plt.show()"
   ]
  },
  {
   "cell_type": "code",
   "execution_count": 140,
   "metadata": {},
   "outputs": [
    {
     "name": "stderr",
     "output_type": "stream",
     "text": [
      "/var/folders/bz/rfsj8qqx5zsg0g1p0xdb1fkw0000gn/T/ipykernel_73433/4005028692.py:1: FutureWarning: Pass y=[-0.01709157 -0.02160215 -0.02275129 ... -0.00298083 -0.0013864\n",
      "  0.        ] as keyword args. From version 0.10 passing these as positional arguments will result in an error\n",
      "  mel_spectrogram = librosa.feature.melspectrogram(scale, sr = sr, n_fft = 256, hop_length=128, n_mels = 128)\n"
     ]
    },
    {
     "data": {
      "text/plain": [
       "numpy.ndarray"
      ]
     },
     "execution_count": 140,
     "metadata": {},
     "output_type": "execute_result"
    }
   ],
   "source": [
    "mel_spectrogram = librosa.feature.melspectrogram(scale, sr = sr, n_fft = 256, hop_length=128, n_mels = 128)\n",
    "type(mel_spectrogram)"
   ]
  },
  {
   "cell_type": "code",
   "execution_count": 141,
   "metadata": {},
   "outputs": [
    {
     "data": {
      "text/plain": [
       "numpy.ndarray"
      ]
     },
     "execution_count": 141,
     "metadata": {},
     "output_type": "execute_result"
    }
   ],
   "source": [
    "type(mel_spectrogram)\n",
    "log_mel_spectogram = librosa.power_to_db(mel_spectrogram)\n",
    "type(log_mel_spectogram)"
   ]
  },
  {
   "attachments": {},
   "cell_type": "markdown",
   "metadata": {},
   "source": [
    "# My code"
   ]
  },
  {
   "cell_type": "code",
   "execution_count": 101,
   "metadata": {},
   "outputs": [
    {
     "data": {
      "text/plain": [
       "<tf.Tensor: shape=(9237,), dtype=float32, numpy=\n",
       "array([-0.01766968, -0.02093506, -0.01580811, ..., -0.0088501 ,\n",
       "       -0.01022339, -0.00320435], dtype=float32)>"
      ]
     },
     "execution_count": 101,
     "metadata": {},
     "output_type": "execute_result"
    }
   ],
   "source": [
    "file_contents = tf.io.read_file(file_path) #retuns a string \n",
    "wave, _ = tf.audio.decode_wav(file_contents, desired_channels=1) # transforms string into actual wav\n",
    "#wave = wave - tf.reduce_mean(wave) # remove the mean \n",
    "#wave = wave / tf.reduce_max(tf.abs(wave)) #normalize \n",
    "wave = tf.squeeze(wave, axis= -1) #removes axis \n",
    "wave"
   ]
  },
  {
   "cell_type": "code",
   "execution_count": 151,
   "metadata": {},
   "outputs": [
    {
     "name": "stdout",
     "output_type": "stream",
     "text": [
      "(71, 128)\n"
     ]
    },
    {
     "data": {
      "text/plain": [
       "tensorflow.python.framework.ops.EagerTensor"
      ]
     },
     "execution_count": 151,
     "metadata": {},
     "output_type": "execute_result"
    }
   ],
   "source": [
    "import tensorflow_io as tfio\n",
    "\n",
    "spectrogram = tf.signal.stft(wave, frame_length=256, frame_step=128)  # Paper: 'Automated detection of gunshots in tropical forests using CNN' \n",
    "    # 2. Obtain the magnitude of the STFT\n",
    "spectrogram = tf.abs(spectrogram)\n",
    "    # 3. Convert to mel-spectrogram \n",
    "sr = 8000 \n",
    "number_mels_filterbanks = 128\n",
    "\n",
    "mel_spectrogram = tfio.audio.melscale(spectrogram, rate=sr, mels=number_mels_filterbanks, fmin=0, fmax=4000) \n",
    "print(mel_spectrogram.shape)\n",
    "log_mel_spectrogram = librosa.power_to_db(mel_spectrogram.numpy())\n",
    "db_mel_spectrogram = tf.convert_to_tensor(log_mel_spectrogram)\n",
    "\n",
    "type(db_mel_spectrogram)"
   ]
  },
  {
   "cell_type": "code",
   "execution_count": 149,
   "metadata": {},
   "outputs": [
    {
     "data": {
      "text/plain": [
       "9237"
      ]
     },
     "execution_count": 149,
     "metadata": {},
     "output_type": "execute_result"
    }
   ],
   "source": [
    "len(wave)"
   ]
  },
  {
   "cell_type": "code",
   "execution_count": 155,
   "metadata": {},
   "outputs": [
    {
     "name": "stderr",
     "output_type": "stream",
     "text": [
      "/var/folders/bz/rfsj8qqx5zsg0g1p0xdb1fkw0000gn/T/ipykernel_73433/204973419.py:1: FutureWarning: Pass y=[-0.01766968 -0.02093506 -0.01580811 ... -0.0088501  -0.01022339\n",
      " -0.00320435] as keyword args. From version 0.10 passing these as positional arguments will result in an error\n",
      "  mfccs = librosa.feature.mfcc(wave.numpy(), n_mfcc = 13, sr = 8000)\n"
     ]
    }
   ],
   "source": [
    "mfccs = librosa.feature.mfcc(wave.numpy(), n_mfcc = 13, sr = 8000)\n",
    "delta_mfccs = librosa.feature.delta(mfccs)\n",
    "delta2_mfccs = librosa.feature.delta(mfccs, order=2)"
   ]
  },
  {
   "cell_type": "code",
   "execution_count": 159,
   "metadata": {},
   "outputs": [
    {
     "data": {
      "text/plain": [
       "numpy.ndarray"
      ]
     },
     "execution_count": 159,
     "metadata": {},
     "output_type": "execute_result"
    }
   ],
   "source": [
    "result = np.concatenate((mfccs, delta_mfccs, delta2_mfccs))\n",
    "type(result)"
   ]
  },
  {
   "cell_type": "code",
   "execution_count": 162,
   "metadata": {},
   "outputs": [
    {
     "data": {
      "text/plain": [
       "13"
      ]
     },
     "execution_count": 162,
     "metadata": {},
     "output_type": "execute_result"
    }
   ],
   "source": [
    "len(mfccs)"
   ]
  },
  {
   "cell_type": "code",
   "execution_count": 161,
   "metadata": {},
   "outputs": [
    {
     "data": {
      "text/plain": [
       "tensorflow.python.framework.ops.EagerTensor"
      ]
     },
     "execution_count": 161,
     "metadata": {},
     "output_type": "execute_result"
    }
   ],
   "source": [
    "temp = tf.convert_to_tensor(result) \n",
    "type(temp)"
   ]
  },
  {
   "cell_type": "code",
   "execution_count": 148,
   "metadata": {},
   "outputs": [
    {
     "data": {
      "text/plain": [
       "<matplotlib.collections.QuadMesh at 0x2c79a99d0>"
      ]
     },
     "execution_count": 148,
     "metadata": {},
     "output_type": "execute_result"
    },
    {
     "data": {
      "image/png": "[encoded data removed]",
      "text/plain": [
       "<Figure size 2500x1000 with 1 Axes>"
      ]
     },
     "metadata": {},
     "output_type": "display_data"
    }
   ],
   "source": [
    "plt.figure(figsize=(25,10))\n",
    "librosa.display.specshow(mfccs, x_axis = 'time', sr = sr)"
   ]
  }
 ],
 "metadata": {
  "kernelspec": {
   "display_name": "bach_thesis_4",
   "language": "python",
   "name": "python3"
  },
  "language_info": {
   "codemirror_mode": {
    "name": "ipython",
    "version": 3
   },
   "file_extension": ".py",
   "mimetype": "text/x-python",
   "name": "python",
   "nbconvert_exporter": "python",
   "pygments_lexer": "ipython3",
   "version": "3.9.16"
  },
  "orig_nbformat": 4
 },
 "nbformat": 4,
 "nbformat_minor": 2
}
